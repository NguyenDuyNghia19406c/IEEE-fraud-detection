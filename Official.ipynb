{
 "cells": [
  {
   "cell_type": "code",
   "execution_count": null,
   "metadata": {
    "colab": {
     "base_uri": "https://localhost:8080/"
    },
    "id": "HxYQhMlMVPk1",
    "outputId": "019a80f2-0b49-498a-add6-74d7edb35ee3"
   },
   "outputs": [
    {
     "name": "stdout",
     "output_type": "stream",
     "text": [
      "Mounted at /content/drive\n"
     ]
    }
   ],
   "source": [
    "from google.colab import drive\n",
    "drive.mount('/content/drive')"
   ]
  },
  {
   "cell_type": "code",
   "execution_count": null,
   "metadata": {
    "id": "WzZ41zkTGEn6"
   },
   "outputs": [],
   "source": [
    "# General imports\n",
    "import numpy as np\n",
    "import pandas as pd\n",
    "import os, warnings, datetime, math\n",
    "\n",
    "from sklearn.preprocessing import LabelEncoder\n",
    "\n",
    "warnings.filterwarnings('ignore')\n",
    "\n",
    "from sklearn import metrics\n",
    "from sklearn.model_selection import train_test_split, KFold, GroupKFold\n",
    "from sklearn.preprocessing import LabelEncoder\n",
    "from sklearn import metrics\n",
    "from sklearn import preprocessing\n",
    "from sklearn.preprocessing import StandardScaler\n",
    "from sklearn.metrics import roc_auc_score\n",
    "from sklearn.metrics import accuracy_score\n",
    "from sklearn.metrics import log_loss\n",
    "from sklearn.metrics import brier_score_loss\n",
    "\n",
    "\n",
    "from sklearn.metrics import roc_curve\n",
    "# from sklearn.metrics import roc_auc_score\n",
    "\n",
    "from catboost import CatBoostClassifier\n",
    "\n",
    "warnings.filterwarnings('ignore')\n",
    "import matplotlib.pyplot as plt\n",
    "\n",
    "from copy import deepcopy\n",
    "from IPython.display import SVG\n",
    "\n",
    "from keras.utils.vis_utils import model_to_dot"
   ]
  },
  {
   "cell_type": "code",
   "execution_count": null,
   "metadata": {
    "colab": {
     "base_uri": "https://localhost:8080/"
    },
    "id": "zVIaMVjrIgvU",
    "outputId": "50b7aa15-ebce-49ba-98d6-0905f9f38a3c"
   },
   "outputs": [
    {
     "name": "stdout",
     "output_type": "stream",
     "text": [
      "Collecting catboost\n",
      "  Downloading catboost-1.0.4-cp37-none-manylinux1_x86_64.whl (76.1 MB)\n",
      "\u001b[K     |████████████████████████████████| 76.1 MB 51 kB/s \n",
      "\u001b[?25hRequirement already satisfied: matplotlib in /usr/local/lib/python3.7/dist-packages (from catboost) (3.2.2)\n",
      "Requirement already satisfied: numpy>=1.16.0 in /usr/local/lib/python3.7/dist-packages (from catboost) (1.21.5)\n",
      "Requirement already satisfied: scipy in /usr/local/lib/python3.7/dist-packages (from catboost) (1.4.1)\n",
      "Requirement already satisfied: plotly in /usr/local/lib/python3.7/dist-packages (from catboost) (5.5.0)\n",
      "Requirement already satisfied: six in /usr/local/lib/python3.7/dist-packages (from catboost) (1.15.0)\n",
      "Requirement already satisfied: pandas>=0.24.0 in /usr/local/lib/python3.7/dist-packages (from catboost) (1.3.5)\n",
      "Requirement already satisfied: graphviz in /usr/local/lib/python3.7/dist-packages (from catboost) (0.10.1)\n",
      "Requirement already satisfied: python-dateutil>=2.7.3 in /usr/local/lib/python3.7/dist-packages (from pandas>=0.24.0->catboost) (2.8.2)\n",
      "Requirement already satisfied: pytz>=2017.3 in /usr/local/lib/python3.7/dist-packages (from pandas>=0.24.0->catboost) (2018.9)\n",
      "Requirement already satisfied: pyparsing!=2.0.4,!=2.1.2,!=2.1.6,>=2.0.1 in /usr/local/lib/python3.7/dist-packages (from matplotlib->catboost) (3.0.7)\n",
      "Requirement already satisfied: kiwisolver>=1.0.1 in /usr/local/lib/python3.7/dist-packages (from matplotlib->catboost) (1.3.2)\n",
      "Requirement already satisfied: cycler>=0.10 in /usr/local/lib/python3.7/dist-packages (from matplotlib->catboost) (0.11.0)\n",
      "Requirement already satisfied: tenacity>=6.2.0 in /usr/local/lib/python3.7/dist-packages (from plotly->catboost) (8.0.1)\n",
      "Installing collected packages: catboost\n",
      "Successfully installed catboost-1.0.4\n"
     ]
    }
   ],
   "source": [
    "!pip install catboost"
   ]
  },
  {
   "cell_type": "markdown",
   "metadata": {
    "id": "J1KFQjcEGaFX"
   },
   "source": [
    "# Minification"
   ]
  },
  {
   "cell_type": "code",
   "execution_count": null,
   "metadata": {
    "id": "-tzQird7Gd-E"
   },
   "outputs": [],
   "source": [
    "########################### Helpers\n",
    "#################################################################################\n",
    "## -------------------\n",
    "## Memory Reducer\n",
    "# :df pandas dataframe to reduce size             # type: pd.DataFrame()\n",
    "# :verbose                                        # type: bool\n",
    "def reduce_mem_usage(df, verbose=True):\n",
    "    numerics = ['int16', 'int32', 'int64', 'float16', 'float32', 'float64']\n",
    "    start_mem = df.memory_usage().sum() / 1024**2    \n",
    "    for col in df.columns:\n",
    "        col_type = df[col].dtypes\n",
    "        if col_type in numerics:\n",
    "            c_min = df[col].min()\n",
    "            c_max = df[col].max()\n",
    "            if str(col_type)[:3] == 'int':\n",
    "                if c_min > np.iinfo(np.int8).min and c_max < np.iinfo(np.int8).max:\n",
    "                    df[col] = df[col].astype(np.int8)\n",
    "                elif c_min > np.iinfo(np.int16).min and c_max < np.iinfo(np.int16).max:\n",
    "                    df[col] = df[col].astype(np.int16)\n",
    "                elif c_min > np.iinfo(np.int32).min and c_max < np.iinfo(np.int32).max:\n",
    "                    df[col] = df[col].astype(np.int32)\n",
    "                elif c_min > np.iinfo(np.int64).min and c_max < np.iinfo(np.int64).max:\n",
    "                    df[col] = df[col].astype(np.int64)  \n",
    "            else:\n",
    "                if c_min > np.finfo(np.float16).min and c_max < np.finfo(np.float16).max:\n",
    "                    df[col] = df[col].astype(np.float16)\n",
    "                elif c_min > np.finfo(np.float32).min and c_max < np.finfo(np.float32).max:\n",
    "                    df[col] = df[col].astype(np.float32)\n",
    "                else:\n",
    "                    df[col] = df[col].astype(np.float64)    \n",
    "    end_mem = df.memory_usage().sum() / 1024**2\n",
    "    if verbose: print('Mem. usage decreased to {:5.2f} Mb ({:.1f}% reduction)'.format(end_mem, 100 * (start_mem - end_mem) / start_mem))\n",
    "    return df\n",
    "## -------------------"
   ]
  },
  {
   "cell_type": "code",
   "execution_count": null,
   "metadata": {
    "id": "prhb07irGsiO"
   },
   "outputs": [],
   "source": [
    "########################### DATA LOAD\n",
    "#################################################################################\n",
    "print('Load Data')\n",
    "train_df = pd.read_csv('../input/ieeefrauddetectionorigindataset/train_transaction.csv')\n",
    "test_df = pd.read_csv('../input/ieeefrauddetectionorigindataset/test_transaction.csv')\n",
    "test_df['isFraud'] = 0\n",
    "\n",
    "train_identity = pd.read_csv('../input/ieeefrauddetectionorigindataset/train_identity.csv')\n",
    "test_identity = pd.read_csv('../input/ieeefrauddetectionorigindataset/test_identity.csv')"
   ]
  },
  {
   "cell_type": "code",
   "execution_count": null,
   "metadata": {
    "id": "8W4i0qwvGtFD"
   },
   "outputs": [],
   "source": [
    "pd.set_option('display.max_columns', None)"
   ]
  },
  {
   "cell_type": "code",
   "execution_count": null,
   "metadata": {
    "id": "U-w9Q3PlGwSL"
   },
   "outputs": [],
   "source": [
    "# Rename the id col in \n",
    "new_cols = [x.replace('_', '-') for x in train_identity.columns if 'id' in x]\n",
    "new_cols\n",
    "train_identity.rename(columns=dict(zip([x for x in train_identity.columns if 'id' in x], new_cols)), inplace=True)"
   ]
  },
  {
   "cell_type": "code",
   "execution_count": null,
   "metadata": {
    "id": "hQKzJCy_GywK"
   },
   "outputs": [],
   "source": [
    "########################### Base check\n",
    "#################################################################################\n",
    "\n",
    "for df in [train_df, test_df, train_identity, test_identity]:\n",
    "    original = df.copy()\n",
    "    df = reduce_mem_usage(df)\n",
    "\n",
    "    for col in list(df):\n",
    "        if df[col].dtype!='O':\n",
    "            if (df[col]-original[col]).sum()!=0:\n",
    "                df[col] = original[col]\n",
    "                print('Bad transformation', col)"
   ]
  },
  {
   "cell_type": "code",
   "execution_count": null,
   "metadata": {
    "id": "YO074A8DG1IN"
   },
   "outputs": [],
   "source": [
    "# Watch the overview of dataset\n",
    "for df in [train_identity]:\n",
    "    for col, values in df.iteritems():\n",
    "        num_uniques = values.nunique()\n",
    "        print ('{name}: {num_unique}'.format(name=col, num_unique=num_uniques))\n",
    "        print (values.unique())\n",
    "        print ('\\n')\n",
    "    print('-'*50)"
   ]
  },
  {
   "cell_type": "code",
   "execution_count": null,
   "metadata": {
    "id": "cJQieteGG41f"
   },
   "outputs": [],
   "source": [
    "########################### card4, card6, ProductCD\n",
    "#################################################################################\n",
    "# Converting Strings to ints(or floats if nan in column) using frequency encoding\n",
    "# We will be able to use these columns as category or as numerical feature\n",
    "\n",
    "for col in ['card4', 'card6', 'ProductCD']:\n",
    "    print('Encoding', col)\n",
    "    temp_df = pd.concat([train_df[[col]], test_df[[col]]])\n",
    "    col_encoded = temp_df[col].value_counts().to_dict()   \n",
    "    train_df[col] = train_df[col].map(col_encoded)\n",
    "    test_df[col]  = test_df[col].map(col_encoded)\n",
    "    print(col_encoded)"
   ]
  },
  {
   "cell_type": "code",
   "execution_count": null,
   "metadata": {
    "id": "ointmRYdG60d"
   },
   "outputs": [],
   "source": [
    "########################### M columns\n",
    "#################################################################################\n",
    "# Converting Strings to ints(or floats if nan in column)\n",
    "\n",
    "for col in ['M1','M2','M3','M5','M6','M7','M8','M9']:\n",
    "    train_df[col] = train_df[col].map({'T':1, 'F':0})\n",
    "    test_df[col]  = test_df[col].map({'T':1, 'F':0})\n",
    "\n",
    "for col in ['M4']:\n",
    "    print('Encoding', col)\n",
    "    temp_df = pd.concat([train_df[[col]], test_df[[col]]])\n",
    "    col_encoded = temp_df[col].value_counts().to_dict()   \n",
    "    train_df[col] = train_df[col].map(col_encoded)\n",
    "    test_df[col]  = test_df[col].map(col_encoded)\n",
    "    print(col_encoded)"
   ]
  },
  {
   "cell_type": "code",
   "execution_count": null,
   "metadata": {
    "id": "1Yiq2bHQG9BR"
   },
   "outputs": [],
   "source": [
    "########################### Identity columns\n",
    "#################################################################################\n",
    "\n",
    "# id-30: OS type\n",
    "# id-31: browser\n",
    "# id-33: monitor's size\n",
    "# id-34: (match_status:1)\n",
    "\n",
    "\n",
    "\n",
    "def minify_identity_df(df):\n",
    "\n",
    "    df['id-12'] = df['id-12'].map({'Found':1, 'NotFound':0})\n",
    "    df['id-15'] = df['id-15'].map({'New':2, 'Found':1, 'Unknown':0})\n",
    "    df['id-16'] = df['id-16'].map({'Found':1, 'NotFound':0})\n",
    "\n",
    "    df['id-23'] = df['id-23'].map({'IP_PROXY:TRANSPARENT':3, 'IP_PROXY:ANONYMOUS':2, 'IP_PROXY:HIDDEN':1})\n",
    "\n",
    "    df['id-27'] = df['id-27'].map({'Found':1, 'NotFound':0})\n",
    "    df['id-28'] = df['id-28'].map({'New':2, 'Found':1})\n",
    "\n",
    "    df['id-29'] = df['id-29'].map({'Found':1, 'NotFound':0})\n",
    "\n",
    "    df['id-35'] = df['id-35'].map({'T':1, 'F':0})\n",
    "    df['id-36'] = df['id-36'].map({'T':1, 'F':0})\n",
    "    df['id-37'] = df['id-37'].map({'T':1, 'F':0})\n",
    "    df['id-38'] = df['id-38'].map({'T':1, 'F':0})\n",
    "\n",
    "    df['id-34'] = df['id-34'].fillna(':0')\n",
    "    df['id-34'] = df['id-34'].apply(lambda x: x.split(':')[1]).astype(np.int8)\n",
    "    df['id-34'] = np.where(df['id-34']==0, np.nan, df['id-34'])\n",
    "    \n",
    "    df['id-33'] = df['id-33'].fillna('0x0')\n",
    "    df['id-33-0'] = df['id-33'].apply(lambda x: x.split('x')[0]).astype(int)\n",
    "    df['id-33-1'] = df['id-33'].apply(lambda x: x.split('x')[1]).astype(int)\n",
    "    df['id-33'] = np.where(df['id-33']=='0x0', np.nan, df['id-33'])\n",
    "\n",
    "    df['DeviceType'].map({'desktop':1, 'mobile':0})\n",
    "    return df"
   ]
  },
  {
   "cell_type": "code",
   "execution_count": null,
   "metadata": {
    "id": "1KZoJxXwG-kH"
   },
   "outputs": [],
   "source": [
    "train_identity = minify_identity_df(train_identity)\n",
    "test_identity = minify_identity_df(test_identity)"
   ]
  },
  {
   "cell_type": "code",
   "execution_count": null,
   "metadata": {
    "id": "RCwazS8LHAC4"
   },
   "outputs": [],
   "source": [
    "# Encode the id-33 which is the col that describes the monitor's size\n",
    "\n",
    "for col in ['id-33']:\n",
    "    train_identity[col] = train_identity[col].fillna('unseen_before_label')\n",
    "    test_identity[col]  = test_identity[col].fillna('unseen_before_label')\n",
    "    \n",
    "    le = LabelEncoder()\n",
    "    le.fit(list(train_identity[col])+list(test_identity[col]))\n",
    "    train_identity[col] = le.transform(train_identity[col])\n",
    "    test_identity[col]  = le.transform(test_identity[col])"
   ]
  },
  {
   "cell_type": "code",
   "execution_count": null,
   "metadata": {
    "id": "gPE2Og3xHBsZ"
   },
   "outputs": [],
   "source": [
    "########################### Final check\n",
    "#################################################################################\n",
    "\n",
    "for df in [train_df, test_df, train_identity, test_identity]:\n",
    "    original = df.copy()\n",
    "    df = reduce_mem_usage(df)\n",
    "\n",
    "    for col in list(df):\n",
    "        if df[col].dtype!='O':\n",
    "            if (df[col]-original[col]).sum()!=0:\n",
    "                df[col] = original[col]\n",
    "                print('Bad transformation', col)"
   ]
  },
  {
   "cell_type": "code",
   "execution_count": null,
   "metadata": {
    "id": "_zwYY6W2HEBx"
   },
   "outputs": [],
   "source": [
    "########################### Full minification for fast tests\n",
    "#################################################################################\n",
    "for df in [train_df, test_df, train_identity, test_identity]:\n",
    "    df = reduce_mem_usage(df)"
   ]
  },
  {
   "cell_type": "code",
   "execution_count": null,
   "metadata": {
    "id": "S_uAOlxxHFpI"
   },
   "outputs": [],
   "source": [
    "########################### Export\n",
    "#################################################################################\n",
    "\n",
    "train_df.to_pickle('train_transaction.pkl')\n",
    "test_df.to_pickle('test_transaction.pkl')\n",
    "\n",
    "train_identity.to_pickle('train_identity.pkl')\n",
    "test_identity.to_pickle('test_identity.pkl')"
   ]
  },
  {
   "cell_type": "markdown",
   "metadata": {
    "id": "BrC9Rd4WHGIJ"
   },
   "source": [
    "# FE with EDA"
   ]
  },
  {
   "cell_type": "code",
   "execution_count": null,
   "metadata": {
    "id": "-9fP6GSPHL_y"
   },
   "outputs": [],
   "source": []
  },
  {
   "cell_type": "markdown",
   "metadata": {
    "id": "gPkxRLI8Hbov"
   },
   "source": [
    "# Detecting clients"
   ]
  },
  {
   "cell_type": "markdown",
   "metadata": {
    "id": "3SqTNOnPNfk3"
   },
   "source": [
    "## Finding cardID"
   ]
  },
  {
   "cell_type": "code",
   "execution_count": null,
   "metadata": {
    "id": "-ug4RMjRHidF"
   },
   "outputs": [],
   "source": [
    "train = train_transaction.merge(train_id, how='left', left_on='TransactionID',right_on='TransactionID')"
   ]
  },
  {
   "cell_type": "code",
   "execution_count": null,
   "metadata": {
    "id": "O8W0Ssi_Ks7p"
   },
   "outputs": [],
   "source": [
    "import math, itertools\n",
    "def keygroup(df, cols, name_new_col):\n",
    "  df.loc[:, name_new_col] = ''\n",
    "  for col in cols:\n",
    "    df.loc[:, name_new_col] += df.loc[:, col].astype(str)\n",
    "  return df\n",
    "\n",
    "def truncate(f, n):\n",
    "    return math.floor(f * 10 ** n) / 10 ** n  \n",
    "\n",
    "train['day'] = train['TransactionDT']/(3600*24)\n",
    "train['D1minusday'] = (train['D1'] - train['day']).replace(np.nan, -9999).map(int)\n",
    "colsID = ['card1','card2','card3','card4','card5','card6','D1minusday','ProductCD']\n",
    "train = keygroup(train, colsID, 'cardID_D1')\n",
    "\n",
    "# full_df = pd.concat([train, test]).reset_index(drop=True)"
   ]
  },
  {
   "cell_type": "code",
   "execution_count": null,
   "metadata": {
    "id": "3dIhiXhuKy5T"
   },
   "outputs": [],
   "source": [
    "cardGroups_df = pd.DataFrame({'cardGroup_name':temp.index, 'counts':temp.values})"
   ]
  },
  {
   "cell_type": "code",
   "execution_count": null,
   "metadata": {
    "id": "6nGWqUu3K0IO"
   },
   "outputs": [],
   "source": [
    "train['V307'] = train['V307'].fillna(0)\n",
    "train['V307plus'] = train['V307'] + train['TransactionAmt']"
   ]
  },
  {
   "cell_type": "code",
   "execution_count": null,
   "metadata": {
    "id": "HOwqYpMvK4u0"
   },
   "outputs": [],
   "source": [
    "# check the first value of the list\n",
    "train.loc[(train.TransactionID==3030465),'V307'].values[0] == train.loc[(train.TransactionID==3026025),'V307plus'].values[0]"
   ]
  },
  {
   "cell_type": "code",
   "execution_count": null,
   "metadata": {
    "id": "ISwaKbm_K6HN"
   },
   "outputs": [],
   "source": [
    "# After many iterations, trial and errors, I ended-up with the following function, grouping based on:\n",
    "train['V307trunc'] = train['V307'].apply(lambda x: truncate(x, 3))\n",
    "train['V307round'] = train['V307'].apply(lambda x: round(x, 3))\n",
    "train['V307plusround'] = train['V307plus'].apply(lambda x: round(x, 4))\n",
    "train['V307plusroundtrunc'] = train['V307plusround'].apply(lambda x: truncate(x, 3))\n",
    "train['V307plusround'] = train['V307plus'].apply(lambda x: round(x, 3))\n",
    "train['V307trunc2'] = train['V307'].apply(lambda x: truncate(x, 2))\n",
    "train['V307plustrunc2'] = train['V307plus'].apply(lambda x: truncate(x, 2))\n",
    "train['TransactionAmttrunq'] = train['TransactionAmt'].apply(lambda x: round(x, 3))\n",
    "train['V307plusround2'] = train['V307plus'].apply(lambda x: round(x, 2))"
   ]
  },
  {
   "cell_type": "code",
   "execution_count": null,
   "metadata": {
    "id": "OgEak0jKK_xV"
   },
   "outputs": [],
   "source": [
    "def merge(list1, list2): \n",
    "  merged_list = [[p1, p2] for idx1, p1 in enumerate(list1)  \n",
    "  for idx2, p2 in enumerate(list2) if idx1 == idx2] \n",
    "  return merged_list  "
   ]
  },
  {
   "cell_type": "code",
   "execution_count": null,
   "metadata": {
    "id": "x4cpaBMvLCD6"
   },
   "outputs": [],
   "source": [
    "import networkx as nx\n",
    "def find_groups(aa):\n",
    "  group_list = []\n",
    "    \n",
    "    \n",
    "  #get the couples by existstrunc\n",
    "  list1 = aa['V307plustrunc2'].tolist()\n",
    "  list2 = aa['V307trunc2'].tolist()\n",
    "  kv = []\n",
    "  res = [[list(filter(lambda z: list1[z]==x, range(len(list1)))),list(filter(lambda z: list2[z]==x, range(len(list2))))] for x in list1 if x in list2] #find the pairs\n",
    "  res= [list(map(kv.append,map(list,(itertools.product(*sublist))))) for sublist in res] #drop duplicates from list of list\n",
    "  res = list(map(list, set(map(lambda i: tuple(i), kv)))) #create list of couple indexes\n",
    "  list1 = aa.iloc[[i[0] for i in res]]['TransactionID'].tolist()\n",
    "  list2 = aa.iloc[[i[1] for i in res]]['TransactionID'].tolist()\n",
    "  liste_existstrun = merge(list1, list2)\n",
    "\n",
    "  #get the couples by existsroundtrunc\n",
    "  list1 = aa['V307plusround2'].tolist()\n",
    "  list2 = aa['V307trunc2'].tolist()\n",
    "  kv = []\n",
    "  res = [[list(filter(lambda z: list1[z]==x, range(len(list1)))),list(filter(lambda z: list2[z]==x, range(len(list2))))] for x in list1 if x in list2] #find the pairs\n",
    "  res= [list(map(kv.append,map(list,(itertools.product(*sublist))))) for sublist in res] #drop duplicates from list of list\n",
    "  res = list(map(list, set(map(lambda i: tuple(i), kv)))) #create list of couple indexes\n",
    "  list1 = aa.iloc[[i[0] for i in res]]['TransactionID'].tolist()\n",
    "  list2 = aa.iloc[[i[1] for i in res]]['TransactionID'].tolist()\n",
    "  liste_existstrun2 = merge(list1, list2)\n",
    "\n",
    "  #get the couples by existsroundtrunc\n",
    "  list1 = aa['V307plusroundtrunc'].tolist()\n",
    "  list2 = aa['V307round'].tolist()\n",
    "  kv = []\n",
    "  res = [[list(filter(lambda z: list1[z]==x, range(len(list1)))),list(filter(lambda z: list2[z]==x, range(len(list2))))] for x in list1 if x in list2] #find the pairs\n",
    "  res= [list(map(kv.append,map(list,(itertools.product(*sublist))))) for sublist in res] #drop duplicates from list of list\n",
    "  res = list(map(list, set(map(lambda i: tuple(i), kv)))) #create list of couple indexes\n",
    "  list1 = aa.iloc[[i[0] for i in res]]['TransactionID'].tolist()\n",
    "  list2 = aa.iloc[[i[1] for i in res]]['TransactionID'].tolist()\n",
    "  liste_existsroundtrunc = merge(list1, list2)\n",
    "\n",
    "  #get the couples by existsroundtrunc\n",
    "  list1 = aa['V307plusround'].tolist()\n",
    "  list2 = aa['V307round'].tolist()\n",
    "  kv = []\n",
    "  res = [[list(filter(lambda z: list1[z]==x, range(len(list1)))),list(filter(lambda z: list2[z]==x, range(len(list2))))] for x in list1 if x in list2] #find the pairs\n",
    "  res= [list(map(kv.append,map(list,(itertools.product(*sublist))))) for sublist in res] #drop duplicates from list of list\n",
    "  res = list(map(list, set(map(lambda i: tuple(i), kv)))) #create list of couple indexes\n",
    "  list1 = aa.iloc[[i[0] for i in res]]['TransactionID'].tolist()\n",
    "  list2 = aa.iloc[[i[1] for i in res]]['TransactionID'].tolist()\n",
    "  liste_existsroundround = merge(list1, list2)\n",
    "\n",
    "  #get the couples by existsamount\n",
    "  list1 = aa['TransactionAmttrunq'].tolist()\n",
    "  list2 = aa['V307round'].tolist()\n",
    "  kv = []\n",
    "  res = [[list(filter(lambda z: list1[z]==x, range(len(list1)))),list(filter(lambda z: list2[z]==x, range(len(list2))))] for x in list1 if x in list2] #find the pairs\n",
    "  res= [list(map(kv.append,map(list,(itertools.product(*sublist))))) for sublist in res] #drop duplicates from list of list\n",
    "  res = list(map(list, set(map(lambda i: tuple(i), kv)))) #create list of couple indexes\n",
    "  list1 = aa.iloc[[i[0] for i in res]]['TransactionID'].tolist()\n",
    "  list2 = aa.iloc[[i[1] for i in res]]['TransactionID'].tolist()\n",
    "  liste_existsamount = merge(list1, list2)\n",
    "\n",
    "  #get by exact same amount\n",
    "  a=[]\n",
    "  liste_sameamount = aa.groupby('TransactionAmt')['TransactionID'].apply(list).tolist()\n",
    "  res = [list(map(a.append, map(list,zip(i, i[1:] + i[:1])))) for i in liste_sameamount]\n",
    "\n",
    "  group_list.extend(liste_existstrun)\n",
    "  group_list.extend(liste_existstrun2)\n",
    "  group_list.extend(liste_existsroundtrunc)\n",
    "  group_list.extend(liste_existsamount)\n",
    "  group_list.extend(liste_existsroundround)\n",
    "\n",
    "  group_list.extend(a)\n",
    "\n",
    "  L = group_list\n",
    "  G = nx.Graph()\n",
    "  G.add_nodes_from(sum(L, []))\n",
    "  q = [[(s[i],s[i+1]) for i in range(len(s)-1)] for s in L]\n",
    "  for i in q:\n",
    "    G.add_edges_from(i)\n",
    "  group_list = [list(i) for i in nx.connected_components(G)]\n",
    "  return group_list"
   ]
  },
  {
   "cell_type": "code",
   "execution_count": null,
   "metadata": {
    "id": "46mIeZFhLG-Y"
   },
   "outputs": [],
   "source": [
    "# Card group valid, which <= 180 transactions\n",
    "# cardGroups_valid_df = cardGroups_df[cardGroups_df['counts']<=180]\n",
    "cardGroups_invalid_df = cardGroups_df[cardGroups_df['counts']>180]\n",
    "\n",
    "# Dictionary of cardID\n",
    "cardID_invalid_dict = {}\n",
    "\n",
    "for name in list(cardGroups_invalid_df.cardGroup_name):\n",
    "  card_group = train[train.cardID_D1==name]\n",
    "  x = find_groups(card_group)\n",
    "  cardID_invalid_dict[name] = x"
   ]
  },
  {
   "cell_type": "code",
   "execution_count": null,
   "metadata": {
    "id": "0LFJCqh9LR13"
   },
   "outputs": [],
   "source": [
    "# The function is used to assign the cardID for each transactionID\n",
    "\n",
    "def assignCardID(df):\n",
    "  for i in range(len(df)):\n",
    "    df.loc[i, 'TransactionID'] = json.loads(df.loc[i, 'TransactionID'])\n",
    "  cardID_dict = {}\n",
    "  cardID_dict[\"TransactionID\"] = []\n",
    "  cardID_dict[\"CardID\"] = []\n",
    "  for i in range(len(df)):\n",
    "    t = df.loc[i, \"TransactionID\"]\n",
    "    for j in range(len(t)):\n",
    "      for k in range(len(t[j])):\n",
    "        cardID_dict[\"TransactionID\"].append(t[j][k])\n",
    "        cardID_dict[\"CardID\"].append(\"group\" + str(i) + \"_\" + str(j))\n",
    "  \n",
    "  return pd.DataFrame(cardID_dict)"
   ]
  },
  {
   "cell_type": "code",
   "execution_count": null,
   "metadata": {
    "id": "VVGV6Uy6MRrD"
   },
   "outputs": [],
   "source": []
  },
  {
   "cell_type": "markdown",
   "metadata": {
    "id": "JHpzpNGpNlzB"
   },
   "source": [
    "## Finding userID"
   ]
  },
  {
   "cell_type": "code",
   "execution_count": null,
   "metadata": {
    "id": "vCUj6SXnNrP5"
   },
   "outputs": [],
   "source": [
    "import pandas as pd\n",
    "import numpy as np\n",
    "\n",
    "import os\n",
    "for dirname, _, filenames in os.walk('/kaggle/input'):\n",
    "    for filename in filenames:\n",
    "        print(os.path.join(dirname, filename))\n",
    "train_transaction = pd.read_pickle('Data/isi-minification/train_transaction.pkl')        \n",
    "train_identity = pd.read_pickle('Data/isi-minification/train_identity.pkl')\n",
    "# test_transaction = pd.read_pickle('Data/isi-minification/test_transaction.pkl')        \n",
    "# test_identity = pd.read_pickle('Data/isi-minification/test_identity.pkl')\n",
    "\n",
    "train_transaction = train_transaction[['TransactionID','TransactionDT','TransactionAmt','ProductCD']]\n",
    "train_identity = train_identity[['TransactionID','id-19','id-20','id-31','DeviceInfo']]\n",
    "# test_transaction = test_transaction[['TransactionID','TransactionDT','TransactionAmt','ProductCD']]\n",
    "# test_identity = test_identity[['TransactionID','id-19','id-20','id-31','DeviceInfo']]\n",
    "\n",
    "# train_transaction = train_transaction.merge(train_identity, how='left', left_on='TransactionID', right_on='TransactionID')\n",
    "test_transaction = test_transaction.merge(test_identity, how='left', left_on='TransactionID', right_on='TransactionID')\n",
    "\n",
    "total = test_transaction.copy()\n",
    "# del train_transaction\n",
    "del test_transaction"
   ]
  },
  {
   "cell_type": "code",
   "execution_count": null,
   "metadata": {
    "id": "1Il00Mx84glO"
   },
   "outputs": [],
   "source": [
    "import itertools\n",
    "import math\n",
    "import networkx as nx\n",
    "\n",
    "def create_key(df, cols, name_new_col):\n",
    "  '''\n",
    "  df: pandas dataframe\n",
    "  cols: list of cols composing the key\n",
    "  name_new_col: name given to the new column\n",
    "  '''\n",
    "  df.loc[:, name_new_col] = ''\n",
    "  for col in cols:\n",
    "    df.loc[:, name_new_col] = df.loc[:, name_new_col] + df.loc[:, col].astype(str)\n",
    "  return df\n",
    "\n",
    "def truncate(f, n):\n",
    "  return math.floor(f*10**n)/10**n\n",
    "\n",
    "def merge(list1, list2):\n",
    "  merged_list = [[p1, p2] for idx1, p1 in enumerate(list1) for idx2, p2 in enumerate(list2) if idx1 == idx2]\n",
    "  return merged_list\n",
    "\n",
    "def find_groups(df, groupingCriteria):\n",
    "  a = []\n",
    "  liste_sameAmount = df.groupby(groupingCriteria)['TransactionID'].apply(list).tolist()\n",
    "  res = [list(map(a.append, map(list,zip(i, i[1:] + i[:1])))) for i in liste_sameAmount]\n",
    "  return a\n",
    "\n"
   ]
  },
  {
   "cell_type": "code",
   "execution_count": null,
   "metadata": {
    "id": "X8pHduxA6EZ3"
   },
   "outputs": [],
   "source": [
    "groups = pd.read_csv('train_valid_card.csv')\n",
    "groups = groups.set_index('TransactionID')\n",
    "dictgroups = groups['CardID'].to_dict()\n",
    "total['cardID'] = total['TransactionID'].map(dictgroups)"
   ]
  },
  {
   "cell_type": "code",
   "execution_count": null,
   "metadata": {
    "id": "NpDQMeVB6IEt"
   },
   "outputs": [],
   "source": [
    "#  filter the valid card\n",
    "total = total[~total['cardID'].isna()]"
   ]
  },
  {
   "cell_type": "code",
   "execution_count": null,
   "metadata": {
    "id": "zfqLR1Cn6Kjm"
   },
   "outputs": [],
   "source": [
    "total['day'] = total['TransactionDT']/(3600*24)\n",
    "total['daytrunc'] = total['day'].apply(lambda x: truncate(x, 1))\n",
    "total['dayround'] = total['day'].apply(lambda x: round(x, 1))\n",
    "total['TransactionAmtround'] = total['TransactionAmt'].apply(lambda x: round(x, 3))"
   ]
  },
  {
   "cell_type": "markdown",
   "metadata": {
    "id": "4O3pnHn36QWO"
   },
   "source": [
    "### Create the first key ['TransactionAmtround', 'id-19', 'id-20']"
   ]
  },
  {
   "cell_type": "code",
   "execution_count": null,
   "metadata": {
    "id": "QhB1kbGS6M1a"
   },
   "outputs": [],
   "source": [
    "cols_1 = ['TransactionID', 'TransactionAmt', 'TransactionAmtround', 'id-19', 'id-20', 'daytrunc', 'dayround', 'day']\n",
    "total1 = total[cols_1].copy()\n",
    "total1 = create_key(total1, ['TransactionAmtround', 'id-19', 'id-20'], '1stGroup_criteria')"
   ]
  },
  {
   "cell_type": "code",
   "execution_count": null,
   "metadata": {
    "id": "TDKyhUTs6Ud_"
   },
   "outputs": [],
   "source": [
    "import gc\n",
    "timeframe = total1.dayround.unique().tolist()\n",
    "group_list_criteria1 = []\n",
    "\n",
    "for frame in timeframe:\n",
    "  if frame%50 == 0:\n",
    "    print('day', frame)\n",
    "    gc.collect()\n",
    "\n",
    "  subset = total1[total1['dayround']==frame].copy()\n",
    "  if len(subset)==1:\n",
    "    group_list_criteria1.append(subset['TransactionID'].tolist())\n",
    "  else:\n",
    "    a = find_groups(subset, '1stGroup_criteria')\n",
    "    group_list_criteria1.extend(a)"
   ]
  },
  {
   "cell_type": "code",
   "execution_count": null,
   "metadata": {
    "id": "gi6M-pC_6WC4"
   },
   "outputs": [],
   "source": [
    "print(len(group_list_criteria1))\n",
    "group_list_criteria1 = [list(tupl) for tupl in {tuple(item) for item in group_list_criteria1}]\n",
    "print(len(group_list_criteria1))"
   ]
  },
  {
   "cell_type": "code",
   "execution_count": null,
   "metadata": {
    "id": "WgTfF5JU6XLR"
   },
   "outputs": [],
   "source": [
    "L = group_list_criteria1\n",
    "G = nx.Graph()\n",
    "\n",
    "G.add_nodes_from(sum(L, []))\n",
    "q = [[(s[i], s[i+1]) for i in range(len(s)-1)] for s in L]\n",
    "for i in q:\n",
    "  G.add_edges_from(i)\n",
    "\n",
    "group_list = [list(i) for i in nx.connected_components(G)]\n",
    "myDict = {}\n",
    "\n",
    "for i in range(0, len(group_list)):\n",
    "  for element in group_list[i]:\n",
    "    name = 'group' + str(i)\n",
    "    myDict[element] = name\n",
    "\n"
   ]
  },
  {
   "cell_type": "code",
   "execution_count": null,
   "metadata": {
    "id": "Iq48F26z6Y-F"
   },
   "outputs": [],
   "source": [
    "import csv\n",
    "\n",
    "with open ('train_groups_Amt-id19-20.csv', 'w') as output:\n",
    "    writer = csv.writer(output)\n",
    "    writer.writerow(['TransactionID','groups_Amt-id19-20'])\n",
    "    for k, v in myDict.items():\n",
    "        writer.writerow([k, v])"
   ]
  },
  {
   "cell_type": "markdown",
   "metadata": {
    "id": "7eppGCXR9Ouv"
   },
   "source": [
    "### Create the second key [['id_19','id_20','id_31','DeviceInfo']]"
   ]
  },
  {
   "cell_type": "code",
   "execution_count": null,
   "metadata": {
    "id": "Y7TktKS59QP4"
   },
   "outputs": [],
   "source": [
    "total1 = total[['TransactionID','id-19','id-20','id-31','DeviceInfo','daytrunc','dayround','day']].copy()\n",
    "total1 = create_key(total1, ['id-19','id-20','id-31','DeviceInfo'],'2ndGroup_criteria')\n",
    "total1 = total1[(total1['id-20'].isna()==False) & (total1['id-19'].isna()==False) & (total1['id-31'].isna()==False)]\n",
    "# this key is too indulgent if we don't get rid of missing id_19 and id_20 as many are missing, but try your experiments to find the best combination"
   ]
  },
  {
   "cell_type": "code",
   "execution_count": null,
   "metadata": {
    "id": "ojg9B6cP9TZo"
   },
   "outputs": [],
   "source": [
    "import gc\n",
    "timeframe = total1.dayround.unique().tolist()\n",
    "group_list_criteria1 = []\n",
    "\n",
    "for frame in timeframe:\n",
    "    if frame%50==0:\n",
    "        print('day',frame)\n",
    "        gc.collect()\n",
    "    \n",
    "    subset = total1[total1['dayround']==frame].copy()\n",
    "    if len(subset)==1:\n",
    "        group_list_criteria1.append(subset['TransactionID'].tolist())\n",
    "    else:\n",
    "        group_list_criteria1.extend(find_groups(subset, '2ndGroup_criteria'))\n",
    "    \n",
    "## Second on Truncated data\n",
    "timeframe = total1.daytrunc.unique().tolist()\n",
    "\n",
    "for frame in timeframe:\n",
    "    if frame%50==0:\n",
    "        print('day',frame)\n",
    "        gc.collect()\n",
    "    \n",
    "    subset = total1[total1['daytrunc']==frame].copy()\n",
    "    if len(subset)==1:\n",
    "        group_list_criteria1.append(subset['TransactionID'].tolist())\n",
    "    else:\n",
    "        group_list_criteria1.extend(find_groups(subset, '2ndGroup_criteria')) "
   ]
  },
  {
   "cell_type": "code",
   "execution_count": null,
   "metadata": {
    "id": "-dw-MpWs9Vuk"
   },
   "outputs": [],
   "source": [
    "print(len(group_list_criteria1))\n",
    "group_list_C_criteria1 = [list(tupl) for tupl in {tuple(item) for item in group_list_criteria1 }]\n",
    "print(len(group_list_criteria1)) "
   ]
  },
  {
   "cell_type": "code",
   "execution_count": null,
   "metadata": {
    "id": "wEOy_f1Q9XCL"
   },
   "outputs": [],
   "source": [
    "L = group_list_C_criteria1\n",
    "G = nx.Graph()\n",
    "\n",
    "G.add_nodes_from(sum(L, []))\n",
    "q = [[(s[i],s[i+1]) for i in range(len(s)-1)] for s in L]\n",
    "for i in q:\n",
    "    G.add_edges_from(i)\n",
    "\n",
    "group_list = [list(i) for i in nx.connected_components(G)]\n",
    "\n",
    "# groupsCid192031Device = pd.DataFrame.from_dict(myDict, orient='index').reset_index()\n",
    "# groupsCid192031Device.columns=['TransactionID','groupsCid192031Device']"
   ]
  },
  {
   "cell_type": "code",
   "execution_count": null,
   "metadata": {
    "id": "OYmhnNXz9Yd_"
   },
   "outputs": [],
   "source": [
    "with open ('train_groups_id19-20-31-Device.csv', 'w') as output:\n",
    "    writer = csv.writer(output)\n",
    "    writer.writerow(['TransactionID','groups_id19-20-31-Device'])\n",
    "    for k, v in myDict.items():\n",
    "        writer.writerow([k, v])"
   ]
  },
  {
   "cell_type": "markdown",
   "metadata": {
    "id": "gDLQ9RXZ-Pgm"
   },
   "source": [
    "### Key3: CardID"
   ]
  },
  {
   "cell_type": "code",
   "execution_count": null,
   "metadata": {
    "id": "T-zUw8SZ-SF8"
   },
   "outputs": [],
   "source": [
    "total1 = total[['TransactionID','day','cardID']].copy()\n",
    "\n",
    "group1 = pd.read_csv('test_groups_Amt-id19-20.csv')\n",
    "group2 = pd.read_csv('test_groups_id19-20-31-Device.csv')\n"
   ]
  },
  {
   "cell_type": "code",
   "execution_count": null,
   "metadata": {
    "id": "DBL_xgUI-Uiz"
   },
   "outputs": [],
   "source": [
    "total1 = total1.merge(group1, how='left',left_on='TransactionID',right_on='TransactionID')\n",
    "total1 = total1.merge(group2, how='left',left_on='TransactionID',right_on='TransactionID')"
   ]
  },
  {
   "cell_type": "code",
   "execution_count": null,
   "metadata": {
    "id": "OPtk9Q5Z-WFF"
   },
   "outputs": [],
   "source": [
    "#imputation\n",
    "total1['imputecol'] = [i for i in range(0,len(total1))]\n",
    "total1.loc[total1['groups_id19-20-31-Device'].isna(), 'groups_id19-20-31-Device'] = total1.loc[total1['groups_id19-20-31-Device'].isna(), 'imputecol']"
   ]
  },
  {
   "cell_type": "code",
   "execution_count": null,
   "metadata": {
    "id": "sWTTJqtE-Xno"
   },
   "outputs": [],
   "source": [
    "groups_final = []\n",
    "groups_final.extend(find_groups(total1, 'cardID'))\n",
    "print('group1done')\n",
    "\n",
    "groups_final.extend(find_groups(total1, 'groups_Amt-id19-20'))\n",
    "print('group2done')\n",
    "\n",
    "groups_final.extend(find_groups(total1, 'groups_id19-20-31-Device'))\n",
    "print('group3done')\n",
    "\n",
    "print(len(groups_final))\n",
    "groups_final = [list(tupl) for tupl in {tuple(item) for item in groups_final }]\n",
    "print(len(groups_final))"
   ]
  },
  {
   "cell_type": "code",
   "execution_count": null,
   "metadata": {
    "id": "J1Lqi_ee-aLo"
   },
   "outputs": [],
   "source": [
    "L = groups_final\n",
    "G = nx.Graph()\n",
    "\n",
    "G.add_nodes_from(sum(L, []))\n",
    "q = [[(s[i],s[i+1]) for i in range(len(s)-1)] for s in L]\n",
    "for i in q:\n",
    "    G.add_edges_from(i)\n",
    "\n",
    "group_list = [list(i) for i in nx.connected_components(G)]\n",
    "\n",
    "myDict = {}\n",
    "\n",
    "for i in range(0,len(group_list)):\n",
    "    for element in group_list[i]:\n",
    "        name='group'+str(i)\n",
    "        myDict[element] = name\n",
    "    \n",
    "groupsUser = pd.DataFrame.from_dict(myDict, orient='index').reset_index()\n",
    "groupsUser.columns=['TransactionID','groupsUser']\n",
    "groupsUser.to_csv('groupsUser_train.csv',index=False)"
   ]
  },
  {
   "cell_type": "code",
   "execution_count": null,
   "metadata": {
    "id": "4pvImzuy-gd3"
   },
   "outputs": [],
   "source": [
    "train_transaction = pd.read_csv('Data/Original_data/train_transaction.csv')        \n",
    "train_identity = pd.read_csv('Data/Original_data/train_identity.csv')\n",
    "\n",
    "train_transaction = train_transaction[['TransactionID','TransactionDT','TransactionAmt','ProductCD']]\n",
    "train_identity = train_identity[['TransactionID','id-19','id-20','id-31','DeviceInfo']]\n",
    "\n",
    "total = train_transaction.merge(train_identity, how='left', left_on='TransactionID', right_on='TransactionID')\n",
    "\n",
    "# total = total[total.ProductCD=='C']\n",
    "del train_transaction"
   ]
  },
  {
   "cell_type": "code",
   "execution_count": null,
   "metadata": {
    "id": "1eSe8CbE-uWB"
   },
   "outputs": [],
   "source": [
    "#cardID\n",
    "groups = pd.read_csv('train_valid_card.csv')\n",
    "groups = groups.set_index('TransactionID')\n",
    "dictgroups = groups['CardID'].to_dict()\n",
    "total['cardID'] = total['TransactionID'].map(dictgroups)\n",
    "\n",
    "#New User group\n",
    "total = total.merge(groupsUser, how='left',left_on='TransactionID',right_on='TransactionID')"
   ]
  },
  {
   "cell_type": "code",
   "execution_count": null,
   "metadata": {
    "id": "j2Jb0RDo-yBf"
   },
   "outputs": [],
   "source": [
    "total['CardIDcount'] = total['cardID'].map(total.cardID.value_counts())\n",
    "total['CardID_fraud_sum'] = total['cardID'].map(total.groupby('cardID')['isFraud'].sum())\n",
    "\n",
    "total['UserIDcount'] = total['groupsUser'].map(total.groupsUser.value_counts())\n",
    "total['UserID_fraud_sum'] = total['cardID'].map(total.groupby('cardID')['isFraud'].sum())"
   ]
  },
  {
   "cell_type": "code",
   "execution_count": null,
   "metadata": {
    "id": "p-jT8LzX-zOi"
   },
   "outputs": [],
   "source": [
    "total.to_csv('checkgroups_train_v1.csv',index=False)"
   ]
  },
  {
   "cell_type": "markdown",
   "metadata": {
    "id": "eV4Q-4pxO72l"
   },
   "source": [
    "## Split clients"
   ]
  },
  {
   "cell_type": "code",
   "execution_count": null,
   "metadata": {
    "id": "1V1OLB1APC_O"
   },
   "outputs": [],
   "source": [
    "groupsUser = pd.read_csv('groupsUser_train.csv', index_col='TransactionID')\n",
    "transaction = pd.read_pickle('minification/train_transaction.pkl')\n",
    "groupsUser = groupsUser['groupsUser'].to_dict()\n",
    "transaction['groupsUser'] = transaction['TransactionID'].map(groupsUser)\n",
    "\n",
    "# filter the transaction which does not has groupUser\n",
    "transaction = transaction[~transaction['groupsUser'].isna()]\n",
    "label_dict = transaction['isFraud'].to_dict()\n"
   ]
  },
  {
   "cell_type": "code",
   "execution_count": null,
   "metadata": {
    "id": "aGTCZgvRQ2_U"
   },
   "outputs": [],
   "source": [
    "y = transaction[['isFraud']]\n",
    "X = transaction[[col for col in list(transaction.columns) if col != 'isFraud']]\n",
    "\n",
    "del transaction"
   ]
  },
  {
   "cell_type": "code",
   "execution_count": null,
   "metadata": {
    "id": "tKfwNeDnPSt7"
   },
   "outputs": [],
   "source": [
    "from sklearn.model_selection import train_test_split\n",
    "\n",
    "# split into train test sets, random_state param controls the sample suffling\n",
    "# RANDOM_STATE = 111\n",
    "X_train, X_test, y_train, y_test = train_test_split(X, y, test_size=0.33, random_state=111)\n",
    "print(X_train.shape, X_test.shape, y_train.shape, y_test.shape)"
   ]
  },
  {
   "cell_type": "code",
   "execution_count": null,
   "metadata": {
    "id": "r_4UGFZ4PdeI"
   },
   "outputs": [],
   "source": [
    "known_train = X_train[X_train['groupsUser'].isin(X_test['groupsUser'])]\n",
    "unknown_train = X_train[~X_train['groupsUser'].isin(X_test['groupsUser'])]\n",
    "known_test = X_test[X_test['groupsUser'].isin(X_train['groupsUser'])]\n",
    "unknown_test = X_test[~X_test['groupsUser'].isin(X_train['groupsUser'])]\n",
    "\n",
    "known_train['isFraud'] = known_train['TransactionID'].map(label_dict)\n",
    "unknown_train['isFraud'] = unknown_train['TransactionID'].map(label_dict)\n",
    "known_test['isFraud'] = known_test['TransactionID'].map(label_dict)\n",
    "unknown_test['isFraud'] = unknown_test['TransactionID'].map(label_dict)"
   ]
  },
  {
   "cell_type": "code",
   "execution_count": null,
   "metadata": {
    "id": "KRKnXOC8Phd-"
   },
   "outputs": [],
   "source": [
    "known_train.to_csv('clients/known_train.csv')\n",
    "unknown_train.to_csv('clients/unknown_train.csv')\n",
    "known_test.to_csv('clients/known_test.csv')\n",
    "unknown_test.to_csv('clients/unknown_test.csv')"
   ]
  },
  {
   "cell_type": "markdown",
   "metadata": {
    "id": "Ity4t0kOXI6T"
   },
   "source": [
    "# Model"
   ]
  },
  {
   "cell_type": "markdown",
   "metadata": {
    "id": "EsQ5yDs7Xqtw"
   },
   "source": [
    "## Neural networks"
   ]
  },
  {
   "cell_type": "code",
   "execution_count": null,
   "metadata": {
    "id": "_nHViJT3XvTs"
   },
   "outputs": [],
   "source": [
    "train_transaction = pd.read_csv('/content/drive/Shareddrives/NCKH2021/Data/[ISI]Clients/unknown_train.csv')\n",
    "test_transaction = pd.read_csv('/content/drive/Shareddrives/NCKH2021/Data/[ISI]Clients/unknown_test.csv')\n",
    "train_identity = pd.read_csv('/content/drive/Shareddrives/NCKH2021/Data/Original_data/train_identity.csv')\n",
    "test_identity = pd.read_csv('/content/drive/Shareddrives/NCKH2021/Data/Original_data/test_identity.csv')"
   ]
  },
  {
   "cell_type": "code",
   "execution_count": null,
   "metadata": {
    "colab": {
     "base_uri": "https://localhost:8080/"
    },
    "id": "jIPWdUJwYldK",
    "outputId": "dacf3107-8a5b-4225-da3e-0caea6e09c20"
   },
   "outputs": [
    {
     "name": "stdout",
     "output_type": "stream",
     "text": [
      "Train shape : (114294, 437)\n",
      "Test shape  : (46317, 437)\n",
      "Train shape : (114294, 437)\n",
      "Test shape  : (46317, 437)\n"
     ]
    }
   ],
   "source": [
    "# merge \n",
    "train_df = train_transaction.merge(train_identity, how='left', left_index=True, right_index=True)\n",
    "test_df = test_transaction.merge(test_identity, how='left', left_index=True, right_index=True)\n",
    "\n",
    "print(\"Train shape : \"+str(train_df.shape))\n",
    "print(\"Test shape  : \"+str(test_df.shape))# merge \n",
    "train_df = train_transaction.merge(train_identity, how='left', left_index=True, right_index=True)\n",
    "test_df = test_transaction.merge(test_identity, how='left', left_index=True, right_index=True)\n",
    "\n",
    "print(\"Train shape : \"+str(train_df.shape))\n",
    "print(\"Test shape  : \"+str(test_df.shape))"
   ]
  },
  {
   "cell_type": "code",
   "execution_count": null,
   "metadata": {
    "id": "dQTMmMCsYog2"
   },
   "outputs": [],
   "source": [
    "['Unnamed: 0', 'TransactionID_x', 'TransactionID_y']\n",
    "train_df = train_df.drop(['Unnamed: 0', 'TransactionID_y', 'TransactionID_x', 'TransactionDT'], axis=1)\n",
    "test_df = test_df.drop(['Unnamed: 0', 'TransactionID_y', 'TransactionID_x', 'TransactionDT'], axis=1)"
   ]
  },
  {
   "cell_type": "code",
   "execution_count": null,
   "metadata": {
    "id": "3fAfbfdNYqgb"
   },
   "outputs": [],
   "source": [
    "# Rename the id col in \n",
    "new_cols = [x.replace('-', '_') for x in test_df.columns if 'id' in x]\n",
    "new_cols\n",
    "test_df.rename(columns=dict(zip([x for x in test_df.columns if 'id' in x], new_cols)), inplace=True)\n",
    "\n",
    "del train_transaction, train_identity, test_transaction, test_identity"
   ]
  },
  {
   "cell_type": "code",
   "execution_count": null,
   "metadata": {
    "id": "b7pSO_S3Y0YH"
   },
   "outputs": [],
   "source": [
    "cols = list(train_df.columns)\n",
    "cols_0_V = cols[:53] + ['isFraud']"
   ]
  },
  {
   "cell_type": "code",
   "execution_count": null,
   "metadata": {
    "colab": {
     "base_uri": "https://localhost:8080/",
     "height": 206
    },
    "id": "UAHsdbFLJIwz",
    "outputId": "dd5ebc4b-c16e-4518-8789-7e8d2c932208"
   },
   "outputs": [
    {
     "data": {
      "text/html": [
       "\n",
       "  <div id=\"df-eed306ec-eaa4-463c-b6d6-109e9c518dbd\">\n",
       "    <div class=\"colab-df-container\">\n",
       "      <div>\n",
       "<style scoped>\n",
       "    .dataframe tbody tr th:only-of-type {\n",
       "        vertical-align: middle;\n",
       "    }\n",
       "\n",
       "    .dataframe tbody tr th {\n",
       "        vertical-align: top;\n",
       "    }\n",
       "\n",
       "    .dataframe thead th {\n",
       "        text-align: right;\n",
       "    }\n",
       "</style>\n",
       "<table border=\"1\" class=\"dataframe\">\n",
       "  <thead>\n",
       "    <tr style=\"text-align: right;\">\n",
       "      <th></th>\n",
       "      <th>feature</th>\n",
       "      <th>importance</th>\n",
       "    </tr>\n",
       "  </thead>\n",
       "  <tbody>\n",
       "    <tr>\n",
       "      <th>0</th>\n",
       "      <td>card1</td>\n",
       "      <td>1240.64</td>\n",
       "    </tr>\n",
       "    <tr>\n",
       "      <th>1</th>\n",
       "      <td>card2</td>\n",
       "      <td>882.76</td>\n",
       "    </tr>\n",
       "    <tr>\n",
       "      <th>2</th>\n",
       "      <td>addr1</td>\n",
       "      <td>803.72</td>\n",
       "    </tr>\n",
       "    <tr>\n",
       "      <th>3</th>\n",
       "      <td>TransactionAmt_to_std_card1</td>\n",
       "      <td>724.76</td>\n",
       "    </tr>\n",
       "    <tr>\n",
       "      <th>4</th>\n",
       "      <td>TransactionAmt_to_mean_card1</td>\n",
       "      <td>508.16</td>\n",
       "    </tr>\n",
       "  </tbody>\n",
       "</table>\n",
       "</div>\n",
       "      <button class=\"colab-df-convert\" onclick=\"convertToInteractive('df-eed306ec-eaa4-463c-b6d6-109e9c518dbd')\"\n",
       "              title=\"Convert this dataframe to an interactive table.\"\n",
       "              style=\"display:none;\">\n",
       "        \n",
       "  <svg xmlns=\"http://www.w3.org/2000/svg\" height=\"24px\"viewBox=\"0 0 24 24\"\n",
       "       width=\"24px\">\n",
       "    <path d=\"M0 0h24v24H0V0z\" fill=\"none\"/>\n",
       "    <path d=\"M18.56 5.44l.94 2.06.94-2.06 2.06-.94-2.06-.94-.94-2.06-.94 2.06-2.06.94zm-11 1L8.5 8.5l.94-2.06 2.06-.94-2.06-.94L8.5 2.5l-.94 2.06-2.06.94zm10 10l.94 2.06.94-2.06 2.06-.94-2.06-.94-.94-2.06-.94 2.06-2.06.94z\"/><path d=\"M17.41 7.96l-1.37-1.37c-.4-.4-.92-.59-1.43-.59-.52 0-1.04.2-1.43.59L10.3 9.45l-7.72 7.72c-.78.78-.78 2.05 0 2.83L4 21.41c.39.39.9.59 1.41.59.51 0 1.02-.2 1.41-.59l7.78-7.78 2.81-2.81c.8-.78.8-2.07 0-2.86zM5.41 20L4 18.59l7.72-7.72 1.47 1.35L5.41 20z\"/>\n",
       "  </svg>\n",
       "      </button>\n",
       "      \n",
       "  <style>\n",
       "    .colab-df-container {\n",
       "      display:flex;\n",
       "      flex-wrap:wrap;\n",
       "      gap: 12px;\n",
       "    }\n",
       "\n",
       "    .colab-df-convert {\n",
       "      background-color: #E8F0FE;\n",
       "      border: none;\n",
       "      border-radius: 50%;\n",
       "      cursor: pointer;\n",
       "      display: none;\n",
       "      fill: #1967D2;\n",
       "      height: 32px;\n",
       "      padding: 0 0 0 0;\n",
       "      width: 32px;\n",
       "    }\n",
       "\n",
       "    .colab-df-convert:hover {\n",
       "      background-color: #E2EBFA;\n",
       "      box-shadow: 0px 1px 2px rgba(60, 64, 67, 0.3), 0px 1px 3px 1px rgba(60, 64, 67, 0.15);\n",
       "      fill: #174EA6;\n",
       "    }\n",
       "\n",
       "    [theme=dark] .colab-df-convert {\n",
       "      background-color: #3B4455;\n",
       "      fill: #D2E3FC;\n",
       "    }\n",
       "\n",
       "    [theme=dark] .colab-df-convert:hover {\n",
       "      background-color: #434B5C;\n",
       "      box-shadow: 0px 1px 3px 1px rgba(0, 0, 0, 0.15);\n",
       "      filter: drop-shadow(0px 1px 2px rgba(0, 0, 0, 0.3));\n",
       "      fill: #FFFFFF;\n",
       "    }\n",
       "  </style>\n",
       "\n",
       "      <script>\n",
       "        const buttonEl =\n",
       "          document.querySelector('#df-eed306ec-eaa4-463c-b6d6-109e9c518dbd button.colab-df-convert');\n",
       "        buttonEl.style.display =\n",
       "          google.colab.kernel.accessAllowed ? 'block' : 'none';\n",
       "\n",
       "        async function convertToInteractive(key) {\n",
       "          const element = document.querySelector('#df-eed306ec-eaa4-463c-b6d6-109e9c518dbd');\n",
       "          const dataTable =\n",
       "            await google.colab.kernel.invokeFunction('convertToInteractive',\n",
       "                                                     [key], {});\n",
       "          if (!dataTable) return;\n",
       "\n",
       "          const docLinkHtml = 'Like what you see? Visit the ' +\n",
       "            '<a target=\"_blank\" href=https://colab.research.google.com/notebooks/data_table.ipynb>data table notebook</a>'\n",
       "            + ' to learn more about interactive tables.';\n",
       "          element.innerHTML = '';\n",
       "          dataTable['output_type'] = 'display_data';\n",
       "          await google.colab.output.renderOutput(dataTable, element);\n",
       "          const docLink = document.createElement('div');\n",
       "          docLink.innerHTML = docLinkHtml;\n",
       "          element.appendChild(docLink);\n",
       "        }\n",
       "      </script>\n",
       "    </div>\n",
       "  </div>\n",
       "  "
      ],
      "text/plain": [
       "                        feature  importance\n",
       "0                         card1     1240.64\n",
       "1                         card2      882.76\n",
       "2                         addr1      803.72\n",
       "3   TransactionAmt_to_std_card1      724.76\n",
       "4  TransactionAmt_to_mean_card1      508.16"
      ]
     },
     "execution_count": 15,
     "metadata": {},
     "output_type": "execute_result"
    }
   ],
   "source": [
    "import_features = pd.read_csv('/content/drive/Shareddrives/NCKH2021/Data/Nghia/feature_importance_v1.csv')\n",
    "import_features.head()"
   ]
  },
  {
   "cell_type": "markdown",
   "metadata": {
    "id": "58yT5sGxhLtA"
   },
   "source": [
    "### Numerical & Categorical "
   ]
  },
  {
   "cell_type": "code",
   "execution_count": null,
   "metadata": {
    "id": "-p2ABiPAgtBt"
   },
   "outputs": [],
   "source": [
    "numerical = [\"TransactionAmt\", \"dist1\", \"dist2\"] + [\"C\" + str(i) for i in range(1, 15)] + \\\n",
    "            [\"D\" + str(i) for i in range(1, 16)]\n",
    "categorical = [\"ProductCD\", \"card1\", \"card2\", \"card3\", \"card4\", \"card5\", \"card6\", \"addr1\", \"addr2\",\n",
    "               \"P_emaildomain\", \"R_emaildomain\"]+ \\\n",
    "                 [\"M\" + str(i) for i in range(1, 10)]"
   ]
  },
  {
   "cell_type": "code",
   "execution_count": null,
   "metadata": {
    "id": "Kwer7cHwhEYh"
   },
   "outputs": [],
   "source": [
    "numerical = [col for col in numerical if col in train_df.columns]\n",
    "categorical = [col for col in categorical if col in train_df.columns]"
   ]
  },
  {
   "cell_type": "code",
   "execution_count": null,
   "metadata": {
    "id": "hi4MJkPxhFwn"
   },
   "outputs": [],
   "source": [
    "def fre_encode(df, cols):\n",
    "    for col in cols:\n",
    "        _dict = df[col].value_counts().to_dict()\n",
    "        df[col] = df[col].map(_dict)"
   ]
  },
  {
   "cell_type": "code",
   "execution_count": null,
   "metadata": {
    "id": "-9CP93RuhHe_"
   },
   "outputs": [],
   "source": [
    "def nan2mean(df):\n",
    "    for x in list(df.columns.values):\n",
    "        if x in numerical:\n",
    "            #print(\"___________________\"+x)\n",
    "            #print(df[x].isna().sum())\n",
    "            df[x] = df[x].fillna(0)\n",
    "           #print(\"Mean-\"+str(df[x].mean()))\n",
    "    return df\n",
    "train_df = nan2mean(train_df)\n",
    "test_df = nan2mean(test_df)"
   ]
  },
  {
   "cell_type": "markdown",
   "metadata": {
    "id": "8VsXAmz-hQ21"
   },
   "source": [
    "### Label encoding"
   ]
  },
  {
   "cell_type": "code",
   "execution_count": null,
   "metadata": {
    "id": "0dQ0ngYhhNEg"
   },
   "outputs": [],
   "source": [
    "# Label Encoding\n",
    "category_counts = {}\n",
    "for f in categorical:\n",
    "    train_df[f] = train_df[f].replace(\"nan\", \"other\")\n",
    "    train_df[f] = train_df[f].replace(np.nan, \"other\")\n",
    "    test_df[f] = test_df[f].replace(\"nan\", \"other\")\n",
    "    test_df[f] = test_df[f].replace(np.nan, \"other\")\n",
    "    lbl = preprocessing.LabelEncoder()\n",
    "    lbl.fit(list(train_df[f].values) + list(test_df[f].values))\n",
    "    train_df[f] = lbl.transform(list(train_df[f].values))\n",
    "    test_df[f] = lbl.transform(list(test_df[f].values))\n",
    "    category_counts[f] = len(list(lbl.classes_)) + 1\n",
    "# train_df = train_df.reset_index()\n",
    "# test_df = test_df.reset_index()"
   ]
  },
  {
   "cell_type": "markdown",
   "metadata": {
    "id": "0yog3cFuhbxG"
   },
   "source": [
    "### Numerical scaling"
   ]
  },
  {
   "cell_type": "code",
   "execution_count": null,
   "metadata": {
    "id": "A430ryyyhbL-"
   },
   "outputs": [],
   "source": [
    "for column in numerical:\n",
    "    scaler = StandardScaler()\n",
    "    if train_df[column].max() > 100 and train_df[column].min() >= 0:\n",
    "        train_df[column] = np.log1p(train_df[column])\n",
    "        test_df[column] = np.log1p(test_df[column])\n",
    "    scaler.fit(np.concatenate([train_df[column].values.reshape(-1,1), test_df[column].values.reshape(-1,1)]))\n",
    "    train_df[column] = scaler.transform(train_df[column].values.reshape(-1,1))\n",
    "    test_df[column] = scaler.transform(test_df[column].values.reshape(-1,1))"
   ]
  },
  {
   "cell_type": "code",
   "execution_count": null,
   "metadata": {
    "id": "erv0rPGGhfnu"
   },
   "outputs": [],
   "source": [
    "target = 'isFraud'"
   ]
  },
  {
   "cell_type": "code",
   "execution_count": null,
   "metadata": {
    "id": "N6kG6SQshhAy"
   },
   "outputs": [],
   "source": [
    "def get_input_features(df):\n",
    "    X = {'numerical':np.array(df[numerical])}\n",
    "    for cat in categorical:\n",
    "        X[cat] = np.array(df[cat])\n",
    "    return X"
   ]
  },
  {
   "cell_type": "code",
   "execution_count": null,
   "metadata": {
    "id": "U7EiCO_thi7s"
   },
   "outputs": [],
   "source": [
    "#cut tr and val\n",
    "tr_df, val_df = train_test_split(train_df, test_size = 0.2, random_state = 42, shuffle = False)"
   ]
  },
  {
   "cell_type": "markdown",
   "metadata": {
    "id": "oBIOETMmhjqd"
   },
   "source": [
    "### Detailed"
   ]
  },
  {
   "cell_type": "markdown",
   "metadata": {
    "id": "GVR-Ja7ohnPL"
   },
   "source": [
    "Our neural network will be fairly standard. We will use the embedding layer for categoricals and the numericals will go through feed forward dense layers.\n",
    "\n",
    "We create our embedding layers such that we have as many rows as we had categories and the dimension of the embedding is the log1p + 1 of the number of categories. So this means that categorical variables with very high cardinality will have more dimensions but not signficantly more so the information will still be compressed down to only about 13 dimensions and the smaller number of categories will be only 2-3.\n",
    "\n",
    "We will then pass the embeddings through a spatial dropout layer which will drop dimensions within the embedding across batches and then flatten and concatenate. Then we will concatenate this to the numerical features and apply batch norm and then add some more dense layers after."
   ]
  },
  {
   "cell_type": "code",
   "execution_count": null,
   "metadata": {
    "id": "5W6zMCyRhlTw"
   },
   "outputs": [],
   "source": [
    "from keras.layers import Concatenate, Input, Dense, Embedding, Flatten, Dropout, BatchNormalization, SpatialDropout1D\n",
    "from keras.callbacks import ModelCheckpoint, ReduceLROnPlateau\n",
    "from keras.models import Model\n",
    "from tensorflow.keras.optimizers import Adam\n",
    "import keras.backend as k\n",
    "def make_model():\n",
    "    k.clear_session()\n",
    "\n",
    "    categorical_inputs = []\n",
    "    for cat in categorical:\n",
    "        categorical_inputs.append(Input(shape=[1], name=cat))\n",
    "\n",
    "    categorical_embeddings = []\n",
    "    for i, cat in enumerate(categorical):\n",
    "        categorical_embeddings.append(\n",
    "            Embedding(category_counts[cat], int(np.log1p(category_counts[cat]) + 1), name = cat + \"_embed\")(categorical_inputs[i]))\n",
    "\n",
    "    categorical_logits = Concatenate(name = \"categorical_conc\")([Flatten()(SpatialDropout1D(.1)(cat_emb)) for cat_emb in categorical_embeddings])\n",
    "#     categorical_logits = Dropout(.5)(categorical_logits)\n",
    "\n",
    "    numerical_inputs = Input(shape=[tr_df[numerical].shape[1]], name = 'numerical')\n",
    "    numerical_logits = Dropout(.1)(numerical_inputs)\n",
    "  \n",
    "    x = Concatenate()([\n",
    "        categorical_logits, \n",
    "        numerical_logits,\n",
    "    ])\n",
    "#     x = categorical_logits\n",
    "#     x = BatchNormalization()(x)\n",
    "    x = Dense(200, activation = 'relu')(x)\n",
    "    x = Dropout(.2)(x)\n",
    "    x = Dense(100, activation = 'relu')(x)\n",
    "    x = Dropout(.2)(x)\n",
    "    out = Dense(1, activation = 'sigmoid')(x)\n",
    "    \n",
    "\n",
    "    model = Model(inputs=categorical_inputs + [numerical_inputs],outputs=out)\n",
    "    loss = \"binary_crossentropy\"\n",
    "    model.compile(optimizer=Adam(lr = 0.01), loss = loss)\n",
    "    return model"
   ]
  },
  {
   "cell_type": "code",
   "execution_count": null,
   "metadata": {
    "id": "wpobGitJiZ6l"
   },
   "outputs": [],
   "source": [
    "X_train = get_input_features(tr_df[cols_0_V])\n",
    "X_valid = get_input_features(val_df[cols_0_V])\n",
    "X_test = get_input_features(test_df[cols_0_V])\n",
    "y_train = tr_df[target]\n",
    "y_valid = val_df[target]\n",
    "y_test = test_df[target]\n",
    "model = make_model()\n",
    "best_score = 0\n",
    "patience = 0"
   ]
  },
  {
   "cell_type": "code",
   "execution_count": null,
   "metadata": {
    "colab": {
     "base_uri": "https://localhost:8080/",
     "height": 1000
    },
    "id": "6p15kGXOiejW",
    "outputId": "7c1911d9-c727-4a59-bda6-5eb032089060"
   },
   "outputs": [
    {
     "data": {
      "image/svg+xml": [
       "<svg height=\"1033pt\" viewBox=\"0.00 0.00 5566.00 775.00\" width=\"7421pt\" xmlns=\"http://www.w3.org/2000/svg\" xmlns:xlink=\"http://www.w3.org/1999/xlink\">\n",
       "<g class=\"graph\" id=\"graph0\" transform=\"scale(1.3333 1.3333) rotate(0) translate(4 771)\">\n",
       "<title>G</title>\n",
       "<polygon fill=\"#ffffff\" points=\"-4,4 -4,-771 5562,-771 5562,4 -4,4\" stroke=\"transparent\"/>\n",
       "<!-- 140050223198352 -->\n",
       "<g class=\"node\" id=\"node1\">\n",
       "<title>140050223198352</title>\n",
       "<polygon fill=\"none\" points=\"40.5,-730.5 40.5,-766.5 202.5,-766.5 202.5,-730.5 40.5,-730.5\" stroke=\"#000000\"/>\n",
       "<text fill=\"#000000\" font-family=\"Times,serif\" font-size=\"14.00\" text-anchor=\"middle\" x=\"81.5\" y=\"-744.8\">ProductCD</text>\n",
       "<polyline fill=\"none\" points=\"122.5,-730.5 122.5,-766.5 \" stroke=\"#000000\"/>\n",
       "<text fill=\"#000000\" font-family=\"Times,serif\" font-size=\"14.00\" text-anchor=\"middle\" x=\"162.5\" y=\"-744.8\">InputLayer</text>\n",
       "</g>\n",
       "<!-- 140050222567120 -->\n",
       "<g class=\"node\" id=\"node21\">\n",
       "<title>140050222567120</title>\n",
       "<polygon fill=\"none\" points=\"15.5,-657.5 15.5,-693.5 227.5,-693.5 227.5,-657.5 15.5,-657.5\" stroke=\"#000000\"/>\n",
       "<text fill=\"#000000\" font-family=\"Times,serif\" font-size=\"14.00\" text-anchor=\"middle\" x=\"79.5\" y=\"-671.8\">ProductCD_embed</text>\n",
       "<polyline fill=\"none\" points=\"143.5,-657.5 143.5,-693.5 \" stroke=\"#000000\"/>\n",
       "<text fill=\"#000000\" font-family=\"Times,serif\" font-size=\"14.00\" text-anchor=\"middle\" x=\"185.5\" y=\"-671.8\">Embedding</text>\n",
       "</g>\n",
       "<!-- 140050223198352&#45;&gt;140050222567120 -->\n",
       "<g class=\"edge\" id=\"edge1\">\n",
       "<title>140050223198352-&gt;140050222567120</title>\n",
       "<path d=\"M121.5,-730.4551C121.5,-722.3828 121.5,-712.6764 121.5,-703.6817\" fill=\"none\" stroke=\"#000000\"/>\n",
       "<polygon fill=\"#000000\" points=\"125.0001,-703.5903 121.5,-693.5904 118.0001,-703.5904 125.0001,-703.5903\" stroke=\"#000000\"/>\n",
       "</g>\n",
       "<!-- 140050221219600 -->\n",
       "<g class=\"node\" id=\"node2\">\n",
       "<title>140050221219600</title>\n",
       "<polygon fill=\"none\" points=\"326.5,-730.5 326.5,-766.5 454.5,-766.5 454.5,-730.5 326.5,-730.5\" stroke=\"#000000\"/>\n",
       "<text fill=\"#000000\" font-family=\"Times,serif\" font-size=\"14.00\" text-anchor=\"middle\" x=\"350.5\" y=\"-744.8\">card1</text>\n",
       "<polyline fill=\"none\" points=\"374.5,-730.5 374.5,-766.5 \" stroke=\"#000000\"/>\n",
       "<text fill=\"#000000\" font-family=\"Times,serif\" font-size=\"14.00\" text-anchor=\"middle\" x=\"414.5\" y=\"-744.8\">InputLayer</text>\n",
       "</g>\n",
       "<!-- 140050222168848 -->\n",
       "<g class=\"node\" id=\"node22\">\n",
       "<title>140050222168848</title>\n",
       "<polygon fill=\"none\" points=\"301.5,-657.5 301.5,-693.5 479.5,-693.5 479.5,-657.5 301.5,-657.5\" stroke=\"#000000\"/>\n",
       "<text fill=\"#000000\" font-family=\"Times,serif\" font-size=\"14.00\" text-anchor=\"middle\" x=\"348.5\" y=\"-671.8\">card1_embed</text>\n",
       "<polyline fill=\"none\" points=\"395.5,-657.5 395.5,-693.5 \" stroke=\"#000000\"/>\n",
       "<text fill=\"#000000\" font-family=\"Times,serif\" font-size=\"14.00\" text-anchor=\"middle\" x=\"437.5\" y=\"-671.8\">Embedding</text>\n",
       "</g>\n",
       "<!-- 140050221219600&#45;&gt;140050222168848 -->\n",
       "<g class=\"edge\" id=\"edge2\">\n",
       "<title>140050221219600-&gt;140050222168848</title>\n",
       "<path d=\"M390.5,-730.4551C390.5,-722.3828 390.5,-712.6764 390.5,-703.6817\" fill=\"none\" stroke=\"#000000\"/>\n",
       "<polygon fill=\"#000000\" points=\"394.0001,-703.5903 390.5,-693.5904 387.0001,-703.5904 394.0001,-703.5903\" stroke=\"#000000\"/>\n",
       "</g>\n",
       "<!-- 140050221537232 -->\n",
       "<g class=\"node\" id=\"node3\">\n",
       "<title>140050221537232</title>\n",
       "<polygon fill=\"none\" points=\"602.5,-730.5 602.5,-766.5 730.5,-766.5 730.5,-730.5 602.5,-730.5\" stroke=\"#000000\"/>\n",
       "<text fill=\"#000000\" font-family=\"Times,serif\" font-size=\"14.00\" text-anchor=\"middle\" x=\"626.5\" y=\"-744.8\">card2</text>\n",
       "<polyline fill=\"none\" points=\"650.5,-730.5 650.5,-766.5 \" stroke=\"#000000\"/>\n",
       "<text fill=\"#000000\" font-family=\"Times,serif\" font-size=\"14.00\" text-anchor=\"middle\" x=\"690.5\" y=\"-744.8\">InputLayer</text>\n",
       "</g>\n",
       "<!-- 140050222881936 -->\n",
       "<g class=\"node\" id=\"node23\">\n",
       "<title>140050222881936</title>\n",
       "<polygon fill=\"none\" points=\"577.5,-657.5 577.5,-693.5 755.5,-693.5 755.5,-657.5 577.5,-657.5\" stroke=\"#000000\"/>\n",
       "<text fill=\"#000000\" font-family=\"Times,serif\" font-size=\"14.00\" text-anchor=\"middle\" x=\"624.5\" y=\"-671.8\">card2_embed</text>\n",
       "<polyline fill=\"none\" points=\"671.5,-657.5 671.5,-693.5 \" stroke=\"#000000\"/>\n",
       "<text fill=\"#000000\" font-family=\"Times,serif\" font-size=\"14.00\" text-anchor=\"middle\" x=\"713.5\" y=\"-671.8\">Embedding</text>\n",
       "</g>\n",
       "<!-- 140050221537232&#45;&gt;140050222881936 -->\n",
       "<g class=\"edge\" id=\"edge3\">\n",
       "<title>140050221537232-&gt;140050222881936</title>\n",
       "<path d=\"M666.5,-730.4551C666.5,-722.3828 666.5,-712.6764 666.5,-703.6817\" fill=\"none\" stroke=\"#000000\"/>\n",
       "<polygon fill=\"#000000\" points=\"670.0001,-703.5903 666.5,-693.5904 663.0001,-703.5904 670.0001,-703.5903\" stroke=\"#000000\"/>\n",
       "</g>\n",
       "<!-- 140050221535632 -->\n",
       "<g class=\"node\" id=\"node4\">\n",
       "<title>140050221535632</title>\n",
       "<polygon fill=\"none\" points=\"878.5,-730.5 878.5,-766.5 1006.5,-766.5 1006.5,-730.5 878.5,-730.5\" stroke=\"#000000\"/>\n",
       "<text fill=\"#000000\" font-family=\"Times,serif\" font-size=\"14.00\" text-anchor=\"middle\" x=\"902.5\" y=\"-744.8\">card3</text>\n",
       "<polyline fill=\"none\" points=\"926.5,-730.5 926.5,-766.5 \" stroke=\"#000000\"/>\n",
       "<text fill=\"#000000\" font-family=\"Times,serif\" font-size=\"14.00\" text-anchor=\"middle\" x=\"966.5\" y=\"-744.8\">InputLayer</text>\n",
       "</g>\n",
       "<!-- 140050223290512 -->\n",
       "<g class=\"node\" id=\"node24\">\n",
       "<title>140050223290512</title>\n",
       "<polygon fill=\"none\" points=\"853.5,-657.5 853.5,-693.5 1031.5,-693.5 1031.5,-657.5 853.5,-657.5\" stroke=\"#000000\"/>\n",
       "<text fill=\"#000000\" font-family=\"Times,serif\" font-size=\"14.00\" text-anchor=\"middle\" x=\"900.5\" y=\"-671.8\">card3_embed</text>\n",
       "<polyline fill=\"none\" points=\"947.5,-657.5 947.5,-693.5 \" stroke=\"#000000\"/>\n",
       "<text fill=\"#000000\" font-family=\"Times,serif\" font-size=\"14.00\" text-anchor=\"middle\" x=\"989.5\" y=\"-671.8\">Embedding</text>\n",
       "</g>\n",
       "<!-- 140050221535632&#45;&gt;140050223290512 -->\n",
       "<g class=\"edge\" id=\"edge4\">\n",
       "<title>140050221535632-&gt;140050223290512</title>\n",
       "<path d=\"M942.5,-730.4551C942.5,-722.3828 942.5,-712.6764 942.5,-703.6817\" fill=\"none\" stroke=\"#000000\"/>\n",
       "<polygon fill=\"#000000\" points=\"946.0001,-703.5903 942.5,-693.5904 939.0001,-703.5904 946.0001,-703.5903\" stroke=\"#000000\"/>\n",
       "</g>\n",
       "<!-- 140050221536080 -->\n",
       "<g class=\"node\" id=\"node5\">\n",
       "<title>140050221536080</title>\n",
       "<polygon fill=\"none\" points=\"1154.5,-730.5 1154.5,-766.5 1282.5,-766.5 1282.5,-730.5 1154.5,-730.5\" stroke=\"#000000\"/>\n",
       "<text fill=\"#000000\" font-family=\"Times,serif\" font-size=\"14.00\" text-anchor=\"middle\" x=\"1178.5\" y=\"-744.8\">card4</text>\n",
       "<polyline fill=\"none\" points=\"1202.5,-730.5 1202.5,-766.5 \" stroke=\"#000000\"/>\n",
       "<text fill=\"#000000\" font-family=\"Times,serif\" font-size=\"14.00\" text-anchor=\"middle\" x=\"1242.5\" y=\"-744.8\">InputLayer</text>\n",
       "</g>\n",
       "<!-- 140050223921232 -->\n",
       "<g class=\"node\" id=\"node25\">\n",
       "<title>140050223921232</title>\n",
       "<polygon fill=\"none\" points=\"1129.5,-657.5 1129.5,-693.5 1307.5,-693.5 1307.5,-657.5 1129.5,-657.5\" stroke=\"#000000\"/>\n",
       "<text fill=\"#000000\" font-family=\"Times,serif\" font-size=\"14.00\" text-anchor=\"middle\" x=\"1176.5\" y=\"-671.8\">card4_embed</text>\n",
       "<polyline fill=\"none\" points=\"1223.5,-657.5 1223.5,-693.5 \" stroke=\"#000000\"/>\n",
       "<text fill=\"#000000\" font-family=\"Times,serif\" font-size=\"14.00\" text-anchor=\"middle\" x=\"1265.5\" y=\"-671.8\">Embedding</text>\n",
       "</g>\n",
       "<!-- 140050221536080&#45;&gt;140050223921232 -->\n",
       "<g class=\"edge\" id=\"edge5\">\n",
       "<title>140050221536080-&gt;140050223921232</title>\n",
       "<path d=\"M1218.5,-730.4551C1218.5,-722.3828 1218.5,-712.6764 1218.5,-703.6817\" fill=\"none\" stroke=\"#000000\"/>\n",
       "<polygon fill=\"#000000\" points=\"1222.0001,-703.5903 1218.5,-693.5904 1215.0001,-703.5904 1222.0001,-703.5903\" stroke=\"#000000\"/>\n",
       "</g>\n",
       "<!-- 140050221846224 -->\n",
       "<g class=\"node\" id=\"node6\">\n",
       "<title>140050221846224</title>\n",
       "<polygon fill=\"none\" points=\"1430.5,-730.5 1430.5,-766.5 1558.5,-766.5 1558.5,-730.5 1430.5,-730.5\" stroke=\"#000000\"/>\n",
       "<text fill=\"#000000\" font-family=\"Times,serif\" font-size=\"14.00\" text-anchor=\"middle\" x=\"1454.5\" y=\"-744.8\">card5</text>\n",
       "<polyline fill=\"none\" points=\"1478.5,-730.5 1478.5,-766.5 \" stroke=\"#000000\"/>\n",
       "<text fill=\"#000000\" font-family=\"Times,serif\" font-size=\"14.00\" text-anchor=\"middle\" x=\"1518.5\" y=\"-744.8\">InputLayer</text>\n",
       "</g>\n",
       "<!-- 140050224228496 -->\n",
       "<g class=\"node\" id=\"node26\">\n",
       "<title>140050224228496</title>\n",
       "<polygon fill=\"none\" points=\"1405.5,-657.5 1405.5,-693.5 1583.5,-693.5 1583.5,-657.5 1405.5,-657.5\" stroke=\"#000000\"/>\n",
       "<text fill=\"#000000\" font-family=\"Times,serif\" font-size=\"14.00\" text-anchor=\"middle\" x=\"1452.5\" y=\"-671.8\">card5_embed</text>\n",
       "<polyline fill=\"none\" points=\"1499.5,-657.5 1499.5,-693.5 \" stroke=\"#000000\"/>\n",
       "<text fill=\"#000000\" font-family=\"Times,serif\" font-size=\"14.00\" text-anchor=\"middle\" x=\"1541.5\" y=\"-671.8\">Embedding</text>\n",
       "</g>\n",
       "<!-- 140050221846224&#45;&gt;140050224228496 -->\n",
       "<g class=\"edge\" id=\"edge6\">\n",
       "<title>140050221846224-&gt;140050224228496</title>\n",
       "<path d=\"M1494.5,-730.4551C1494.5,-722.3828 1494.5,-712.6764 1494.5,-703.6817\" fill=\"none\" stroke=\"#000000\"/>\n",
       "<polygon fill=\"#000000\" points=\"1498.0001,-703.5903 1494.5,-693.5904 1491.0001,-703.5904 1498.0001,-703.5903\" stroke=\"#000000\"/>\n",
       "</g>\n",
       "<!-- 140050221849488 -->\n",
       "<g class=\"node\" id=\"node7\">\n",
       "<title>140050221849488</title>\n",
       "<polygon fill=\"none\" points=\"1706.5,-730.5 1706.5,-766.5 1834.5,-766.5 1834.5,-730.5 1706.5,-730.5\" stroke=\"#000000\"/>\n",
       "<text fill=\"#000000\" font-family=\"Times,serif\" font-size=\"14.00\" text-anchor=\"middle\" x=\"1730.5\" y=\"-744.8\">card6</text>\n",
       "<polyline fill=\"none\" points=\"1754.5,-730.5 1754.5,-766.5 \" stroke=\"#000000\"/>\n",
       "<text fill=\"#000000\" font-family=\"Times,serif\" font-size=\"14.00\" text-anchor=\"middle\" x=\"1794.5\" y=\"-744.8\">InputLayer</text>\n",
       "</g>\n",
       "<!-- 140050224015120 -->\n",
       "<g class=\"node\" id=\"node27\">\n",
       "<title>140050224015120</title>\n",
       "<polygon fill=\"none\" points=\"1681.5,-657.5 1681.5,-693.5 1859.5,-693.5 1859.5,-657.5 1681.5,-657.5\" stroke=\"#000000\"/>\n",
       "<text fill=\"#000000\" font-family=\"Times,serif\" font-size=\"14.00\" text-anchor=\"middle\" x=\"1728.5\" y=\"-671.8\">card6_embed</text>\n",
       "<polyline fill=\"none\" points=\"1775.5,-657.5 1775.5,-693.5 \" stroke=\"#000000\"/>\n",
       "<text fill=\"#000000\" font-family=\"Times,serif\" font-size=\"14.00\" text-anchor=\"middle\" x=\"1817.5\" y=\"-671.8\">Embedding</text>\n",
       "</g>\n",
       "<!-- 140050221849488&#45;&gt;140050224015120 -->\n",
       "<g class=\"edge\" id=\"edge7\">\n",
       "<title>140050221849488-&gt;140050224015120</title>\n",
       "<path d=\"M1770.5,-730.4551C1770.5,-722.3828 1770.5,-712.6764 1770.5,-703.6817\" fill=\"none\" stroke=\"#000000\"/>\n",
       "<polygon fill=\"#000000\" points=\"1774.0001,-703.5903 1770.5,-693.5904 1767.0001,-703.5904 1774.0001,-703.5903\" stroke=\"#000000\"/>\n",
       "</g>\n",
       "<!-- 140050221848400 -->\n",
       "<g class=\"node\" id=\"node8\">\n",
       "<title>140050221848400</title>\n",
       "<polygon fill=\"none\" points=\"1981.5,-730.5 1981.5,-766.5 2111.5,-766.5 2111.5,-730.5 1981.5,-730.5\" stroke=\"#000000\"/>\n",
       "<text fill=\"#000000\" font-family=\"Times,serif\" font-size=\"14.00\" text-anchor=\"middle\" x=\"2006.5\" y=\"-744.8\">addr1</text>\n",
       "<polyline fill=\"none\" points=\"2031.5,-730.5 2031.5,-766.5 \" stroke=\"#000000\"/>\n",
       "<text fill=\"#000000\" font-family=\"Times,serif\" font-size=\"14.00\" text-anchor=\"middle\" x=\"2071.5\" y=\"-744.8\">InputLayer</text>\n",
       "</g>\n",
       "<!-- 140050224016784 -->\n",
       "<g class=\"node\" id=\"node28\">\n",
       "<title>140050224016784</title>\n",
       "<polygon fill=\"none\" points=\"1957,-657.5 1957,-693.5 2136,-693.5 2136,-657.5 1957,-657.5\" stroke=\"#000000\"/>\n",
       "<text fill=\"#000000\" font-family=\"Times,serif\" font-size=\"14.00\" text-anchor=\"middle\" x=\"2004.5\" y=\"-671.8\">addr1_embed</text>\n",
       "<polyline fill=\"none\" points=\"2052,-657.5 2052,-693.5 \" stroke=\"#000000\"/>\n",
       "<text fill=\"#000000\" font-family=\"Times,serif\" font-size=\"14.00\" text-anchor=\"middle\" x=\"2094\" y=\"-671.8\">Embedding</text>\n",
       "</g>\n",
       "<!-- 140050221848400&#45;&gt;140050224016784 -->\n",
       "<g class=\"edge\" id=\"edge8\">\n",
       "<title>140050221848400-&gt;140050224016784</title>\n",
       "<path d=\"M2046.5,-730.4551C2046.5,-722.3828 2046.5,-712.6764 2046.5,-703.6817\" fill=\"none\" stroke=\"#000000\"/>\n",
       "<polygon fill=\"#000000\" points=\"2050.0001,-703.5903 2046.5,-693.5904 2043.0001,-703.5904 2050.0001,-703.5903\" stroke=\"#000000\"/>\n",
       "</g>\n",
       "<!-- 140050221847632 -->\n",
       "<g class=\"node\" id=\"node9\">\n",
       "<title>140050221847632</title>\n",
       "<polygon fill=\"none\" points=\"2257.5,-730.5 2257.5,-766.5 2387.5,-766.5 2387.5,-730.5 2257.5,-730.5\" stroke=\"#000000\"/>\n",
       "<text fill=\"#000000\" font-family=\"Times,serif\" font-size=\"14.00\" text-anchor=\"middle\" x=\"2282.5\" y=\"-744.8\">addr2</text>\n",
       "<polyline fill=\"none\" points=\"2307.5,-730.5 2307.5,-766.5 \" stroke=\"#000000\"/>\n",
       "<text fill=\"#000000\" font-family=\"Times,serif\" font-size=\"14.00\" text-anchor=\"middle\" x=\"2347.5\" y=\"-744.8\">InputLayer</text>\n",
       "</g>\n",
       "<!-- 140050224636816 -->\n",
       "<g class=\"node\" id=\"node29\">\n",
       "<title>140050224636816</title>\n",
       "<polygon fill=\"none\" points=\"2233,-657.5 2233,-693.5 2412,-693.5 2412,-657.5 2233,-657.5\" stroke=\"#000000\"/>\n",
       "<text fill=\"#000000\" font-family=\"Times,serif\" font-size=\"14.00\" text-anchor=\"middle\" x=\"2280.5\" y=\"-671.8\">addr2_embed</text>\n",
       "<polyline fill=\"none\" points=\"2328,-657.5 2328,-693.5 \" stroke=\"#000000\"/>\n",
       "<text fill=\"#000000\" font-family=\"Times,serif\" font-size=\"14.00\" text-anchor=\"middle\" x=\"2370\" y=\"-671.8\">Embedding</text>\n",
       "</g>\n",
       "<!-- 140050221847632&#45;&gt;140050224636816 -->\n",
       "<g class=\"edge\" id=\"edge9\">\n",
       "<title>140050221847632-&gt;140050224636816</title>\n",
       "<path d=\"M2322.5,-730.4551C2322.5,-722.3828 2322.5,-712.6764 2322.5,-703.6817\" fill=\"none\" stroke=\"#000000\"/>\n",
       "<polygon fill=\"#000000\" points=\"2326.0001,-703.5903 2322.5,-693.5904 2319.0001,-703.5904 2326.0001,-703.5903\" stroke=\"#000000\"/>\n",
       "</g>\n",
       "<!-- 140050221534992 -->\n",
       "<g class=\"node\" id=\"node10\">\n",
       "<title>140050221534992</title>\n",
       "<polygon fill=\"none\" points=\"2505,-730.5 2505,-766.5 2692,-766.5 2692,-730.5 2505,-730.5\" stroke=\"#000000\"/>\n",
       "<text fill=\"#000000\" font-family=\"Times,serif\" font-size=\"14.00\" text-anchor=\"middle\" x=\"2558.5\" y=\"-744.8\">P_emaildomain</text>\n",
       "<polyline fill=\"none\" points=\"2612,-730.5 2612,-766.5 \" stroke=\"#000000\"/>\n",
       "<text fill=\"#000000\" font-family=\"Times,serif\" font-size=\"14.00\" text-anchor=\"middle\" x=\"2652\" y=\"-744.8\">InputLayer</text>\n",
       "</g>\n",
       "<!-- 140050222880592 -->\n",
       "<g class=\"node\" id=\"node30\">\n",
       "<title>140050222880592</title>\n",
       "<polygon fill=\"none\" points=\"2480.5,-657.5 2480.5,-693.5 2716.5,-693.5 2716.5,-657.5 2480.5,-657.5\" stroke=\"#000000\"/>\n",
       "<text fill=\"#000000\" font-family=\"Times,serif\" font-size=\"14.00\" text-anchor=\"middle\" x=\"2556.5\" y=\"-671.8\">P_emaildomain_embed</text>\n",
       "<polyline fill=\"none\" points=\"2632.5,-657.5 2632.5,-693.5 \" stroke=\"#000000\"/>\n",
       "<text fill=\"#000000\" font-family=\"Times,serif\" font-size=\"14.00\" text-anchor=\"middle\" x=\"2674.5\" y=\"-671.8\">Embedding</text>\n",
       "</g>\n",
       "<!-- 140050221534992&#45;&gt;140050222880592 -->\n",
       "<g class=\"edge\" id=\"edge10\">\n",
       "<title>140050221534992-&gt;140050222880592</title>\n",
       "<path d=\"M2598.5,-730.4551C2598.5,-722.3828 2598.5,-712.6764 2598.5,-703.6817\" fill=\"none\" stroke=\"#000000\"/>\n",
       "<polygon fill=\"#000000\" points=\"2602.0001,-703.5903 2598.5,-693.5904 2595.0001,-703.5904 2602.0001,-703.5903\" stroke=\"#000000\"/>\n",
       "</g>\n",
       "<!-- 140050222159888 -->\n",
       "<g class=\"node\" id=\"node11\">\n",
       "<title>140050222159888</title>\n",
       "<polygon fill=\"none\" points=\"2784.5,-730.5 2784.5,-766.5 2972.5,-766.5 2972.5,-730.5 2784.5,-730.5\" stroke=\"#000000\"/>\n",
       "<text fill=\"#000000\" font-family=\"Times,serif\" font-size=\"14.00\" text-anchor=\"middle\" x=\"2838.5\" y=\"-744.8\">R_emaildomain</text>\n",
       "<polyline fill=\"none\" points=\"2892.5,-730.5 2892.5,-766.5 \" stroke=\"#000000\"/>\n",
       "<text fill=\"#000000\" font-family=\"Times,serif\" font-size=\"14.00\" text-anchor=\"middle\" x=\"2932.5\" y=\"-744.8\">InputLayer</text>\n",
       "</g>\n",
       "<!-- 140050224945936 -->\n",
       "<g class=\"node\" id=\"node31\">\n",
       "<title>140050224945936</title>\n",
       "<polygon fill=\"none\" points=\"2759.5,-657.5 2759.5,-693.5 2997.5,-693.5 2997.5,-657.5 2759.5,-657.5\" stroke=\"#000000\"/>\n",
       "<text fill=\"#000000\" font-family=\"Times,serif\" font-size=\"14.00\" text-anchor=\"middle\" x=\"2836.5\" y=\"-671.8\">R_emaildomain_embed</text>\n",
       "<polyline fill=\"none\" points=\"2913.5,-657.5 2913.5,-693.5 \" stroke=\"#000000\"/>\n",
       "<text fill=\"#000000\" font-family=\"Times,serif\" font-size=\"14.00\" text-anchor=\"middle\" x=\"2955.5\" y=\"-671.8\">Embedding</text>\n",
       "</g>\n",
       "<!-- 140050222159888&#45;&gt;140050224945936 -->\n",
       "<g class=\"edge\" id=\"edge11\">\n",
       "<title>140050222159888-&gt;140050224945936</title>\n",
       "<path d=\"M2878.5,-730.4551C2878.5,-722.3828 2878.5,-712.6764 2878.5,-703.6817\" fill=\"none\" stroke=\"#000000\"/>\n",
       "<polygon fill=\"#000000\" points=\"2882.0001,-703.5903 2878.5,-693.5904 2875.0001,-703.5904 2882.0001,-703.5903\" stroke=\"#000000\"/>\n",
       "</g>\n",
       "<!-- 140050222159440 -->\n",
       "<g class=\"node\" id=\"node12\">\n",
       "<title>140050222159440</title>\n",
       "<polygon fill=\"none\" points=\"3103,-730.5 3103,-766.5 3220,-766.5 3220,-730.5 3103,-730.5\" stroke=\"#000000\"/>\n",
       "<text fill=\"#000000\" font-family=\"Times,serif\" font-size=\"14.00\" text-anchor=\"middle\" x=\"3121.5\" y=\"-744.8\">M1</text>\n",
       "<polyline fill=\"none\" points=\"3140,-730.5 3140,-766.5 \" stroke=\"#000000\"/>\n",
       "<text fill=\"#000000\" font-family=\"Times,serif\" font-size=\"14.00\" text-anchor=\"middle\" x=\"3180\" y=\"-744.8\">InputLayer</text>\n",
       "</g>\n",
       "<!-- 140050224954128 -->\n",
       "<g class=\"node\" id=\"node32\">\n",
       "<title>140050224954128</title>\n",
       "<polygon fill=\"none\" points=\"3078,-657.5 3078,-693.5 3245,-693.5 3245,-657.5 3078,-657.5\" stroke=\"#000000\"/>\n",
       "<text fill=\"#000000\" font-family=\"Times,serif\" font-size=\"14.00\" text-anchor=\"middle\" x=\"3119.5\" y=\"-671.8\">M1_embed</text>\n",
       "<polyline fill=\"none\" points=\"3161,-657.5 3161,-693.5 \" stroke=\"#000000\"/>\n",
       "<text fill=\"#000000\" font-family=\"Times,serif\" font-size=\"14.00\" text-anchor=\"middle\" x=\"3203\" y=\"-671.8\">Embedding</text>\n",
       "</g>\n",
       "<!-- 140050222159440&#45;&gt;140050224954128 -->\n",
       "<g class=\"edge\" id=\"edge12\">\n",
       "<title>140050222159440-&gt;140050224954128</title>\n",
       "<path d=\"M3161.5,-730.4551C3161.5,-722.3828 3161.5,-712.6764 3161.5,-703.6817\" fill=\"none\" stroke=\"#000000\"/>\n",
       "<polygon fill=\"#000000\" points=\"3165.0001,-703.5903 3161.5,-693.5904 3158.0001,-703.5904 3165.0001,-703.5903\" stroke=\"#000000\"/>\n",
       "</g>\n",
       "<!-- 140050221947984 -->\n",
       "<g class=\"node\" id=\"node13\">\n",
       "<title>140050221947984</title>\n",
       "<polygon fill=\"none\" points=\"3386,-730.5 3386,-766.5 3503,-766.5 3503,-730.5 3386,-730.5\" stroke=\"#000000\"/>\n",
       "<text fill=\"#000000\" font-family=\"Times,serif\" font-size=\"14.00\" text-anchor=\"middle\" x=\"3404.5\" y=\"-744.8\">M2</text>\n",
       "<polyline fill=\"none\" points=\"3423,-730.5 3423,-766.5 \" stroke=\"#000000\"/>\n",
       "<text fill=\"#000000\" font-family=\"Times,serif\" font-size=\"14.00\" text-anchor=\"middle\" x=\"3463\" y=\"-744.8\">InputLayer</text>\n",
       "</g>\n",
       "<!-- 140050224953296 -->\n",
       "<g class=\"node\" id=\"node33\">\n",
       "<title>140050224953296</title>\n",
       "<polygon fill=\"none\" points=\"3361,-657.5 3361,-693.5 3528,-693.5 3528,-657.5 3361,-657.5\" stroke=\"#000000\"/>\n",
       "<text fill=\"#000000\" font-family=\"Times,serif\" font-size=\"14.00\" text-anchor=\"middle\" x=\"3402.5\" y=\"-671.8\">M2_embed</text>\n",
       "<polyline fill=\"none\" points=\"3444,-657.5 3444,-693.5 \" stroke=\"#000000\"/>\n",
       "<text fill=\"#000000\" font-family=\"Times,serif\" font-size=\"14.00\" text-anchor=\"middle\" x=\"3486\" y=\"-671.8\">Embedding</text>\n",
       "</g>\n",
       "<!-- 140050221947984&#45;&gt;140050224953296 -->\n",
       "<g class=\"edge\" id=\"edge13\">\n",
       "<title>140050221947984-&gt;140050224953296</title>\n",
       "<path d=\"M3444.5,-730.4551C3444.5,-722.3828 3444.5,-712.6764 3444.5,-703.6817\" fill=\"none\" stroke=\"#000000\"/>\n",
       "<polygon fill=\"#000000\" points=\"3448.0001,-703.5903 3444.5,-693.5904 3441.0001,-703.5904 3448.0001,-703.5903\" stroke=\"#000000\"/>\n",
       "</g>\n",
       "<!-- 140050221947728 -->\n",
       "<g class=\"node\" id=\"node14\">\n",
       "<title>140050221947728</title>\n",
       "<polygon fill=\"none\" points=\"3669,-730.5 3669,-766.5 3786,-766.5 3786,-730.5 3669,-730.5\" stroke=\"#000000\"/>\n",
       "<text fill=\"#000000\" font-family=\"Times,serif\" font-size=\"14.00\" text-anchor=\"middle\" x=\"3687.5\" y=\"-744.8\">M3</text>\n",
       "<polyline fill=\"none\" points=\"3706,-730.5 3706,-766.5 \" stroke=\"#000000\"/>\n",
       "<text fill=\"#000000\" font-family=\"Times,serif\" font-size=\"14.00\" text-anchor=\"middle\" x=\"3746\" y=\"-744.8\">InputLayer</text>\n",
       "</g>\n",
       "<!-- 140050223195472 -->\n",
       "<g class=\"node\" id=\"node34\">\n",
       "<title>140050223195472</title>\n",
       "<polygon fill=\"none\" points=\"3644,-657.5 3644,-693.5 3811,-693.5 3811,-657.5 3644,-657.5\" stroke=\"#000000\"/>\n",
       "<text fill=\"#000000\" font-family=\"Times,serif\" font-size=\"14.00\" text-anchor=\"middle\" x=\"3685.5\" y=\"-671.8\">M3_embed</text>\n",
       "<polyline fill=\"none\" points=\"3727,-657.5 3727,-693.5 \" stroke=\"#000000\"/>\n",
       "<text fill=\"#000000\" font-family=\"Times,serif\" font-size=\"14.00\" text-anchor=\"middle\" x=\"3769\" y=\"-671.8\">Embedding</text>\n",
       "</g>\n",
       "<!-- 140050221947728&#45;&gt;140050223195472 -->\n",
       "<g class=\"edge\" id=\"edge14\">\n",
       "<title>140050221947728-&gt;140050223195472</title>\n",
       "<path d=\"M3727.5,-730.4551C3727.5,-722.3828 3727.5,-712.6764 3727.5,-703.6817\" fill=\"none\" stroke=\"#000000\"/>\n",
       "<polygon fill=\"#000000\" points=\"3731.0001,-703.5903 3727.5,-693.5904 3724.0001,-703.5904 3731.0001,-703.5903\" stroke=\"#000000\"/>\n",
       "</g>\n",
       "<!-- 140050222262928 -->\n",
       "<g class=\"node\" id=\"node15\">\n",
       "<title>140050222262928</title>\n",
       "<polygon fill=\"none\" points=\"3952,-730.5 3952,-766.5 4069,-766.5 4069,-730.5 3952,-730.5\" stroke=\"#000000\"/>\n",
       "<text fill=\"#000000\" font-family=\"Times,serif\" font-size=\"14.00\" text-anchor=\"middle\" x=\"3970.5\" y=\"-744.8\">M4</text>\n",
       "<polyline fill=\"none\" points=\"3989,-730.5 3989,-766.5 \" stroke=\"#000000\"/>\n",
       "<text fill=\"#000000\" font-family=\"Times,serif\" font-size=\"14.00\" text-anchor=\"middle\" x=\"4029\" y=\"-744.8\">InputLayer</text>\n",
       "</g>\n",
       "<!-- 140050225671504 -->\n",
       "<g class=\"node\" id=\"node35\">\n",
       "<title>140050225671504</title>\n",
       "<polygon fill=\"none\" points=\"3927,-657.5 3927,-693.5 4094,-693.5 4094,-657.5 3927,-657.5\" stroke=\"#000000\"/>\n",
       "<text fill=\"#000000\" font-family=\"Times,serif\" font-size=\"14.00\" text-anchor=\"middle\" x=\"3968.5\" y=\"-671.8\">M4_embed</text>\n",
       "<polyline fill=\"none\" points=\"4010,-657.5 4010,-693.5 \" stroke=\"#000000\"/>\n",
       "<text fill=\"#000000\" font-family=\"Times,serif\" font-size=\"14.00\" text-anchor=\"middle\" x=\"4052\" y=\"-671.8\">Embedding</text>\n",
       "</g>\n",
       "<!-- 140050222262928&#45;&gt;140050225671504 -->\n",
       "<g class=\"edge\" id=\"edge15\">\n",
       "<title>140050222262928-&gt;140050225671504</title>\n",
       "<path d=\"M4010.5,-730.4551C4010.5,-722.3828 4010.5,-712.6764 4010.5,-703.6817\" fill=\"none\" stroke=\"#000000\"/>\n",
       "<polygon fill=\"#000000\" points=\"4014.0001,-703.5903 4010.5,-693.5904 4007.0001,-703.5904 4014.0001,-703.5903\" stroke=\"#000000\"/>\n",
       "</g>\n",
       "<!-- 140050222261136 -->\n",
       "<g class=\"node\" id=\"node16\">\n",
       "<title>140050222261136</title>\n",
       "<polygon fill=\"none\" points=\"4235,-730.5 4235,-766.5 4352,-766.5 4352,-730.5 4235,-730.5\" stroke=\"#000000\"/>\n",
       "<text fill=\"#000000\" font-family=\"Times,serif\" font-size=\"14.00\" text-anchor=\"middle\" x=\"4253.5\" y=\"-744.8\">M5</text>\n",
       "<polyline fill=\"none\" points=\"4272,-730.5 4272,-766.5 \" stroke=\"#000000\"/>\n",
       "<text fill=\"#000000\" font-family=\"Times,serif\" font-size=\"14.00\" text-anchor=\"middle\" x=\"4312\" y=\"-744.8\">InputLayer</text>\n",
       "</g>\n",
       "<!-- 140050225359824 -->\n",
       "<g class=\"node\" id=\"node36\">\n",
       "<title>140050225359824</title>\n",
       "<polygon fill=\"none\" points=\"4210,-657.5 4210,-693.5 4377,-693.5 4377,-657.5 4210,-657.5\" stroke=\"#000000\"/>\n",
       "<text fill=\"#000000\" font-family=\"Times,serif\" font-size=\"14.00\" text-anchor=\"middle\" x=\"4251.5\" y=\"-671.8\">M5_embed</text>\n",
       "<polyline fill=\"none\" points=\"4293,-657.5 4293,-693.5 \" stroke=\"#000000\"/>\n",
       "<text fill=\"#000000\" font-family=\"Times,serif\" font-size=\"14.00\" text-anchor=\"middle\" x=\"4335\" y=\"-671.8\">Embedding</text>\n",
       "</g>\n",
       "<!-- 140050222261136&#45;&gt;140050225359824 -->\n",
       "<g class=\"edge\" id=\"edge16\">\n",
       "<title>140050222261136-&gt;140050225359824</title>\n",
       "<path d=\"M4293.5,-730.4551C4293.5,-722.3828 4293.5,-712.6764 4293.5,-703.6817\" fill=\"none\" stroke=\"#000000\"/>\n",
       "<polygon fill=\"#000000\" points=\"4297.0001,-703.5903 4293.5,-693.5904 4290.0001,-703.5904 4297.0001,-703.5903\" stroke=\"#000000\"/>\n",
       "</g>\n",
       "<!-- 140050222255376 -->\n",
       "<g class=\"node\" id=\"node17\">\n",
       "<title>140050222255376</title>\n",
       "<polygon fill=\"none\" points=\"4518,-730.5 4518,-766.5 4635,-766.5 4635,-730.5 4518,-730.5\" stroke=\"#000000\"/>\n",
       "<text fill=\"#000000\" font-family=\"Times,serif\" font-size=\"14.00\" text-anchor=\"middle\" x=\"4536.5\" y=\"-744.8\">M6</text>\n",
       "<polyline fill=\"none\" points=\"4555,-730.5 4555,-766.5 \" stroke=\"#000000\"/>\n",
       "<text fill=\"#000000\" font-family=\"Times,serif\" font-size=\"14.00\" text-anchor=\"middle\" x=\"4595\" y=\"-744.8\">InputLayer</text>\n",
       "</g>\n",
       "<!-- 140050225981648 -->\n",
       "<g class=\"node\" id=\"node37\">\n",
       "<title>140050225981648</title>\n",
       "<polygon fill=\"none\" points=\"4493,-657.5 4493,-693.5 4660,-693.5 4660,-657.5 4493,-657.5\" stroke=\"#000000\"/>\n",
       "<text fill=\"#000000\" font-family=\"Times,serif\" font-size=\"14.00\" text-anchor=\"middle\" x=\"4534.5\" y=\"-671.8\">M6_embed</text>\n",
       "<polyline fill=\"none\" points=\"4576,-657.5 4576,-693.5 \" stroke=\"#000000\"/>\n",
       "<text fill=\"#000000\" font-family=\"Times,serif\" font-size=\"14.00\" text-anchor=\"middle\" x=\"4618\" y=\"-671.8\">Embedding</text>\n",
       "</g>\n",
       "<!-- 140050222255376&#45;&gt;140050225981648 -->\n",
       "<g class=\"edge\" id=\"edge17\">\n",
       "<title>140050222255376-&gt;140050225981648</title>\n",
       "<path d=\"M4576.5,-730.4551C4576.5,-722.3828 4576.5,-712.6764 4576.5,-703.6817\" fill=\"none\" stroke=\"#000000\"/>\n",
       "<polygon fill=\"#000000\" points=\"4580.0001,-703.5903 4576.5,-693.5904 4573.0001,-703.5904 4580.0001,-703.5903\" stroke=\"#000000\"/>\n",
       "</g>\n",
       "<!-- 140050222254800 -->\n",
       "<g class=\"node\" id=\"node18\">\n",
       "<title>140050222254800</title>\n",
       "<polygon fill=\"none\" points=\"4801,-730.5 4801,-766.5 4918,-766.5 4918,-730.5 4801,-730.5\" stroke=\"#000000\"/>\n",
       "<text fill=\"#000000\" font-family=\"Times,serif\" font-size=\"14.00\" text-anchor=\"middle\" x=\"4819.5\" y=\"-744.8\">M7</text>\n",
       "<polyline fill=\"none\" points=\"4838,-730.5 4838,-766.5 \" stroke=\"#000000\"/>\n",
       "<text fill=\"#000000\" font-family=\"Times,serif\" font-size=\"14.00\" text-anchor=\"middle\" x=\"4878\" y=\"-744.8\">InputLayer</text>\n",
       "</g>\n",
       "<!-- 140050226296784 -->\n",
       "<g class=\"node\" id=\"node38\">\n",
       "<title>140050226296784</title>\n",
       "<polygon fill=\"none\" points=\"4776,-657.5 4776,-693.5 4943,-693.5 4943,-657.5 4776,-657.5\" stroke=\"#000000\"/>\n",
       "<text fill=\"#000000\" font-family=\"Times,serif\" font-size=\"14.00\" text-anchor=\"middle\" x=\"4817.5\" y=\"-671.8\">M7_embed</text>\n",
       "<polyline fill=\"none\" points=\"4859,-657.5 4859,-693.5 \" stroke=\"#000000\"/>\n",
       "<text fill=\"#000000\" font-family=\"Times,serif\" font-size=\"14.00\" text-anchor=\"middle\" x=\"4901\" y=\"-671.8\">Embedding</text>\n",
       "</g>\n",
       "<!-- 140050222254800&#45;&gt;140050226296784 -->\n",
       "<g class=\"edge\" id=\"edge18\">\n",
       "<title>140050222254800-&gt;140050226296784</title>\n",
       "<path d=\"M4859.5,-730.4551C4859.5,-722.3828 4859.5,-712.6764 4859.5,-703.6817\" fill=\"none\" stroke=\"#000000\"/>\n",
       "<polygon fill=\"#000000\" points=\"4863.0001,-703.5903 4859.5,-693.5904 4856.0001,-703.5904 4863.0001,-703.5903\" stroke=\"#000000\"/>\n",
       "</g>\n",
       "<!-- 140050222574480 -->\n",
       "<g class=\"node\" id=\"node19\">\n",
       "<title>140050222574480</title>\n",
       "<polygon fill=\"none\" points=\"5084,-730.5 5084,-766.5 5201,-766.5 5201,-730.5 5084,-730.5\" stroke=\"#000000\"/>\n",
       "<text fill=\"#000000\" font-family=\"Times,serif\" font-size=\"14.00\" text-anchor=\"middle\" x=\"5102.5\" y=\"-744.8\">M8</text>\n",
       "<polyline fill=\"none\" points=\"5121,-730.5 5121,-766.5 \" stroke=\"#000000\"/>\n",
       "<text fill=\"#000000\" font-family=\"Times,serif\" font-size=\"14.00\" text-anchor=\"middle\" x=\"5161\" y=\"-744.8\">InputLayer</text>\n",
       "</g>\n",
       "<!-- 140050226397264 -->\n",
       "<g class=\"node\" id=\"node39\">\n",
       "<title>140050226397264</title>\n",
       "<polygon fill=\"none\" points=\"5059,-657.5 5059,-693.5 5226,-693.5 5226,-657.5 5059,-657.5\" stroke=\"#000000\"/>\n",
       "<text fill=\"#000000\" font-family=\"Times,serif\" font-size=\"14.00\" text-anchor=\"middle\" x=\"5100.5\" y=\"-671.8\">M8_embed</text>\n",
       "<polyline fill=\"none\" points=\"5142,-657.5 5142,-693.5 \" stroke=\"#000000\"/>\n",
       "<text fill=\"#000000\" font-family=\"Times,serif\" font-size=\"14.00\" text-anchor=\"middle\" x=\"5184\" y=\"-671.8\">Embedding</text>\n",
       "</g>\n",
       "<!-- 140050222574480&#45;&gt;140050226397264 -->\n",
       "<g class=\"edge\" id=\"edge19\">\n",
       "<title>140050222574480-&gt;140050226397264</title>\n",
       "<path d=\"M5142.5,-730.4551C5142.5,-722.3828 5142.5,-712.6764 5142.5,-703.6817\" fill=\"none\" stroke=\"#000000\"/>\n",
       "<polygon fill=\"#000000\" points=\"5146.0001,-703.5903 5142.5,-693.5904 5139.0001,-703.5904 5146.0001,-703.5903\" stroke=\"#000000\"/>\n",
       "</g>\n",
       "<!-- 140050222571920 -->\n",
       "<g class=\"node\" id=\"node20\">\n",
       "<title>140050222571920</title>\n",
       "<polygon fill=\"none\" points=\"5367,-730.5 5367,-766.5 5484,-766.5 5484,-730.5 5367,-730.5\" stroke=\"#000000\"/>\n",
       "<text fill=\"#000000\" font-family=\"Times,serif\" font-size=\"14.00\" text-anchor=\"middle\" x=\"5385.5\" y=\"-744.8\">M9</text>\n",
       "<polyline fill=\"none\" points=\"5404,-730.5 5404,-766.5 \" stroke=\"#000000\"/>\n",
       "<text fill=\"#000000\" font-family=\"Times,serif\" font-size=\"14.00\" text-anchor=\"middle\" x=\"5444\" y=\"-744.8\">InputLayer</text>\n",
       "</g>\n",
       "<!-- 140050226297168 -->\n",
       "<g class=\"node\" id=\"node40\">\n",
       "<title>140050226297168</title>\n",
       "<polygon fill=\"none\" points=\"5342,-657.5 5342,-693.5 5509,-693.5 5509,-657.5 5342,-657.5\" stroke=\"#000000\"/>\n",
       "<text fill=\"#000000\" font-family=\"Times,serif\" font-size=\"14.00\" text-anchor=\"middle\" x=\"5383.5\" y=\"-671.8\">M9_embed</text>\n",
       "<polyline fill=\"none\" points=\"5425,-657.5 5425,-693.5 \" stroke=\"#000000\"/>\n",
       "<text fill=\"#000000\" font-family=\"Times,serif\" font-size=\"14.00\" text-anchor=\"middle\" x=\"5467\" y=\"-671.8\">Embedding</text>\n",
       "</g>\n",
       "<!-- 140050222571920&#45;&gt;140050226297168 -->\n",
       "<g class=\"edge\" id=\"edge20\">\n",
       "<title>140050222571920-&gt;140050226297168</title>\n",
       "<path d=\"M5425.5,-730.4551C5425.5,-722.3828 5425.5,-712.6764 5425.5,-703.6817\" fill=\"none\" stroke=\"#000000\"/>\n",
       "<polygon fill=\"#000000\" points=\"5429.0001,-703.5903 5425.5,-693.5904 5422.0001,-703.5904 5429.0001,-703.5903\" stroke=\"#000000\"/>\n",
       "</g>\n",
       "<!-- 140050224322384 -->\n",
       "<g class=\"node\" id=\"node41\">\n",
       "<title>140050224322384</title>\n",
       "<polygon fill=\"none\" points=\"0,-584.5 0,-620.5 243,-620.5 243,-584.5 0,-584.5\" stroke=\"#000000\"/>\n",
       "<text fill=\"#000000\" font-family=\"Times,serif\" font-size=\"14.00\" text-anchor=\"middle\" x=\"60.5\" y=\"-598.8\">spatial_dropout1d</text>\n",
       "<polyline fill=\"none\" points=\"121,-584.5 121,-620.5 \" stroke=\"#000000\"/>\n",
       "<text fill=\"#000000\" font-family=\"Times,serif\" font-size=\"14.00\" text-anchor=\"middle\" x=\"182\" y=\"-598.8\">SpatialDropout1D</text>\n",
       "</g>\n",
       "<!-- 140050222567120&#45;&gt;140050224322384 -->\n",
       "<g class=\"edge\" id=\"edge21\">\n",
       "<title>140050222567120-&gt;140050224322384</title>\n",
       "<path d=\"M121.5,-657.4551C121.5,-649.3828 121.5,-639.6764 121.5,-630.6817\" fill=\"none\" stroke=\"#000000\"/>\n",
       "<polygon fill=\"#000000\" points=\"125.0001,-630.5903 121.5,-620.5904 118.0001,-630.5904 125.0001,-630.5903\" stroke=\"#000000\"/>\n",
       "</g>\n",
       "<!-- 140050225983056 -->\n",
       "<g class=\"node\" id=\"node42\">\n",
       "<title>140050225983056</title>\n",
       "<polygon fill=\"none\" points=\"261.5,-584.5 261.5,-620.5 519.5,-620.5 519.5,-584.5 261.5,-584.5\" stroke=\"#000000\"/>\n",
       "<text fill=\"#000000\" font-family=\"Times,serif\" font-size=\"14.00\" text-anchor=\"middle\" x=\"329.5\" y=\"-598.8\">spatial_dropout1d_1</text>\n",
       "<polyline fill=\"none\" points=\"397.5,-584.5 397.5,-620.5 \" stroke=\"#000000\"/>\n",
       "<text fill=\"#000000\" font-family=\"Times,serif\" font-size=\"14.00\" text-anchor=\"middle\" x=\"458.5\" y=\"-598.8\">SpatialDropout1D</text>\n",
       "</g>\n",
       "<!-- 140050222168848&#45;&gt;140050225983056 -->\n",
       "<g class=\"edge\" id=\"edge22\">\n",
       "<title>140050222168848-&gt;140050225983056</title>\n",
       "<path d=\"M390.5,-657.4551C390.5,-649.3828 390.5,-639.6764 390.5,-630.6817\" fill=\"none\" stroke=\"#000000\"/>\n",
       "<polygon fill=\"#000000\" points=\"394.0001,-630.5903 390.5,-620.5904 387.0001,-630.5904 394.0001,-630.5903\" stroke=\"#000000\"/>\n",
       "</g>\n",
       "<!-- 140050226710992 -->\n",
       "<g class=\"node\" id=\"node43\">\n",
       "<title>140050226710992</title>\n",
       "<polygon fill=\"none\" points=\"537.5,-584.5 537.5,-620.5 795.5,-620.5 795.5,-584.5 537.5,-584.5\" stroke=\"#000000\"/>\n",
       "<text fill=\"#000000\" font-family=\"Times,serif\" font-size=\"14.00\" text-anchor=\"middle\" x=\"605.5\" y=\"-598.8\">spatial_dropout1d_2</text>\n",
       "<polyline fill=\"none\" points=\"673.5,-584.5 673.5,-620.5 \" stroke=\"#000000\"/>\n",
       "<text fill=\"#000000\" font-family=\"Times,serif\" font-size=\"14.00\" text-anchor=\"middle\" x=\"734.5\" y=\"-598.8\">SpatialDropout1D</text>\n",
       "</g>\n",
       "<!-- 140050222881936&#45;&gt;140050226710992 -->\n",
       "<g class=\"edge\" id=\"edge23\">\n",
       "<title>140050222881936-&gt;140050226710992</title>\n",
       "<path d=\"M666.5,-657.4551C666.5,-649.3828 666.5,-639.6764 666.5,-630.6817\" fill=\"none\" stroke=\"#000000\"/>\n",
       "<polygon fill=\"#000000\" points=\"670.0001,-630.5903 666.5,-620.5904 663.0001,-630.5904 670.0001,-630.5903\" stroke=\"#000000\"/>\n",
       "</g>\n",
       "<!-- 140050227017488 -->\n",
       "<g class=\"node\" id=\"node44\">\n",
       "<title>140050227017488</title>\n",
       "<polygon fill=\"none\" points=\"813.5,-584.5 813.5,-620.5 1071.5,-620.5 1071.5,-584.5 813.5,-584.5\" stroke=\"#000000\"/>\n",
       "<text fill=\"#000000\" font-family=\"Times,serif\" font-size=\"14.00\" text-anchor=\"middle\" x=\"881.5\" y=\"-598.8\">spatial_dropout1d_3</text>\n",
       "<polyline fill=\"none\" points=\"949.5,-584.5 949.5,-620.5 \" stroke=\"#000000\"/>\n",
       "<text fill=\"#000000\" font-family=\"Times,serif\" font-size=\"14.00\" text-anchor=\"middle\" x=\"1010.5\" y=\"-598.8\">SpatialDropout1D</text>\n",
       "</g>\n",
       "<!-- 140050223290512&#45;&gt;140050227017488 -->\n",
       "<g class=\"edge\" id=\"edge24\">\n",
       "<title>140050223290512-&gt;140050227017488</title>\n",
       "<path d=\"M942.5,-657.4551C942.5,-649.3828 942.5,-639.6764 942.5,-630.6817\" fill=\"none\" stroke=\"#000000\"/>\n",
       "<polygon fill=\"#000000\" points=\"946.0001,-630.5903 942.5,-620.5904 939.0001,-630.5904 946.0001,-630.5903\" stroke=\"#000000\"/>\n",
       "</g>\n",
       "<!-- 140050226710352 -->\n",
       "<g class=\"node\" id=\"node45\">\n",
       "<title>140050226710352</title>\n",
       "<polygon fill=\"none\" points=\"1089.5,-584.5 1089.5,-620.5 1347.5,-620.5 1347.5,-584.5 1089.5,-584.5\" stroke=\"#000000\"/>\n",
       "<text fill=\"#000000\" font-family=\"Times,serif\" font-size=\"14.00\" text-anchor=\"middle\" x=\"1157.5\" y=\"-598.8\">spatial_dropout1d_4</text>\n",
       "<polyline fill=\"none\" points=\"1225.5,-584.5 1225.5,-620.5 \" stroke=\"#000000\"/>\n",
       "<text fill=\"#000000\" font-family=\"Times,serif\" font-size=\"14.00\" text-anchor=\"middle\" x=\"1286.5\" y=\"-598.8\">SpatialDropout1D</text>\n",
       "</g>\n",
       "<!-- 140050223921232&#45;&gt;140050226710352 -->\n",
       "<g class=\"edge\" id=\"edge25\">\n",
       "<title>140050223921232-&gt;140050226710352</title>\n",
       "<path d=\"M1218.5,-657.4551C1218.5,-649.3828 1218.5,-639.6764 1218.5,-630.6817\" fill=\"none\" stroke=\"#000000\"/>\n",
       "<polygon fill=\"#000000\" points=\"1222.0001,-630.5903 1218.5,-620.5904 1215.0001,-630.5904 1222.0001,-630.5903\" stroke=\"#000000\"/>\n",
       "</g>\n",
       "<!-- 140050227428752 -->\n",
       "<g class=\"node\" id=\"node46\">\n",
       "<title>140050227428752</title>\n",
       "<polygon fill=\"none\" points=\"1365.5,-584.5 1365.5,-620.5 1623.5,-620.5 1623.5,-584.5 1365.5,-584.5\" stroke=\"#000000\"/>\n",
       "<text fill=\"#000000\" font-family=\"Times,serif\" font-size=\"14.00\" text-anchor=\"middle\" x=\"1433.5\" y=\"-598.8\">spatial_dropout1d_5</text>\n",
       "<polyline fill=\"none\" points=\"1501.5,-584.5 1501.5,-620.5 \" stroke=\"#000000\"/>\n",
       "<text fill=\"#000000\" font-family=\"Times,serif\" font-size=\"14.00\" text-anchor=\"middle\" x=\"1562.5\" y=\"-598.8\">SpatialDropout1D</text>\n",
       "</g>\n",
       "<!-- 140050224228496&#45;&gt;140050227428752 -->\n",
       "<g class=\"edge\" id=\"edge26\">\n",
       "<title>140050224228496-&gt;140050227428752</title>\n",
       "<path d=\"M1494.5,-657.4551C1494.5,-649.3828 1494.5,-639.6764 1494.5,-630.6817\" fill=\"none\" stroke=\"#000000\"/>\n",
       "<polygon fill=\"#000000\" points=\"1498.0001,-630.5903 1494.5,-620.5904 1491.0001,-630.5904 1498.0001,-630.5903\" stroke=\"#000000\"/>\n",
       "</g>\n",
       "<!-- 140050227742608 -->\n",
       "<g class=\"node\" id=\"node47\">\n",
       "<title>140050227742608</title>\n",
       "<polygon fill=\"none\" points=\"1641.5,-584.5 1641.5,-620.5 1899.5,-620.5 1899.5,-584.5 1641.5,-584.5\" stroke=\"#000000\"/>\n",
       "<text fill=\"#000000\" font-family=\"Times,serif\" font-size=\"14.00\" text-anchor=\"middle\" x=\"1709.5\" y=\"-598.8\">spatial_dropout1d_6</text>\n",
       "<polyline fill=\"none\" points=\"1777.5,-584.5 1777.5,-620.5 \" stroke=\"#000000\"/>\n",
       "<text fill=\"#000000\" font-family=\"Times,serif\" font-size=\"14.00\" text-anchor=\"middle\" x=\"1838.5\" y=\"-598.8\">SpatialDropout1D</text>\n",
       "</g>\n",
       "<!-- 140050224015120&#45;&gt;140050227742608 -->\n",
       "<g class=\"edge\" id=\"edge27\">\n",
       "<title>140050224015120-&gt;140050227742608</title>\n",
       "<path d=\"M1770.5,-657.4551C1770.5,-649.3828 1770.5,-639.6764 1770.5,-630.6817\" fill=\"none\" stroke=\"#000000\"/>\n",
       "<polygon fill=\"#000000\" points=\"1774.0001,-630.5903 1770.5,-620.5904 1767.0001,-630.5904 1774.0001,-630.5903\" stroke=\"#000000\"/>\n",
       "</g>\n",
       "<!-- 140050226710864 -->\n",
       "<g class=\"node\" id=\"node48\">\n",
       "<title>140050226710864</title>\n",
       "<polygon fill=\"none\" points=\"1917.5,-584.5 1917.5,-620.5 2175.5,-620.5 2175.5,-584.5 1917.5,-584.5\" stroke=\"#000000\"/>\n",
       "<text fill=\"#000000\" font-family=\"Times,serif\" font-size=\"14.00\" text-anchor=\"middle\" x=\"1985.5\" y=\"-598.8\">spatial_dropout1d_7</text>\n",
       "<polyline fill=\"none\" points=\"2053.5,-584.5 2053.5,-620.5 \" stroke=\"#000000\"/>\n",
       "<text fill=\"#000000\" font-family=\"Times,serif\" font-size=\"14.00\" text-anchor=\"middle\" x=\"2114.5\" y=\"-598.8\">SpatialDropout1D</text>\n",
       "</g>\n",
       "<!-- 140050224016784&#45;&gt;140050226710864 -->\n",
       "<g class=\"edge\" id=\"edge28\">\n",
       "<title>140050224016784-&gt;140050226710864</title>\n",
       "<path d=\"M2046.5,-657.4551C2046.5,-649.3828 2046.5,-639.6764 2046.5,-630.6817\" fill=\"none\" stroke=\"#000000\"/>\n",
       "<polygon fill=\"#000000\" points=\"2050.0001,-630.5903 2046.5,-620.5904 2043.0001,-630.5904 2050.0001,-630.5903\" stroke=\"#000000\"/>\n",
       "</g>\n",
       "<!-- 140050228370320 -->\n",
       "<g class=\"node\" id=\"node49\">\n",
       "<title>140050228370320</title>\n",
       "<polygon fill=\"none\" points=\"2193.5,-584.5 2193.5,-620.5 2451.5,-620.5 2451.5,-584.5 2193.5,-584.5\" stroke=\"#000000\"/>\n",
       "<text fill=\"#000000\" font-family=\"Times,serif\" font-size=\"14.00\" text-anchor=\"middle\" x=\"2261.5\" y=\"-598.8\">spatial_dropout1d_8</text>\n",
       "<polyline fill=\"none\" points=\"2329.5,-584.5 2329.5,-620.5 \" stroke=\"#000000\"/>\n",
       "<text fill=\"#000000\" font-family=\"Times,serif\" font-size=\"14.00\" text-anchor=\"middle\" x=\"2390.5\" y=\"-598.8\">SpatialDropout1D</text>\n",
       "</g>\n",
       "<!-- 140050224636816&#45;&gt;140050228370320 -->\n",
       "<g class=\"edge\" id=\"edge29\">\n",
       "<title>140050224636816-&gt;140050228370320</title>\n",
       "<path d=\"M2322.5,-657.4551C2322.5,-649.3828 2322.5,-639.6764 2322.5,-630.6817\" fill=\"none\" stroke=\"#000000\"/>\n",
       "<polygon fill=\"#000000\" points=\"2326.0001,-630.5903 2322.5,-620.5904 2319.0001,-630.5904 2326.0001,-630.5903\" stroke=\"#000000\"/>\n",
       "</g>\n",
       "<!-- 140050228054736 -->\n",
       "<g class=\"node\" id=\"node50\">\n",
       "<title>140050228054736</title>\n",
       "<polygon fill=\"none\" points=\"2469.5,-584.5 2469.5,-620.5 2727.5,-620.5 2727.5,-584.5 2469.5,-584.5\" stroke=\"#000000\"/>\n",
       "<text fill=\"#000000\" font-family=\"Times,serif\" font-size=\"14.00\" text-anchor=\"middle\" x=\"2537.5\" y=\"-598.8\">spatial_dropout1d_9</text>\n",
       "<polyline fill=\"none\" points=\"2605.5,-584.5 2605.5,-620.5 \" stroke=\"#000000\"/>\n",
       "<text fill=\"#000000\" font-family=\"Times,serif\" font-size=\"14.00\" text-anchor=\"middle\" x=\"2666.5\" y=\"-598.8\">SpatialDropout1D</text>\n",
       "</g>\n",
       "<!-- 140050222880592&#45;&gt;140050228054736 -->\n",
       "<g class=\"edge\" id=\"edge30\">\n",
       "<title>140050222880592-&gt;140050228054736</title>\n",
       "<path d=\"M2598.5,-657.4551C2598.5,-649.3828 2598.5,-639.6764 2598.5,-630.6817\" fill=\"none\" stroke=\"#000000\"/>\n",
       "<polygon fill=\"#000000\" points=\"2602.0001,-630.5903 2598.5,-620.5904 2595.0001,-630.5904 2602.0001,-630.5903\" stroke=\"#000000\"/>\n",
       "</g>\n",
       "<!-- 140050228678864 -->\n",
       "<g class=\"node\" id=\"node51\">\n",
       "<title>140050228678864</title>\n",
       "<polygon fill=\"none\" points=\"2746,-584.5 2746,-620.5 3011,-620.5 3011,-584.5 2746,-584.5\" stroke=\"#000000\"/>\n",
       "<text fill=\"#000000\" font-family=\"Times,serif\" font-size=\"14.00\" text-anchor=\"middle\" x=\"2817.5\" y=\"-598.8\">spatial_dropout1d_10</text>\n",
       "<polyline fill=\"none\" points=\"2889,-584.5 2889,-620.5 \" stroke=\"#000000\"/>\n",
       "<text fill=\"#000000\" font-family=\"Times,serif\" font-size=\"14.00\" text-anchor=\"middle\" x=\"2950\" y=\"-598.8\">SpatialDropout1D</text>\n",
       "</g>\n",
       "<!-- 140050224945936&#45;&gt;140050228678864 -->\n",
       "<g class=\"edge\" id=\"edge31\">\n",
       "<title>140050224945936-&gt;140050228678864</title>\n",
       "<path d=\"M2878.5,-657.4551C2878.5,-649.3828 2878.5,-639.6764 2878.5,-630.6817\" fill=\"none\" stroke=\"#000000\"/>\n",
       "<polygon fill=\"#000000\" points=\"2882.0001,-630.5903 2878.5,-620.5904 2875.0001,-630.5904 2882.0001,-630.5903\" stroke=\"#000000\"/>\n",
       "</g>\n",
       "<!-- 140050228779536 -->\n",
       "<g class=\"node\" id=\"node52\">\n",
       "<title>140050228779536</title>\n",
       "<polygon fill=\"none\" points=\"3029,-584.5 3029,-620.5 3294,-620.5 3294,-584.5 3029,-584.5\" stroke=\"#000000\"/>\n",
       "<text fill=\"#000000\" font-family=\"Times,serif\" font-size=\"14.00\" text-anchor=\"middle\" x=\"3100.5\" y=\"-598.8\">spatial_dropout1d_11</text>\n",
       "<polyline fill=\"none\" points=\"3172,-584.5 3172,-620.5 \" stroke=\"#000000\"/>\n",
       "<text fill=\"#000000\" font-family=\"Times,serif\" font-size=\"14.00\" text-anchor=\"middle\" x=\"3233\" y=\"-598.8\">SpatialDropout1D</text>\n",
       "</g>\n",
       "<!-- 140050224954128&#45;&gt;140050228779536 -->\n",
       "<g class=\"edge\" id=\"edge32\">\n",
       "<title>140050224954128-&gt;140050228779536</title>\n",
       "<path d=\"M3161.5,-657.4551C3161.5,-649.3828 3161.5,-639.6764 3161.5,-630.6817\" fill=\"none\" stroke=\"#000000\"/>\n",
       "<polygon fill=\"#000000\" points=\"3165.0001,-630.5903 3161.5,-620.5904 3158.0001,-630.5904 3165.0001,-630.5903\" stroke=\"#000000\"/>\n",
       "</g>\n",
       "<!-- 140050227645072 -->\n",
       "<g class=\"node\" id=\"node53\">\n",
       "<title>140050227645072</title>\n",
       "<polygon fill=\"none\" points=\"3312,-584.5 3312,-620.5 3577,-620.5 3577,-584.5 3312,-584.5\" stroke=\"#000000\"/>\n",
       "<text fill=\"#000000\" font-family=\"Times,serif\" font-size=\"14.00\" text-anchor=\"middle\" x=\"3383.5\" y=\"-598.8\">spatial_dropout1d_12</text>\n",
       "<polyline fill=\"none\" points=\"3455,-584.5 3455,-620.5 \" stroke=\"#000000\"/>\n",
       "<text fill=\"#000000\" font-family=\"Times,serif\" font-size=\"14.00\" text-anchor=\"middle\" x=\"3516\" y=\"-598.8\">SpatialDropout1D</text>\n",
       "</g>\n",
       "<!-- 140050224953296&#45;&gt;140050227645072 -->\n",
       "<g class=\"edge\" id=\"edge33\">\n",
       "<title>140050224953296-&gt;140050227645072</title>\n",
       "<path d=\"M3444.5,-657.4551C3444.5,-649.3828 3444.5,-639.6764 3444.5,-630.6817\" fill=\"none\" stroke=\"#000000\"/>\n",
       "<polygon fill=\"#000000\" points=\"3448.0001,-630.5903 3444.5,-620.5904 3441.0001,-630.5904 3448.0001,-630.5903\" stroke=\"#000000\"/>\n",
       "</g>\n",
       "<!-- 140050229404752 -->\n",
       "<g class=\"node\" id=\"node54\">\n",
       "<title>140050229404752</title>\n",
       "<polygon fill=\"none\" points=\"3595,-584.5 3595,-620.5 3860,-620.5 3860,-584.5 3595,-584.5\" stroke=\"#000000\"/>\n",
       "<text fill=\"#000000\" font-family=\"Times,serif\" font-size=\"14.00\" text-anchor=\"middle\" x=\"3666.5\" y=\"-598.8\">spatial_dropout1d_13</text>\n",
       "<polyline fill=\"none\" points=\"3738,-584.5 3738,-620.5 \" stroke=\"#000000\"/>\n",
       "<text fill=\"#000000\" font-family=\"Times,serif\" font-size=\"14.00\" text-anchor=\"middle\" x=\"3799\" y=\"-598.8\">SpatialDropout1D</text>\n",
       "</g>\n",
       "<!-- 140050223195472&#45;&gt;140050229404752 -->\n",
       "<g class=\"edge\" id=\"edge34\">\n",
       "<title>140050223195472-&gt;140050229404752</title>\n",
       "<path d=\"M3727.5,-657.4551C3727.5,-649.3828 3727.5,-639.6764 3727.5,-630.6817\" fill=\"none\" stroke=\"#000000\"/>\n",
       "<polygon fill=\"#000000\" points=\"3731.0001,-630.5903 3727.5,-620.5904 3724.0001,-630.5904 3731.0001,-630.5903\" stroke=\"#000000\"/>\n",
       "</g>\n",
       "<!-- 140050229715472 -->\n",
       "<g class=\"node\" id=\"node55\">\n",
       "<title>140050229715472</title>\n",
       "<polygon fill=\"none\" points=\"3878,-584.5 3878,-620.5 4143,-620.5 4143,-584.5 3878,-584.5\" stroke=\"#000000\"/>\n",
       "<text fill=\"#000000\" font-family=\"Times,serif\" font-size=\"14.00\" text-anchor=\"middle\" x=\"3949.5\" y=\"-598.8\">spatial_dropout1d_14</text>\n",
       "<polyline fill=\"none\" points=\"4021,-584.5 4021,-620.5 \" stroke=\"#000000\"/>\n",
       "<text fill=\"#000000\" font-family=\"Times,serif\" font-size=\"14.00\" text-anchor=\"middle\" x=\"4082\" y=\"-598.8\">SpatialDropout1D</text>\n",
       "</g>\n",
       "<!-- 140050225671504&#45;&gt;140050229715472 -->\n",
       "<g class=\"edge\" id=\"edge35\">\n",
       "<title>140050225671504-&gt;140050229715472</title>\n",
       "<path d=\"M4010.5,-657.4551C4010.5,-649.3828 4010.5,-639.6764 4010.5,-630.6817\" fill=\"none\" stroke=\"#000000\"/>\n",
       "<polygon fill=\"#000000\" points=\"4014.0001,-630.5903 4010.5,-620.5904 4007.0001,-630.5904 4014.0001,-630.5903\" stroke=\"#000000\"/>\n",
       "</g>\n",
       "<!-- 140050229933264 -->\n",
       "<g class=\"node\" id=\"node56\">\n",
       "<title>140050229933264</title>\n",
       "<polygon fill=\"none\" points=\"4161,-584.5 4161,-620.5 4426,-620.5 4426,-584.5 4161,-584.5\" stroke=\"#000000\"/>\n",
       "<text fill=\"#000000\" font-family=\"Times,serif\" font-size=\"14.00\" text-anchor=\"middle\" x=\"4232.5\" y=\"-598.8\">spatial_dropout1d_15</text>\n",
       "<polyline fill=\"none\" points=\"4304,-584.5 4304,-620.5 \" stroke=\"#000000\"/>\n",
       "<text fill=\"#000000\" font-family=\"Times,serif\" font-size=\"14.00\" text-anchor=\"middle\" x=\"4365\" y=\"-598.8\">SpatialDropout1D</text>\n",
       "</g>\n",
       "<!-- 140050225359824&#45;&gt;140050229933264 -->\n",
       "<g class=\"edge\" id=\"edge36\">\n",
       "<title>140050225359824-&gt;140050229933264</title>\n",
       "<path d=\"M4293.5,-657.4551C4293.5,-649.3828 4293.5,-639.6764 4293.5,-630.6817\" fill=\"none\" stroke=\"#000000\"/>\n",
       "<polygon fill=\"#000000\" points=\"4297.0001,-630.5903 4293.5,-620.5904 4290.0001,-630.5904 4297.0001,-630.5903\" stroke=\"#000000\"/>\n",
       "</g>\n",
       "<!-- 140050217839376 -->\n",
       "<g class=\"node\" id=\"node57\">\n",
       "<title>140050217839376</title>\n",
       "<polygon fill=\"none\" points=\"4444,-584.5 4444,-620.5 4709,-620.5 4709,-584.5 4444,-584.5\" stroke=\"#000000\"/>\n",
       "<text fill=\"#000000\" font-family=\"Times,serif\" font-size=\"14.00\" text-anchor=\"middle\" x=\"4515.5\" y=\"-598.8\">spatial_dropout1d_16</text>\n",
       "<polyline fill=\"none\" points=\"4587,-584.5 4587,-620.5 \" stroke=\"#000000\"/>\n",
       "<text fill=\"#000000\" font-family=\"Times,serif\" font-size=\"14.00\" text-anchor=\"middle\" x=\"4648\" y=\"-598.8\">SpatialDropout1D</text>\n",
       "</g>\n",
       "<!-- 140050225981648&#45;&gt;140050217839376 -->\n",
       "<g class=\"edge\" id=\"edge37\">\n",
       "<title>140050225981648-&gt;140050217839376</title>\n",
       "<path d=\"M4576.5,-657.4551C4576.5,-649.3828 4576.5,-639.6764 4576.5,-630.6817\" fill=\"none\" stroke=\"#000000\"/>\n",
       "<polygon fill=\"#000000\" points=\"4580.0001,-630.5903 4576.5,-620.5904 4573.0001,-630.5904 4580.0001,-630.5903\" stroke=\"#000000\"/>\n",
       "</g>\n",
       "<!-- 140050229403984 -->\n",
       "<g class=\"node\" id=\"node58\">\n",
       "<title>140050229403984</title>\n",
       "<polygon fill=\"none\" points=\"4727,-584.5 4727,-620.5 4992,-620.5 4992,-584.5 4727,-584.5\" stroke=\"#000000\"/>\n",
       "<text fill=\"#000000\" font-family=\"Times,serif\" font-size=\"14.00\" text-anchor=\"middle\" x=\"4798.5\" y=\"-598.8\">spatial_dropout1d_17</text>\n",
       "<polyline fill=\"none\" points=\"4870,-584.5 4870,-620.5 \" stroke=\"#000000\"/>\n",
       "<text fill=\"#000000\" font-family=\"Times,serif\" font-size=\"14.00\" text-anchor=\"middle\" x=\"4931\" y=\"-598.8\">SpatialDropout1D</text>\n",
       "</g>\n",
       "<!-- 140050226296784&#45;&gt;140050229403984 -->\n",
       "<g class=\"edge\" id=\"edge38\">\n",
       "<title>140050226296784-&gt;140050229403984</title>\n",
       "<path d=\"M4859.5,-657.4551C4859.5,-649.3828 4859.5,-639.6764 4859.5,-630.6817\" fill=\"none\" stroke=\"#000000\"/>\n",
       "<polygon fill=\"#000000\" points=\"4863.0001,-630.5903 4859.5,-620.5904 4856.0001,-630.5904 4863.0001,-630.5903\" stroke=\"#000000\"/>\n",
       "</g>\n",
       "<!-- 140050222600592 -->\n",
       "<g class=\"node\" id=\"node59\">\n",
       "<title>140050222600592</title>\n",
       "<polygon fill=\"none\" points=\"5010,-584.5 5010,-620.5 5275,-620.5 5275,-584.5 5010,-584.5\" stroke=\"#000000\"/>\n",
       "<text fill=\"#000000\" font-family=\"Times,serif\" font-size=\"14.00\" text-anchor=\"middle\" x=\"5081.5\" y=\"-598.8\">spatial_dropout1d_18</text>\n",
       "<polyline fill=\"none\" points=\"5153,-584.5 5153,-620.5 \" stroke=\"#000000\"/>\n",
       "<text fill=\"#000000\" font-family=\"Times,serif\" font-size=\"14.00\" text-anchor=\"middle\" x=\"5214\" y=\"-598.8\">SpatialDropout1D</text>\n",
       "</g>\n",
       "<!-- 140050226397264&#45;&gt;140050222600592 -->\n",
       "<g class=\"edge\" id=\"edge39\">\n",
       "<title>140050226397264-&gt;140050222600592</title>\n",
       "<path d=\"M5142.5,-657.4551C5142.5,-649.3828 5142.5,-639.6764 5142.5,-630.6817\" fill=\"none\" stroke=\"#000000\"/>\n",
       "<polygon fill=\"#000000\" points=\"5146.0001,-630.5903 5142.5,-620.5904 5139.0001,-630.5904 5146.0001,-630.5903\" stroke=\"#000000\"/>\n",
       "</g>\n",
       "<!-- 140050217824784 -->\n",
       "<g class=\"node\" id=\"node60\">\n",
       "<title>140050217824784</title>\n",
       "<polygon fill=\"none\" points=\"5293,-584.5 5293,-620.5 5558,-620.5 5558,-584.5 5293,-584.5\" stroke=\"#000000\"/>\n",
       "<text fill=\"#000000\" font-family=\"Times,serif\" font-size=\"14.00\" text-anchor=\"middle\" x=\"5364.5\" y=\"-598.8\">spatial_dropout1d_19</text>\n",
       "<polyline fill=\"none\" points=\"5436,-584.5 5436,-620.5 \" stroke=\"#000000\"/>\n",
       "<text fill=\"#000000\" font-family=\"Times,serif\" font-size=\"14.00\" text-anchor=\"middle\" x=\"5497\" y=\"-598.8\">SpatialDropout1D</text>\n",
       "</g>\n",
       "<!-- 140050226297168&#45;&gt;140050217824784 -->\n",
       "<g class=\"edge\" id=\"edge40\">\n",
       "<title>140050226297168-&gt;140050217824784</title>\n",
       "<path d=\"M5425.5,-657.4551C5425.5,-649.3828 5425.5,-639.6764 5425.5,-630.6817\" fill=\"none\" stroke=\"#000000\"/>\n",
       "<polygon fill=\"#000000\" points=\"5429.0001,-630.5903 5425.5,-620.5904 5422.0001,-630.5904 5429.0001,-630.5903\" stroke=\"#000000\"/>\n",
       "</g>\n",
       "<!-- 140050225981136 -->\n",
       "<g class=\"node\" id=\"node61\">\n",
       "<title>140050225981136</title>\n",
       "<polygon fill=\"none\" points=\"202.5,-511.5 202.5,-547.5 310.5,-547.5 310.5,-511.5 202.5,-511.5\" stroke=\"#000000\"/>\n",
       "<text fill=\"#000000\" font-family=\"Times,serif\" font-size=\"14.00\" text-anchor=\"middle\" x=\"228.5\" y=\"-525.8\">flatten</text>\n",
       "<polyline fill=\"none\" points=\"254.5,-511.5 254.5,-547.5 \" stroke=\"#000000\"/>\n",
       "<text fill=\"#000000\" font-family=\"Times,serif\" font-size=\"14.00\" text-anchor=\"middle\" x=\"282.5\" y=\"-525.8\">Flatten</text>\n",
       "</g>\n",
       "<!-- 140050224322384&#45;&gt;140050225981136 -->\n",
       "<g class=\"edge\" id=\"edge41\">\n",
       "<title>140050224322384-&gt;140050225981136</title>\n",
       "<path d=\"M154.8708,-584.4551C172.8007,-574.7596 195.0905,-562.7066 214.2227,-552.361\" fill=\"none\" stroke=\"#000000\"/>\n",
       "<polygon fill=\"#000000\" points=\"215.9137,-555.4257 223.0452,-547.5904 212.5841,-549.2682 215.9137,-555.4257\" stroke=\"#000000\"/>\n",
       "</g>\n",
       "<!-- 140050224228240 -->\n",
       "<g class=\"node\" id=\"node62\">\n",
       "<title>140050224228240</title>\n",
       "<polygon fill=\"none\" points=\"396,-511.5 396,-547.5 519,-547.5 519,-511.5 396,-511.5\" stroke=\"#000000\"/>\n",
       "<text fill=\"#000000\" font-family=\"Times,serif\" font-size=\"14.00\" text-anchor=\"middle\" x=\"429.5\" y=\"-525.8\">flatten_1</text>\n",
       "<polyline fill=\"none\" points=\"463,-511.5 463,-547.5 \" stroke=\"#000000\"/>\n",
       "<text fill=\"#000000\" font-family=\"Times,serif\" font-size=\"14.00\" text-anchor=\"middle\" x=\"491\" y=\"-525.8\">Flatten</text>\n",
       "</g>\n",
       "<!-- 140050225983056&#45;&gt;140050224228240 -->\n",
       "<g class=\"edge\" id=\"edge42\">\n",
       "<title>140050225983056-&gt;140050224228240</title>\n",
       "<path d=\"M407.0618,-584.4551C415.1953,-575.5932 425.1366,-564.7616 434.0366,-555.0646\" fill=\"none\" stroke=\"#000000\"/>\n",
       "<polygon fill=\"#000000\" points=\"436.7133,-557.3244 440.8965,-547.5904 431.5561,-552.5911 436.7133,-557.3244\" stroke=\"#000000\"/>\n",
       "</g>\n",
       "<!-- 140050225982800 -->\n",
       "<g class=\"node\" id=\"node63\">\n",
       "<title>140050225982800</title>\n",
       "<polygon fill=\"none\" points=\"672,-511.5 672,-547.5 795,-547.5 795,-511.5 672,-511.5\" stroke=\"#000000\"/>\n",
       "<text fill=\"#000000\" font-family=\"Times,serif\" font-size=\"14.00\" text-anchor=\"middle\" x=\"705.5\" y=\"-525.8\">flatten_2</text>\n",
       "<polyline fill=\"none\" points=\"739,-511.5 739,-547.5 \" stroke=\"#000000\"/>\n",
       "<text fill=\"#000000\" font-family=\"Times,serif\" font-size=\"14.00\" text-anchor=\"middle\" x=\"767\" y=\"-525.8\">Flatten</text>\n",
       "</g>\n",
       "<!-- 140050226710992&#45;&gt;140050225982800 -->\n",
       "<g class=\"edge\" id=\"edge43\">\n",
       "<title>140050226710992-&gt;140050225982800</title>\n",
       "<path d=\"M683.0618,-584.4551C691.1953,-575.5932 701.1366,-564.7616 710.0366,-555.0646\" fill=\"none\" stroke=\"#000000\"/>\n",
       "<polygon fill=\"#000000\" points=\"712.7133,-557.3244 716.8965,-547.5904 707.5561,-552.5911 712.7133,-557.3244\" stroke=\"#000000\"/>\n",
       "</g>\n",
       "<!-- 140050226711440 -->\n",
       "<g class=\"node\" id=\"node64\">\n",
       "<title>140050226711440</title>\n",
       "<polygon fill=\"none\" points=\"948,-511.5 948,-547.5 1071,-547.5 1071,-511.5 948,-511.5\" stroke=\"#000000\"/>\n",
       "<text fill=\"#000000\" font-family=\"Times,serif\" font-size=\"14.00\" text-anchor=\"middle\" x=\"981.5\" y=\"-525.8\">flatten_3</text>\n",
       "<polyline fill=\"none\" points=\"1015,-511.5 1015,-547.5 \" stroke=\"#000000\"/>\n",
       "<text fill=\"#000000\" font-family=\"Times,serif\" font-size=\"14.00\" text-anchor=\"middle\" x=\"1043\" y=\"-525.8\">Flatten</text>\n",
       "</g>\n",
       "<!-- 140050227017488&#45;&gt;140050226711440 -->\n",
       "<g class=\"edge\" id=\"edge44\">\n",
       "<title>140050227017488-&gt;140050226711440</title>\n",
       "<path d=\"M959.0618,-584.4551C967.1953,-575.5932 977.1366,-564.7616 986.0366,-555.0646\" fill=\"none\" stroke=\"#000000\"/>\n",
       "<polygon fill=\"#000000\" points=\"988.7133,-557.3244 992.8965,-547.5904 983.5561,-552.5911 988.7133,-557.3244\" stroke=\"#000000\"/>\n",
       "</g>\n",
       "<!-- 140050227335120 -->\n",
       "<g class=\"node\" id=\"node65\">\n",
       "<title>140050227335120</title>\n",
       "<polygon fill=\"none\" points=\"1224,-511.5 1224,-547.5 1347,-547.5 1347,-511.5 1224,-511.5\" stroke=\"#000000\"/>\n",
       "<text fill=\"#000000\" font-family=\"Times,serif\" font-size=\"14.00\" text-anchor=\"middle\" x=\"1257.5\" y=\"-525.8\">flatten_4</text>\n",
       "<polyline fill=\"none\" points=\"1291,-511.5 1291,-547.5 \" stroke=\"#000000\"/>\n",
       "<text fill=\"#000000\" font-family=\"Times,serif\" font-size=\"14.00\" text-anchor=\"middle\" x=\"1319\" y=\"-525.8\">Flatten</text>\n",
       "</g>\n",
       "<!-- 140050226710352&#45;&gt;140050227335120 -->\n",
       "<g class=\"edge\" id=\"edge45\">\n",
       "<title>140050226710352-&gt;140050227335120</title>\n",
       "<path d=\"M1235.0618,-584.4551C1243.1953,-575.5932 1253.1366,-564.7616 1262.0366,-555.0646\" fill=\"none\" stroke=\"#000000\"/>\n",
       "<polygon fill=\"#000000\" points=\"1264.7133,-557.3244 1268.8965,-547.5904 1259.5561,-552.5911 1264.7133,-557.3244\" stroke=\"#000000\"/>\n",
       "</g>\n",
       "<!-- 140050222980752 -->\n",
       "<g class=\"node\" id=\"node66\">\n",
       "<title>140050222980752</title>\n",
       "<polygon fill=\"none\" points=\"1500,-511.5 1500,-547.5 1623,-547.5 1623,-511.5 1500,-511.5\" stroke=\"#000000\"/>\n",
       "<text fill=\"#000000\" font-family=\"Times,serif\" font-size=\"14.00\" text-anchor=\"middle\" x=\"1533.5\" y=\"-525.8\">flatten_5</text>\n",
       "<polyline fill=\"none\" points=\"1567,-511.5 1567,-547.5 \" stroke=\"#000000\"/>\n",
       "<text fill=\"#000000\" font-family=\"Times,serif\" font-size=\"14.00\" text-anchor=\"middle\" x=\"1595\" y=\"-525.8\">Flatten</text>\n",
       "</g>\n",
       "<!-- 140050227428752&#45;&gt;140050222980752 -->\n",
       "<g class=\"edge\" id=\"edge46\">\n",
       "<title>140050227428752-&gt;140050222980752</title>\n",
       "<path d=\"M1511.0618,-584.4551C1519.1953,-575.5932 1529.1366,-564.7616 1538.0366,-555.0646\" fill=\"none\" stroke=\"#000000\"/>\n",
       "<polygon fill=\"#000000\" points=\"1540.7133,-557.3244 1544.8965,-547.5904 1535.5561,-552.5911 1540.7133,-557.3244\" stroke=\"#000000\"/>\n",
       "</g>\n",
       "<!-- 140050227432272 -->\n",
       "<g class=\"node\" id=\"node67\">\n",
       "<title>140050227432272</title>\n",
       "<polygon fill=\"none\" points=\"1776,-511.5 1776,-547.5 1899,-547.5 1899,-511.5 1776,-511.5\" stroke=\"#000000\"/>\n",
       "<text fill=\"#000000\" font-family=\"Times,serif\" font-size=\"14.00\" text-anchor=\"middle\" x=\"1809.5\" y=\"-525.8\">flatten_6</text>\n",
       "<polyline fill=\"none\" points=\"1843,-511.5 1843,-547.5 \" stroke=\"#000000\"/>\n",
       "<text fill=\"#000000\" font-family=\"Times,serif\" font-size=\"14.00\" text-anchor=\"middle\" x=\"1871\" y=\"-525.8\">Flatten</text>\n",
       "</g>\n",
       "<!-- 140050227742608&#45;&gt;140050227432272 -->\n",
       "<g class=\"edge\" id=\"edge47\">\n",
       "<title>140050227742608-&gt;140050227432272</title>\n",
       "<path d=\"M1787.0618,-584.4551C1795.1953,-575.5932 1805.1366,-564.7616 1814.0366,-555.0646\" fill=\"none\" stroke=\"#000000\"/>\n",
       "<polygon fill=\"#000000\" points=\"1816.7133,-557.3244 1820.8965,-547.5904 1811.5561,-552.5911 1816.7133,-557.3244\" stroke=\"#000000\"/>\n",
       "</g>\n",
       "<!-- 140050224951952 -->\n",
       "<g class=\"node\" id=\"node68\">\n",
       "<title>140050224951952</title>\n",
       "<polygon fill=\"none\" points=\"2052,-511.5 2052,-547.5 2175,-547.5 2175,-511.5 2052,-511.5\" stroke=\"#000000\"/>\n",
       "<text fill=\"#000000\" font-family=\"Times,serif\" font-size=\"14.00\" text-anchor=\"middle\" x=\"2085.5\" y=\"-525.8\">flatten_7</text>\n",
       "<polyline fill=\"none\" points=\"2119,-511.5 2119,-547.5 \" stroke=\"#000000\"/>\n",
       "<text fill=\"#000000\" font-family=\"Times,serif\" font-size=\"14.00\" text-anchor=\"middle\" x=\"2147\" y=\"-525.8\">Flatten</text>\n",
       "</g>\n",
       "<!-- 140050226710864&#45;&gt;140050224951952 -->\n",
       "<g class=\"edge\" id=\"edge48\">\n",
       "<title>140050226710864-&gt;140050224951952</title>\n",
       "<path d=\"M2063.0618,-584.4551C2071.1953,-575.5932 2081.1366,-564.7616 2090.0366,-555.0646\" fill=\"none\" stroke=\"#000000\"/>\n",
       "<polygon fill=\"#000000\" points=\"2092.7133,-557.3244 2096.8965,-547.5904 2087.5561,-552.5911 2092.7133,-557.3244\" stroke=\"#000000\"/>\n",
       "</g>\n",
       "<!-- 140050227016656 -->\n",
       "<g class=\"node\" id=\"node69\">\n",
       "<title>140050227016656</title>\n",
       "<polygon fill=\"none\" points=\"2328,-511.5 2328,-547.5 2451,-547.5 2451,-511.5 2328,-511.5\" stroke=\"#000000\"/>\n",
       "<text fill=\"#000000\" font-family=\"Times,serif\" font-size=\"14.00\" text-anchor=\"middle\" x=\"2361.5\" y=\"-525.8\">flatten_8</text>\n",
       "<polyline fill=\"none\" points=\"2395,-511.5 2395,-547.5 \" stroke=\"#000000\"/>\n",
       "<text fill=\"#000000\" font-family=\"Times,serif\" font-size=\"14.00\" text-anchor=\"middle\" x=\"2423\" y=\"-525.8\">Flatten</text>\n",
       "</g>\n",
       "<!-- 140050228370320&#45;&gt;140050227016656 -->\n",
       "<g class=\"edge\" id=\"edge49\">\n",
       "<title>140050228370320-&gt;140050227016656</title>\n",
       "<path d=\"M2339.0618,-584.4551C2347.1953,-575.5932 2357.1366,-564.7616 2366.0366,-555.0646\" fill=\"none\" stroke=\"#000000\"/>\n",
       "<polygon fill=\"#000000\" points=\"2368.7133,-557.3244 2372.8965,-547.5904 2363.5561,-552.5911 2368.7133,-557.3244\" stroke=\"#000000\"/>\n",
       "</g>\n",
       "<!-- 140050228367440 -->\n",
       "<g class=\"node\" id=\"node70\">\n",
       "<title>140050228367440</title>\n",
       "<polygon fill=\"none\" points=\"2571,-511.5 2571,-547.5 2694,-547.5 2694,-511.5 2571,-511.5\" stroke=\"#000000\"/>\n",
       "<text fill=\"#000000\" font-family=\"Times,serif\" font-size=\"14.00\" text-anchor=\"middle\" x=\"2604.5\" y=\"-525.8\">flatten_9</text>\n",
       "<polyline fill=\"none\" points=\"2638,-511.5 2638,-547.5 \" stroke=\"#000000\"/>\n",
       "<text fill=\"#000000\" font-family=\"Times,serif\" font-size=\"14.00\" text-anchor=\"middle\" x=\"2666\" y=\"-525.8\">Flatten</text>\n",
       "</g>\n",
       "<!-- 140050228054736&#45;&gt;140050228367440 -->\n",
       "<g class=\"edge\" id=\"edge50\">\n",
       "<title>140050228054736-&gt;140050228367440</title>\n",
       "<path d=\"M2606.9045,-584.4551C2610.7868,-576.1196 2615.4806,-566.0416 2619.783,-556.8042\" fill=\"none\" stroke=\"#000000\"/>\n",
       "<polygon fill=\"#000000\" points=\"2623.025,-558.1331 2624.0744,-547.5904 2616.6795,-555.1776 2623.025,-558.1331\" stroke=\"#000000\"/>\n",
       "</g>\n",
       "<!-- 140050227742992 -->\n",
       "<g class=\"node\" id=\"node71\">\n",
       "<title>140050227742992</title>\n",
       "<polygon fill=\"none\" points=\"2779.5,-511.5 2779.5,-547.5 2909.5,-547.5 2909.5,-511.5 2779.5,-511.5\" stroke=\"#000000\"/>\n",
       "<text fill=\"#000000\" font-family=\"Times,serif\" font-size=\"14.00\" text-anchor=\"middle\" x=\"2816.5\" y=\"-525.8\">flatten_10</text>\n",
       "<polyline fill=\"none\" points=\"2853.5,-511.5 2853.5,-547.5 \" stroke=\"#000000\"/>\n",
       "<text fill=\"#000000\" font-family=\"Times,serif\" font-size=\"14.00\" text-anchor=\"middle\" x=\"2881.5\" y=\"-525.8\">Flatten</text>\n",
       "</g>\n",
       "<!-- 140050228678864&#45;&gt;140050227742992 -->\n",
       "<g class=\"edge\" id=\"edge51\">\n",
       "<title>140050228678864-&gt;140050227742992</title>\n",
       "<path d=\"M2870.0955,-584.4551C2866.2132,-576.1196 2861.5194,-566.0416 2857.217,-556.8042\" fill=\"none\" stroke=\"#000000\"/>\n",
       "<polygon fill=\"#000000\" points=\"2860.3205,-555.1776 2852.9256,-547.5904 2853.975,-558.1331 2860.3205,-555.1776\" stroke=\"#000000\"/>\n",
       "</g>\n",
       "<!-- 140050228677520 -->\n",
       "<g class=\"node\" id=\"node72\">\n",
       "<title>140050228677520</title>\n",
       "<polygon fill=\"none\" points=\"2927.5,-511.5 2927.5,-547.5 3057.5,-547.5 3057.5,-511.5 2927.5,-511.5\" stroke=\"#000000\"/>\n",
       "<text fill=\"#000000\" font-family=\"Times,serif\" font-size=\"14.00\" text-anchor=\"middle\" x=\"2964.5\" y=\"-525.8\">flatten_11</text>\n",
       "<polyline fill=\"none\" points=\"3001.5,-511.5 3001.5,-547.5 \" stroke=\"#000000\"/>\n",
       "<text fill=\"#000000\" font-family=\"Times,serif\" font-size=\"14.00\" text-anchor=\"middle\" x=\"3029.5\" y=\"-525.8\">Flatten</text>\n",
       "</g>\n",
       "<!-- 140050228779536&#45;&gt;140050228677520 -->\n",
       "<g class=\"edge\" id=\"edge52\">\n",
       "<title>140050228779536-&gt;140050228677520</title>\n",
       "<path d=\"M3119.7247,-584.4551C3096.7713,-574.5403 3068.1102,-562.16 3043.8055,-551.6615\" fill=\"none\" stroke=\"#000000\"/>\n",
       "<polygon fill=\"#000000\" points=\"3044.9485,-548.3428 3034.3804,-547.5904 3042.1727,-554.7689 3044.9485,-548.3428\" stroke=\"#000000\"/>\n",
       "</g>\n",
       "<!-- 140050228779856 -->\n",
       "<g class=\"node\" id=\"node73\">\n",
       "<title>140050228779856</title>\n",
       "<polygon fill=\"none\" points=\"3075.5,-511.5 3075.5,-547.5 3205.5,-547.5 3205.5,-511.5 3075.5,-511.5\" stroke=\"#000000\"/>\n",
       "<text fill=\"#000000\" font-family=\"Times,serif\" font-size=\"14.00\" text-anchor=\"middle\" x=\"3112.5\" y=\"-525.8\">flatten_12</text>\n",
       "<polyline fill=\"none\" points=\"3149.5,-511.5 3149.5,-547.5 \" stroke=\"#000000\"/>\n",
       "<text fill=\"#000000\" font-family=\"Times,serif\" font-size=\"14.00\" text-anchor=\"middle\" x=\"3177.5\" y=\"-525.8\">Flatten</text>\n",
       "</g>\n",
       "<!-- 140050227645072&#45;&gt;140050228779856 -->\n",
       "<g class=\"edge\" id=\"edge53\">\n",
       "<title>140050227645072-&gt;140050228779856</title>\n",
       "<path d=\"M3367.2518,-584.4458C3325.0291,-574.5184 3271.5603,-561.8518 3215.5955,-548.2549\" fill=\"none\" stroke=\"#000000\"/>\n",
       "<polygon fill=\"#000000\" points=\"3216.4032,-544.8494 3205.8592,-545.8861 3214.7484,-551.651 3216.4032,-544.8494\" stroke=\"#000000\"/>\n",
       "</g>\n",
       "<!-- 140050222979408 -->\n",
       "<g class=\"node\" id=\"node74\">\n",
       "<title>140050222979408</title>\n",
       "<polygon fill=\"none\" points=\"3223.5,-511.5 3223.5,-547.5 3353.5,-547.5 3353.5,-511.5 3223.5,-511.5\" stroke=\"#000000\"/>\n",
       "<text fill=\"#000000\" font-family=\"Times,serif\" font-size=\"14.00\" text-anchor=\"middle\" x=\"3260.5\" y=\"-525.8\">flatten_13</text>\n",
       "<polyline fill=\"none\" points=\"3297.5,-511.5 3297.5,-547.5 \" stroke=\"#000000\"/>\n",
       "<text fill=\"#000000\" font-family=\"Times,serif\" font-size=\"14.00\" text-anchor=\"middle\" x=\"3325.5\" y=\"-525.8\">Flatten</text>\n",
       "</g>\n",
       "<!-- 140050229404752&#45;&gt;140050222979408 -->\n",
       "<g class=\"edge\" id=\"edge54\">\n",
       "<title>140050229404752-&gt;140050222979408</title>\n",
       "<path d=\"M3597.6824,-584.4671C3516.7399,-572.9792 3419.1356,-558.6231 3363.9236,-548.1599\" fill=\"none\" stroke=\"#000000\"/>\n",
       "<polygon fill=\"#000000\" points=\"3364.2772,-544.6631 3353.7926,-546.1872 3362.9393,-551.534 3364.2772,-544.6631\" stroke=\"#000000\"/>\n",
       "</g>\n",
       "<!-- 140050222878864 -->\n",
       "<g class=\"node\" id=\"node75\">\n",
       "<title>140050222878864</title>\n",
       "<polygon fill=\"none\" points=\"3371.5,-511.5 3371.5,-547.5 3501.5,-547.5 3501.5,-511.5 3371.5,-511.5\" stroke=\"#000000\"/>\n",
       "<text fill=\"#000000\" font-family=\"Times,serif\" font-size=\"14.00\" text-anchor=\"middle\" x=\"3408.5\" y=\"-525.8\">flatten_14</text>\n",
       "<polyline fill=\"none\" points=\"3445.5,-511.5 3445.5,-547.5 \" stroke=\"#000000\"/>\n",
       "<text fill=\"#000000\" font-family=\"Times,serif\" font-size=\"14.00\" text-anchor=\"middle\" x=\"3473.5\" y=\"-525.8\">Flatten</text>\n",
       "</g>\n",
       "<!-- 140050229715472&#45;&gt;140050222878864 -->\n",
       "<g class=\"edge\" id=\"edge55\">\n",
       "<title>140050229715472-&gt;140050222878864</title>\n",
       "<path d=\"M3877.8617,-585.0949C3874.7114,-584.7218 3871.5872,-584.3562 3868.5,-584 3712.8985,-566.0444 3669.7932,-575.0743 3511.8352,-548.1016\" fill=\"none\" stroke=\"#000000\"/>\n",
       "<polygon fill=\"#000000\" points=\"3512.2106,-544.6146 3501.7604,-546.3594 3511.0178,-551.5123 3512.2106,-544.6146\" stroke=\"#000000\"/>\n",
       "</g>\n",
       "<!-- 140050229393552 -->\n",
       "<g class=\"node\" id=\"node76\">\n",
       "<title>140050229393552</title>\n",
       "<polygon fill=\"none\" points=\"3519.5,-511.5 3519.5,-547.5 3649.5,-547.5 3649.5,-511.5 3519.5,-511.5\" stroke=\"#000000\"/>\n",
       "<text fill=\"#000000\" font-family=\"Times,serif\" font-size=\"14.00\" text-anchor=\"middle\" x=\"3556.5\" y=\"-525.8\">flatten_15</text>\n",
       "<polyline fill=\"none\" points=\"3593.5,-511.5 3593.5,-547.5 \" stroke=\"#000000\"/>\n",
       "<text fill=\"#000000\" font-family=\"Times,serif\" font-size=\"14.00\" text-anchor=\"middle\" x=\"3621.5\" y=\"-525.8\">Flatten</text>\n",
       "</g>\n",
       "<!-- 140050229933264&#45;&gt;140050229393552 -->\n",
       "<g class=\"edge\" id=\"edge56\">\n",
       "<title>140050229933264-&gt;140050229393552</title>\n",
       "<path d=\"M4160.8741,-584.9803C4157.7201,-584.6415 4154.5917,-584.314 4151.5,-584 3936.2385,-562.136 3877.2033,-582.1455 3659.8778,-548.0678\" fill=\"none\" stroke=\"#000000\"/>\n",
       "<polygon fill=\"#000000\" points=\"3660.1693,-544.5703 3649.744,-546.4579 3659.0709,-551.4836 3660.1693,-544.5703\" stroke=\"#000000\"/>\n",
       "</g>\n",
       "<!-- 140050229935888 -->\n",
       "<g class=\"node\" id=\"node77\">\n",
       "<title>140050229935888</title>\n",
       "<polygon fill=\"none\" points=\"3667.5,-511.5 3667.5,-547.5 3797.5,-547.5 3797.5,-511.5 3667.5,-511.5\" stroke=\"#000000\"/>\n",
       "<text fill=\"#000000\" font-family=\"Times,serif\" font-size=\"14.00\" text-anchor=\"middle\" x=\"3704.5\" y=\"-525.8\">flatten_16</text>\n",
       "<polyline fill=\"none\" points=\"3741.5,-511.5 3741.5,-547.5 \" stroke=\"#000000\"/>\n",
       "<text fill=\"#000000\" font-family=\"Times,serif\" font-size=\"14.00\" text-anchor=\"middle\" x=\"3769.5\" y=\"-525.8\">Flatten</text>\n",
       "</g>\n",
       "<!-- 140050217839376&#45;&gt;140050229935888 -->\n",
       "<g class=\"edge\" id=\"edge57\">\n",
       "<title>140050217839376-&gt;140050229935888</title>\n",
       "<path d=\"M4443.8805,-584.9147C4440.7246,-584.5955 4437.5941,-584.2899 4434.5,-584 4159.4113,-558.2298 4084.6284,-589.3422 3807.6733,-548.0151\" fill=\"none\" stroke=\"#000000\"/>\n",
       "<polygon fill=\"#000000\" points=\"3808.1457,-544.5469 3797.7352,-546.5142 3807.1003,-551.4684 3808.1457,-544.5469\" stroke=\"#000000\"/>\n",
       "</g>\n",
       "<!-- 140050217837904 -->\n",
       "<g class=\"node\" id=\"node78\">\n",
       "<title>140050217837904</title>\n",
       "<polygon fill=\"none\" points=\"3815.5,-511.5 3815.5,-547.5 3945.5,-547.5 3945.5,-511.5 3815.5,-511.5\" stroke=\"#000000\"/>\n",
       "<text fill=\"#000000\" font-family=\"Times,serif\" font-size=\"14.00\" text-anchor=\"middle\" x=\"3852.5\" y=\"-525.8\">flatten_17</text>\n",
       "<polyline fill=\"none\" points=\"3889.5,-511.5 3889.5,-547.5 \" stroke=\"#000000\"/>\n",
       "<text fill=\"#000000\" font-family=\"Times,serif\" font-size=\"14.00\" text-anchor=\"middle\" x=\"3917.5\" y=\"-525.8\">Flatten</text>\n",
       "</g>\n",
       "<!-- 140050229403984&#45;&gt;140050217837904 -->\n",
       "<g class=\"edge\" id=\"edge58\">\n",
       "<title>140050229403984-&gt;140050217837904</title>\n",
       "<path d=\"M4726.8844,-584.8722C4723.7273,-584.5657 4720.5955,-584.2742 4717.5,-584 4382.6381,-554.3379 4292.1347,-596.5706 3955.754,-548.014\" fill=\"none\" stroke=\"#000000\"/>\n",
       "<polygon fill=\"#000000\" points=\"3956.1304,-544.5319 3945.7297,-546.5508 3955.1193,-551.4585 3956.1304,-544.5319\" stroke=\"#000000\"/>\n",
       "</g>\n",
       "<!-- 140050229089680 -->\n",
       "<g class=\"node\" id=\"node79\">\n",
       "<title>140050229089680</title>\n",
       "<polygon fill=\"none\" points=\"3963.5,-511.5 3963.5,-547.5 4093.5,-547.5 4093.5,-511.5 3963.5,-511.5\" stroke=\"#000000\"/>\n",
       "<text fill=\"#000000\" font-family=\"Times,serif\" font-size=\"14.00\" text-anchor=\"middle\" x=\"4000.5\" y=\"-525.8\">flatten_18</text>\n",
       "<polyline fill=\"none\" points=\"4037.5,-511.5 4037.5,-547.5 \" stroke=\"#000000\"/>\n",
       "<text fill=\"#000000\" font-family=\"Times,serif\" font-size=\"14.00\" text-anchor=\"middle\" x=\"4065.5\" y=\"-525.8\">Flatten</text>\n",
       "</g>\n",
       "<!-- 140050222600592&#45;&gt;140050229089680 -->\n",
       "<g class=\"edge\" id=\"edge59\">\n",
       "<title>140050222600592-&gt;140050229089680</title>\n",
       "<path d=\"M5009.887,-584.8425C5006.7291,-584.5449 5003.5965,-584.2632 5000.5,-584 4605.8076,-550.4457 4499.6389,-603.8359 4103.7288,-548.0015\" fill=\"none\" stroke=\"#000000\"/>\n",
       "<polygon fill=\"#000000\" points=\"4104.1197,-544.5219 4093.726,-546.5764 4103.1323,-551.4519 4104.1197,-544.5219\" stroke=\"#000000\"/>\n",
       "</g>\n",
       "<!-- 140050228484816 -->\n",
       "<g class=\"node\" id=\"node80\">\n",
       "<title>140050228484816</title>\n",
       "<polygon fill=\"none\" points=\"4111.5,-511.5 4111.5,-547.5 4241.5,-547.5 4241.5,-511.5 4111.5,-511.5\" stroke=\"#000000\"/>\n",
       "<text fill=\"#000000\" font-family=\"Times,serif\" font-size=\"14.00\" text-anchor=\"middle\" x=\"4148.5\" y=\"-525.8\">flatten_19</text>\n",
       "<polyline fill=\"none\" points=\"4185.5,-511.5 4185.5,-547.5 \" stroke=\"#000000\"/>\n",
       "<text fill=\"#000000\" font-family=\"Times,serif\" font-size=\"14.00\" text-anchor=\"middle\" x=\"4213.5\" y=\"-525.8\">Flatten</text>\n",
       "</g>\n",
       "<!-- 140050217824784&#45;&gt;140050228484816 -->\n",
       "<g class=\"edge\" id=\"edge60\">\n",
       "<title>140050217824784-&gt;140050228484816</title>\n",
       "<path d=\"M5292.8888,-584.8205C5289.7304,-584.5295 5286.5971,-584.2551 5283.5,-584 4829.0144,-546.5597 4707.1808,-611.1045 4251.8565,-548.0127\" fill=\"none\" stroke=\"#000000\"/>\n",
       "<polygon fill=\"#000000\" points=\"4252.1118,-544.5144 4241.7233,-546.5953 4251.142,-551.4469 4252.1118,-544.5144\" stroke=\"#000000\"/>\n",
       "</g>\n",
       "<!-- 140050229728144 -->\n",
       "<g class=\"node\" id=\"node82\">\n",
       "<title>140050229728144</title>\n",
       "<polygon fill=\"none\" points=\"2745.5,-438.5 2745.5,-474.5 2943.5,-474.5 2943.5,-438.5 2745.5,-438.5\" stroke=\"#000000\"/>\n",
       "<text fill=\"#000000\" font-family=\"Times,serif\" font-size=\"14.00\" text-anchor=\"middle\" x=\"2801.5\" y=\"-452.8\">categorical_conc</text>\n",
       "<polyline fill=\"none\" points=\"2857.5,-438.5 2857.5,-474.5 \" stroke=\"#000000\"/>\n",
       "<text fill=\"#000000\" font-family=\"Times,serif\" font-size=\"14.00\" text-anchor=\"middle\" x=\"2900.5\" y=\"-452.8\">Concatenate</text>\n",
       "</g>\n",
       "<!-- 140050225981136&#45;&gt;140050229728144 -->\n",
       "<g class=\"edge\" id=\"edge61\">\n",
       "<title>140050225981136-&gt;140050229728144</title>\n",
       "<path d=\"M310.7334,-520.3101C333.9906,-516.7518 361.5073,-513.0481 386.5,-511 852.5497,-472.8089 2321.3721,-460.069 2735.0844,-457.19\" fill=\"none\" stroke=\"#000000\"/>\n",
       "<polygon fill=\"#000000\" points=\"2735.2745,-460.6889 2745.25,-457.1198 2735.2261,-453.689 2735.2745,-460.6889\" stroke=\"#000000\"/>\n",
       "</g>\n",
       "<!-- 140050224228240&#45;&gt;140050229728144 -->\n",
       "<g class=\"edge\" id=\"edge62\">\n",
       "<title>140050224228240-&gt;140050229728144</title>\n",
       "<path d=\"M519.3211,-522.8657C559.9627,-518.7648 614.3376,-513.7717 662.5,-511 1072.4235,-487.4091 2351.9757,-464.7035 2735.063,-458.29\" fill=\"none\" stroke=\"#000000\"/>\n",
       "<polygon fill=\"#000000\" points=\"2735.3743,-461.7854 2745.3144,-458.1187 2735.2573,-454.7863 2735.3743,-461.7854\" stroke=\"#000000\"/>\n",
       "</g>\n",
       "<!-- 140050225982800&#45;&gt;140050229728144 -->\n",
       "<g class=\"edge\" id=\"edge63\">\n",
       "<title>140050225982800-&gt;140050229728144</title>\n",
       "<path d=\"M795.3246,-522.924C835.9675,-518.8471 890.3427,-513.8588 938.5,-511 1621.2642,-470.4693 2443.4649,-459.8615 2735.2912,-457.2771\" fill=\"none\" stroke=\"#000000\"/>\n",
       "<polygon fill=\"#000000\" points=\"2735.4785,-460.7757 2745.4476,-457.1885 2735.4174,-453.776 2735.4785,-460.7757\" stroke=\"#000000\"/>\n",
       "</g>\n",
       "<!-- 140050226711440&#45;&gt;140050229728144 -->\n",
       "<g class=\"edge\" id=\"edge64\">\n",
       "<title>140050226711440-&gt;140050229728144</title>\n",
       "<path d=\"M1071.3293,-523.0021C1111.9742,-518.9572 1166.3497,-513.9752 1214.5,-511 1786.203,-475.6744 2472.2192,-462.1463 2734.8803,-458.0251\" fill=\"none\" stroke=\"#000000\"/>\n",
       "<polygon fill=\"#000000\" points=\"2735.2352,-461.5201 2745.1795,-457.865 2735.1263,-454.521 2735.2352,-461.5201\" stroke=\"#000000\"/>\n",
       "</g>\n",
       "<!-- 140050227335120&#45;&gt;140050229728144 -->\n",
       "<g class=\"edge\" id=\"edge65\">\n",
       "<title>140050227335120-&gt;140050229728144</title>\n",
       "<path d=\"M1347.3363,-523.1119C1387.984,-519.1121 1442.3601,-514.1391 1490.5,-511 1952.8555,-480.8512 2505.1872,-464.8344 2735.4032,-459.0493\" fill=\"none\" stroke=\"#000000\"/>\n",
       "<polygon fill=\"#000000\" points=\"2735.5462,-462.547 2745.4556,-458.7981 2735.3713,-455.5491 2735.5462,-462.547\" stroke=\"#000000\"/>\n",
       "</g>\n",
       "<!-- 140050222980752&#45;&gt;140050229728144 -->\n",
       "<g class=\"edge\" id=\"edge66\">\n",
       "<title>140050222980752-&gt;140050229728144</title>\n",
       "<path d=\"M1623.3475,-523.2777C1663.9999,-519.346 1718.3769,-514.3866 1766.5,-511 2120.2436,-486.1061 2540.063,-468.2352 2734.9706,-460.6072\" fill=\"none\" stroke=\"#000000\"/>\n",
       "<polygon fill=\"#000000\" points=\"2735.3592,-464.0948 2745.2151,-460.2076 2735.0863,-457.1002 2735.3592,-464.0948\" stroke=\"#000000\"/>\n",
       "</g>\n",
       "<!-- 140050227432272&#45;&gt;140050229728144 -->\n",
       "<g class=\"edge\" id=\"edge67\">\n",
       "<title>140050227432272-&gt;140050229728144</title>\n",
       "<path d=\"M1899.3684,-523.5572C1940.0293,-519.7403 1994.4081,-514.8036 2042.5,-511 2289.8463,-491.4374 2580.4524,-472.7606 2734.9313,-463.1746\" fill=\"none\" stroke=\"#000000\"/>\n",
       "<polygon fill=\"#000000\" points=\"2735.5976,-466.6401 2745.362,-462.5283 2735.1646,-459.6535 2735.5976,-466.6401\" stroke=\"#000000\"/>\n",
       "</g>\n",
       "<!-- 140050224951952&#45;&gt;140050229728144 -->\n",
       "<g class=\"edge\" id=\"edge68\">\n",
       "<title>140050224951952-&gt;140050229728144</title>\n",
       "<path d=\"M2175.1946,-523.339C2299.0575,-510.9696 2579.4283,-482.9709 2735.1254,-467.4225\" fill=\"none\" stroke=\"#000000\"/>\n",
       "<polygon fill=\"#000000\" points=\"2735.5949,-470.8931 2745.1976,-466.4167 2734.8993,-463.9278 2735.5949,-470.8931\" stroke=\"#000000\"/>\n",
       "</g>\n",
       "<!-- 140050227016656&#45;&gt;140050229728144 -->\n",
       "<g class=\"edge\" id=\"edge69\">\n",
       "<title>140050227016656-&gt;140050229728144</title>\n",
       "<path d=\"M2451.3369,-519.5789C2524.0992,-507.905 2646.2424,-488.3084 2735.1117,-474.0502\" fill=\"none\" stroke=\"#000000\"/>\n",
       "<polygon fill=\"#000000\" points=\"2735.9143,-477.4663 2745.2336,-472.4263 2734.8054,-470.5547 2735.9143,-477.4663\" stroke=\"#000000\"/>\n",
       "</g>\n",
       "<!-- 140050228367440&#45;&gt;140050229728144 -->\n",
       "<g class=\"edge\" id=\"edge70\">\n",
       "<title>140050228367440-&gt;140050229728144</title>\n",
       "<path d=\"M2684.9045,-511.4551C2714.3352,-501.3209 2751.2461,-488.611 2782.1559,-477.9675\" fill=\"none\" stroke=\"#000000\"/>\n",
       "<polygon fill=\"#000000\" points=\"2783.648,-481.1555 2791.9636,-474.5904 2781.3689,-474.5369 2783.648,-481.1555\" stroke=\"#000000\"/>\n",
       "</g>\n",
       "<!-- 140050227742992&#45;&gt;140050229728144 -->\n",
       "<g class=\"edge\" id=\"edge71\">\n",
       "<title>140050227742992-&gt;140050229728144</title>\n",
       "<path d=\"M2844.5,-511.4551C2844.5,-503.3828 2844.5,-493.6764 2844.5,-484.6817\" fill=\"none\" stroke=\"#000000\"/>\n",
       "<polygon fill=\"#000000\" points=\"2848.0001,-484.5903 2844.5,-474.5904 2841.0001,-484.5904 2848.0001,-484.5903\" stroke=\"#000000\"/>\n",
       "</g>\n",
       "<!-- 140050228677520&#45;&gt;140050229728144 -->\n",
       "<g class=\"edge\" id=\"edge72\">\n",
       "<title>140050228677520-&gt;140050229728144</title>\n",
       "<path d=\"M2955.9157,-511.4551C2936.0813,-501.6719 2911.3803,-489.4883 2890.2798,-479.0806\" fill=\"none\" stroke=\"#000000\"/>\n",
       "<polygon fill=\"#000000\" points=\"2891.693,-475.8751 2881.1763,-474.5904 2888.5965,-482.1529 2891.693,-475.8751\" stroke=\"#000000\"/>\n",
       "</g>\n",
       "<!-- 140050228779856&#45;&gt;140050229728144 -->\n",
       "<g class=\"edge\" id=\"edge73\">\n",
       "<title>140050228779856-&gt;140050229728144</title>\n",
       "<path d=\"M3075.1338,-513.1425C3072.2162,-512.4174 3069.3279,-511.7006 3066.5,-511 3020.7629,-499.6688 2969.6976,-487.125 2928.0848,-476.9309\" fill=\"none\" stroke=\"#000000\"/>\n",
       "<polygon fill=\"#000000\" points=\"2928.8121,-473.5056 2918.2665,-474.5263 2927.1469,-480.3047 2928.8121,-473.5056\" stroke=\"#000000\"/>\n",
       "</g>\n",
       "<!-- 140050222979408&#45;&gt;140050229728144 -->\n",
       "<g class=\"edge\" id=\"edge74\">\n",
       "<title>140050222979408-&gt;140050229728144</title>\n",
       "<path d=\"M3223.2088,-512.8058C3220.2709,-512.1718 3217.3578,-511.5663 3214.5,-511 3127.3613,-493.7338 3027.6832,-479.3566 2953.7571,-469.7121\" fill=\"none\" stroke=\"#000000\"/>\n",
       "<polygon fill=\"#000000\" points=\"2953.8677,-466.1972 2943.5007,-468.3828 2952.9679,-473.1391 2953.8677,-466.1972\" stroke=\"#000000\"/>\n",
       "</g>\n",
       "<!-- 140050222878864&#45;&gt;140050229728144 -->\n",
       "<g class=\"edge\" id=\"edge75\">\n",
       "<title>140050222878864-&gt;140050229728144</title>\n",
       "<path d=\"M3371.2366,-512.6571C3368.2913,-512.0634 3365.3689,-511.507 3362.5,-511 3222.5357,-486.2671 3059.1696,-471.3603 2953.9015,-463.537\" fill=\"none\" stroke=\"#000000\"/>\n",
       "<polygon fill=\"#000000\" points=\"2954.128,-460.0443 2943.8983,-462.802 2953.6149,-467.0255 2954.128,-460.0443\" stroke=\"#000000\"/>\n",
       "</g>\n",
       "<!-- 140050229393552&#45;&gt;140050229728144 -->\n",
       "<g class=\"edge\" id=\"edge76\">\n",
       "<title>140050229393552-&gt;140050229728144</title>\n",
       "<path d=\"M3519.2509,-512.5737C3516.3017,-512.0026 3513.3746,-511.4737 3510.5,-511 3315.9648,-478.9441 3086.2062,-465.4308 2953.7238,-459.968\" fill=\"none\" stroke=\"#000000\"/>\n",
       "<polygon fill=\"#000000\" points=\"2953.7032,-456.4644 2943.5699,-459.5573 2953.4202,-463.4587 2953.7032,-456.4644\" stroke=\"#000000\"/>\n",
       "</g>\n",
       "<!-- 140050229935888&#45;&gt;140050229728144 -->\n",
       "<g class=\"edge\" id=\"edge77\">\n",
       "<title>140050229935888-&gt;140050229728144</title>\n",
       "<path d=\"M3667.2595,-512.5204C3664.3079,-511.9637 3661.378,-511.4524 3658.5,-511 3525.9187,-490.1593 3143.5427,-470.3075 2953.8685,-461.4016\" fill=\"none\" stroke=\"#000000\"/>\n",
       "<polygon fill=\"#000000\" points=\"2953.7503,-457.8924 2943.5977,-460.9212 2953.4232,-464.8847 2953.7503,-457.8924\" stroke=\"#000000\"/>\n",
       "</g>\n",
       "<!-- 140050217837904&#45;&gt;140050229728144 -->\n",
       "<g class=\"edge\" id=\"edge78\">\n",
       "<title>140050217837904-&gt;140050229728144</title>\n",
       "<path d=\"M3815.2652,-512.4833C3812.3121,-511.9367 3809.3803,-511.4376 3806.5,-511 3645.0233,-486.4654 3170.1487,-467.6494 2953.9487,-460.1034\" fill=\"none\" stroke=\"#000000\"/>\n",
       "<polygon fill=\"#000000\" points=\"2953.9668,-456.602 2943.8513,-459.7526 2953.7237,-463.5977 2953.9668,-456.602\" stroke=\"#000000\"/>\n",
       "</g>\n",
       "<!-- 140050229089680&#45;&gt;140050229728144 -->\n",
       "<g class=\"edge\" id=\"edge79\">\n",
       "<title>140050229089680-&gt;140050229728144</title>\n",
       "<path d=\"M3963.2693,-512.4561C3960.3151,-511.9168 3957.3819,-511.4268 3954.5,-511 3763.874,-482.7706 3194.9006,-465.4128 2954.0908,-459.1483\" fill=\"none\" stroke=\"#000000\"/>\n",
       "<polygon fill=\"#000000\" points=\"2954.0065,-455.645 2943.9193,-458.8852 2953.8255,-462.6427 2954.0065,-455.645\" stroke=\"#000000\"/>\n",
       "</g>\n",
       "<!-- 140050228484816&#45;&gt;140050229728144 -->\n",
       "<g class=\"edge\" id=\"edge80\">\n",
       "<title>140050228484816-&gt;140050229728144</title>\n",
       "<path d=\"M4111.2723,-512.4353C4108.3173,-511.9016 4105.3832,-511.4185 4102.5,-511 3882.4733,-479.0645 3217.8868,-463.4711 2954.1087,-458.4119\" fill=\"none\" stroke=\"#000000\"/>\n",
       "<polygon fill=\"#000000\" points=\"2953.8181,-454.9059 2943.7533,-458.2148 2953.6848,-461.9046 2953.8181,-454.9059\" stroke=\"#000000\"/>\n",
       "</g>\n",
       "<!-- 140050224014800 -->\n",
       "<g class=\"node\" id=\"node81\">\n",
       "<title>140050224014800</title>\n",
       "<polygon fill=\"none\" points=\"4260,-511.5 4260,-547.5 4413,-547.5 4413,-511.5 4260,-511.5\" stroke=\"#000000\"/>\n",
       "<text fill=\"#000000\" font-family=\"Times,serif\" font-size=\"14.00\" text-anchor=\"middle\" x=\"4296.5\" y=\"-525.8\">numerical</text>\n",
       "<polyline fill=\"none\" points=\"4333,-511.5 4333,-547.5 \" stroke=\"#000000\"/>\n",
       "<text fill=\"#000000\" font-family=\"Times,serif\" font-size=\"14.00\" text-anchor=\"middle\" x=\"4373\" y=\"-525.8\">InputLayer</text>\n",
       "</g>\n",
       "<!-- 140050227774480 -->\n",
       "<g class=\"node\" id=\"node83\">\n",
       "<title>140050227774480</title>\n",
       "<polygon fill=\"none\" points=\"3617,-438.5 3617,-474.5 3744,-474.5 3744,-438.5 3617,-438.5\" stroke=\"#000000\"/>\n",
       "<text fill=\"#000000\" font-family=\"Times,serif\" font-size=\"14.00\" text-anchor=\"middle\" x=\"3648\" y=\"-452.8\">dropout</text>\n",
       "<polyline fill=\"none\" points=\"3679,-438.5 3679,-474.5 \" stroke=\"#000000\"/>\n",
       "<text fill=\"#000000\" font-family=\"Times,serif\" font-size=\"14.00\" text-anchor=\"middle\" x=\"3711.5\" y=\"-452.8\">Dropout</text>\n",
       "</g>\n",
       "<!-- 140050224014800&#45;&gt;140050227774480 -->\n",
       "<g class=\"edge\" id=\"edge81\">\n",
       "<title>140050224014800-&gt;140050227774480</title>\n",
       "<path d=\"M4259.6884,-512.5126C4256.5902,-511.9746 4253.5185,-511.4673 4250.5,-511 4073.4853,-483.5936 3863.2701,-467.7675 3754.287,-460.7974\" fill=\"none\" stroke=\"#000000\"/>\n",
       "<polygon fill=\"#000000\" points=\"3754.2619,-457.2889 3744.0608,-460.1505 3753.8199,-464.275 3754.2619,-457.2889\" stroke=\"#000000\"/>\n",
       "</g>\n",
       "<!-- 140050224056784 -->\n",
       "<g class=\"node\" id=\"node84\">\n",
       "<title>140050224056784</title>\n",
       "<polygon fill=\"none\" points=\"2850,-365.5 2850,-401.5 3019,-401.5 3019,-365.5 2850,-365.5\" stroke=\"#000000\"/>\n",
       "<text fill=\"#000000\" font-family=\"Times,serif\" font-size=\"14.00\" text-anchor=\"middle\" x=\"2891.5\" y=\"-379.8\">concatenate</text>\n",
       "<polyline fill=\"none\" points=\"2933,-365.5 2933,-401.5 \" stroke=\"#000000\"/>\n",
       "<text fill=\"#000000\" font-family=\"Times,serif\" font-size=\"14.00\" text-anchor=\"middle\" x=\"2976\" y=\"-379.8\">Concatenate</text>\n",
       "</g>\n",
       "<!-- 140050229728144&#45;&gt;140050224056784 -->\n",
       "<g class=\"edge\" id=\"edge82\">\n",
       "<title>140050229728144-&gt;140050224056784</title>\n",
       "<path d=\"M2866.7472,-438.4551C2878.1055,-429.2422 2892.0883,-417.9006 2904.3956,-407.918\" fill=\"none\" stroke=\"#000000\"/>\n",
       "<polygon fill=\"#000000\" points=\"2906.6352,-410.6081 2912.1968,-401.5904 2902.2256,-405.1716 2906.6352,-410.6081\" stroke=\"#000000\"/>\n",
       "</g>\n",
       "<!-- 140050227774480&#45;&gt;140050224056784 -->\n",
       "<g class=\"edge\" id=\"edge83\">\n",
       "<title>140050227774480-&gt;140050224056784</title>\n",
       "<path d=\"M3616.8965,-450.2761C3485.535,-437.4217 3183.6646,-407.8821 3029.2473,-392.7715\" fill=\"none\" stroke=\"#000000\"/>\n",
       "<polygon fill=\"#000000\" points=\"3029.5861,-389.288 3019.2927,-391.7974 3028.9043,-396.2548 3029.5861,-389.288\" stroke=\"#000000\"/>\n",
       "</g>\n",
       "<!-- 140050220194512 -->\n",
       "<g class=\"node\" id=\"node85\">\n",
       "<title>140050220194512</title>\n",
       "<polygon fill=\"none\" points=\"2884,-292.5 2884,-328.5 2985,-328.5 2985,-292.5 2884,-292.5\" stroke=\"#000000\"/>\n",
       "<text fill=\"#000000\" font-family=\"Times,serif\" font-size=\"14.00\" text-anchor=\"middle\" x=\"2908.5\" y=\"-306.8\">dense</text>\n",
       "<polyline fill=\"none\" points=\"2933,-292.5 2933,-328.5 \" stroke=\"#000000\"/>\n",
       "<text fill=\"#000000\" font-family=\"Times,serif\" font-size=\"14.00\" text-anchor=\"middle\" x=\"2959\" y=\"-306.8\">Dense</text>\n",
       "</g>\n",
       "<!-- 140050224056784&#45;&gt;140050220194512 -->\n",
       "<g class=\"edge\" id=\"edge84\">\n",
       "<title>140050224056784-&gt;140050220194512</title>\n",
       "<path d=\"M2934.5,-365.4551C2934.5,-357.3828 2934.5,-347.6764 2934.5,-338.6817\" fill=\"none\" stroke=\"#000000\"/>\n",
       "<polygon fill=\"#000000\" points=\"2938.0001,-338.5903 2934.5,-328.5904 2931.0001,-338.5904 2938.0001,-338.5903\" stroke=\"#000000\"/>\n",
       "</g>\n",
       "<!-- 140050218486288 -->\n",
       "<g class=\"node\" id=\"node86\">\n",
       "<title>140050218486288</title>\n",
       "<polygon fill=\"none\" points=\"2863.5,-219.5 2863.5,-255.5 3005.5,-255.5 3005.5,-219.5 2863.5,-219.5\" stroke=\"#000000\"/>\n",
       "<text fill=\"#000000\" font-family=\"Times,serif\" font-size=\"14.00\" text-anchor=\"middle\" x=\"2902\" y=\"-233.8\">dropout_1</text>\n",
       "<polyline fill=\"none\" points=\"2940.5,-219.5 2940.5,-255.5 \" stroke=\"#000000\"/>\n",
       "<text fill=\"#000000\" font-family=\"Times,serif\" font-size=\"14.00\" text-anchor=\"middle\" x=\"2973\" y=\"-233.8\">Dropout</text>\n",
       "</g>\n",
       "<!-- 140050220194512&#45;&gt;140050218486288 -->\n",
       "<g class=\"edge\" id=\"edge85\">\n",
       "<title>140050220194512-&gt;140050218486288</title>\n",
       "<path d=\"M2934.5,-292.4551C2934.5,-284.3828 2934.5,-274.6764 2934.5,-265.6817\" fill=\"none\" stroke=\"#000000\"/>\n",
       "<polygon fill=\"#000000\" points=\"2938.0001,-265.5903 2934.5,-255.5904 2931.0001,-265.5904 2938.0001,-265.5903\" stroke=\"#000000\"/>\n",
       "</g>\n",
       "<!-- 140050224989968 -->\n",
       "<g class=\"node\" id=\"node87\">\n",
       "<title>140050224989968</title>\n",
       "<polygon fill=\"none\" points=\"2876.5,-146.5 2876.5,-182.5 2992.5,-182.5 2992.5,-146.5 2876.5,-146.5\" stroke=\"#000000\"/>\n",
       "<text fill=\"#000000\" font-family=\"Times,serif\" font-size=\"14.00\" text-anchor=\"middle\" x=\"2908.5\" y=\"-160.8\">dense_1</text>\n",
       "<polyline fill=\"none\" points=\"2940.5,-146.5 2940.5,-182.5 \" stroke=\"#000000\"/>\n",
       "<text fill=\"#000000\" font-family=\"Times,serif\" font-size=\"14.00\" text-anchor=\"middle\" x=\"2966.5\" y=\"-160.8\">Dense</text>\n",
       "</g>\n",
       "<!-- 140050218486288&#45;&gt;140050224989968 -->\n",
       "<g class=\"edge\" id=\"edge86\">\n",
       "<title>140050218486288-&gt;140050224989968</title>\n",
       "<path d=\"M2934.5,-219.4551C2934.5,-211.3828 2934.5,-201.6764 2934.5,-192.6817\" fill=\"none\" stroke=\"#000000\"/>\n",
       "<polygon fill=\"#000000\" points=\"2938.0001,-192.5903 2934.5,-182.5904 2931.0001,-192.5904 2938.0001,-192.5903\" stroke=\"#000000\"/>\n",
       "</g>\n",
       "<!-- 140050225979536 -->\n",
       "<g class=\"node\" id=\"node88\">\n",
       "<title>140050225979536</title>\n",
       "<polygon fill=\"none\" points=\"2863.5,-73.5 2863.5,-109.5 3005.5,-109.5 3005.5,-73.5 2863.5,-73.5\" stroke=\"#000000\"/>\n",
       "<text fill=\"#000000\" font-family=\"Times,serif\" font-size=\"14.00\" text-anchor=\"middle\" x=\"2902\" y=\"-87.8\">dropout_2</text>\n",
       "<polyline fill=\"none\" points=\"2940.5,-73.5 2940.5,-109.5 \" stroke=\"#000000\"/>\n",
       "<text fill=\"#000000\" font-family=\"Times,serif\" font-size=\"14.00\" text-anchor=\"middle\" x=\"2973\" y=\"-87.8\">Dropout</text>\n",
       "</g>\n",
       "<!-- 140050224989968&#45;&gt;140050225979536 -->\n",
       "<g class=\"edge\" id=\"edge87\">\n",
       "<title>140050224989968-&gt;140050225979536</title>\n",
       "<path d=\"M2934.5,-146.4551C2934.5,-138.3828 2934.5,-128.6764 2934.5,-119.6817\" fill=\"none\" stroke=\"#000000\"/>\n",
       "<polygon fill=\"#000000\" points=\"2938.0001,-119.5903 2934.5,-109.5904 2931.0001,-119.5904 2938.0001,-119.5903\" stroke=\"#000000\"/>\n",
       "</g>\n",
       "<!-- 140050228681168 -->\n",
       "<g class=\"node\" id=\"node89\">\n",
       "<title>140050228681168</title>\n",
       "<polygon fill=\"none\" points=\"2876.5,-.5 2876.5,-36.5 2992.5,-36.5 2992.5,-.5 2876.5,-.5\" stroke=\"#000000\"/>\n",
       "<text fill=\"#000000\" font-family=\"Times,serif\" font-size=\"14.00\" text-anchor=\"middle\" x=\"2908.5\" y=\"-14.8\">dense_2</text>\n",
       "<polyline fill=\"none\" points=\"2940.5,-.5 2940.5,-36.5 \" stroke=\"#000000\"/>\n",
       "<text fill=\"#000000\" font-family=\"Times,serif\" font-size=\"14.00\" text-anchor=\"middle\" x=\"2966.5\" y=\"-14.8\">Dense</text>\n",
       "</g>\n",
       "<!-- 140050225979536&#45;&gt;140050228681168 -->\n",
       "<g class=\"edge\" id=\"edge88\">\n",
       "<title>140050225979536-&gt;140050228681168</title>\n",
       "<path d=\"M2934.5,-73.4551C2934.5,-65.3828 2934.5,-55.6764 2934.5,-46.6817\" fill=\"none\" stroke=\"#000000\"/>\n",
       "<polygon fill=\"#000000\" points=\"2938.0001,-46.5903 2934.5,-36.5904 2931.0001,-46.5904 2938.0001,-46.5903\" stroke=\"#000000\"/>\n",
       "</g>\n",
       "</g>\n",
       "</svg>"
      ],
      "text/plain": [
       "<IPython.core.display.SVG object>"
      ]
     },
     "execution_count": 21,
     "metadata": {},
     "output_type": "execute_result"
    }
   ],
   "source": [
    "SVG(model_to_dot(model).create(prog='dot', format='svg'))"
   ]
  },
  {
   "cell_type": "code",
   "execution_count": null,
   "metadata": {
    "colab": {
     "base_uri": "https://localhost:8080/"
    },
    "id": "Z8cAZwphif1v",
    "outputId": "3412a832-ddd5-44c2-dde5-bfce8fa7e9fa"
   },
   "outputs": [
    {
     "name": "stdout",
     "output_type": "stream",
     "text": [
      "12/12 [==============================] - 10s 225ms/step - loss: 0.2340 - val_loss: 0.1322\n",
      "3/3 [==============================] - 1s 28ms/step\n",
      "0.7817274730822367\n",
      "--------------------------------------------------\n",
      "12/12 [==============================] - 2s 177ms/step - loss: 0.1149 - val_loss: 0.0999\n",
      "3/3 [==============================] - 0s 29ms/step\n",
      "0.8336558217551441\n",
      "--------------------------------------------------\n",
      "12/12 [==============================] - 2s 186ms/step - loss: 0.0986 - val_loss: 0.0914\n",
      "3/3 [==============================] - 0s 36ms/step\n",
      "0.8722844068321043\n",
      "--------------------------------------------------\n",
      "12/12 [==============================] - 2s 192ms/step - loss: 0.0874 - val_loss: 0.0893\n",
      "3/3 [==============================] - 0s 32ms/step\n",
      "0.8771790360360117\n",
      "--------------------------------------------------\n",
      "12/12 [==============================] - 2s 176ms/step - loss: 0.0798 - val_loss: 0.0885\n",
      "3/3 [==============================] - 0s 25ms/step\n",
      "0.8823027410384952\n",
      "--------------------------------------------------\n",
      "12/12 [==============================] - 2s 176ms/step - loss: 0.0755 - val_loss: 0.0900\n",
      "3/3 [==============================] - 0s 33ms/step\n",
      "0.8828499512806803\n",
      "--------------------------------------------------\n",
      "12/12 [==============================] - 2s 184ms/step - loss: 0.0723 - val_loss: 0.0897\n",
      "3/3 [==============================] - 0s 39ms/step\n",
      "0.8821550224326004\n",
      "--------------------------------------------------\n",
      "12/12 [==============================] - 2s 183ms/step - loss: 0.0699 - val_loss: 0.0900\n",
      "3/3 [==============================] - 0s 31ms/step\n",
      "0.881781010050565\n",
      "--------------------------------------------------\n",
      "12/12 [==============================] - 2s 179ms/step - loss: 0.0671 - val_loss: 0.0890\n",
      "3/3 [==============================] - 0s 32ms/step\n",
      "0.882982809815518\n",
      "--------------------------------------------------\n",
      "12/12 [==============================] - 2s 174ms/step - loss: 0.0659 - val_loss: 0.0894\n",
      "3/3 [==============================] - 0s 34ms/step\n",
      "0.8833297144423604\n",
      "--------------------------------------------------\n",
      "12/12 [==============================] - 3s 213ms/step - loss: 0.0648 - val_loss: 0.0904\n",
      "3/3 [==============================] - 0s 35ms/step\n",
      "0.8803770386796115\n",
      "--------------------------------------------------\n",
      "12/12 [==============================] - 2s 181ms/step - loss: 0.0638 - val_loss: 0.0917\n",
      "3/3 [==============================] - 0s 25ms/step\n",
      "0.8822190089486126\n",
      "--------------------------------------------------\n",
      "12/12 [==============================] - 2s 184ms/step - loss: 0.0617 - val_loss: 0.0923\n",
      "3/3 [==============================] - 0s 27ms/step\n",
      "0.8842973493433071\n",
      "--------------------------------------------------\n",
      "12/12 [==============================] - 2s 178ms/step - loss: 0.0613 - val_loss: 0.0909\n",
      "3/3 [==============================] - 0s 41ms/step\n",
      "0.8851034233803879\n",
      "--------------------------------------------------\n",
      "12/12 [==============================] - 2s 176ms/step - loss: 0.0594 - val_loss: 0.0915\n",
      "3/3 [==============================] - 0s 36ms/step\n",
      "0.8845644234970972\n",
      "--------------------------------------------------\n",
      "12/12 [==============================] - 2s 189ms/step - loss: 0.0579 - val_loss: 0.0905\n",
      "3/3 [==============================] - 0s 34ms/step\n",
      "0.8901140832761096\n",
      "--------------------------------------------------\n",
      "12/12 [==============================] - 2s 176ms/step - loss: 0.0575 - val_loss: 0.0908\n",
      "3/3 [==============================] - 0s 31ms/step\n",
      "0.889300884547426\n",
      "--------------------------------------------------\n",
      "12/12 [==============================] - 2s 180ms/step - loss: 0.0569 - val_loss: 0.0941\n",
      "3/3 [==============================] - 0s 35ms/step\n",
      "0.8869090237951129\n",
      "--------------------------------------------------\n",
      "12/12 [==============================] - 3s 214ms/step - loss: 0.0553 - val_loss: 0.0922\n",
      "3/3 [==============================] - 0s 33ms/step\n",
      "0.8903668741195917\n",
      "--------------------------------------------------\n",
      "12/12 [==============================] - 2s 176ms/step - loss: 0.0554 - val_loss: 0.0927\n",
      "3/3 [==============================] - 0s 24ms/step\n",
      "0.8887026818696276\n",
      "--------------------------------------------------\n",
      "12/12 [==============================] - 2s 183ms/step - loss: 0.0539 - val_loss: 0.0926\n",
      "3/3 [==============================] - 0s 40ms/step\n",
      "0.8903380700092554\n",
      "--------------------------------------------------\n",
      "12/12 [==============================] - 2s 184ms/step - loss: 0.0544 - val_loss: 0.0959\n",
      "3/3 [==============================] - 0s 37ms/step\n",
      "0.8886205782806831\n",
      "--------------------------------------------------\n"
     ]
    }
   ],
   "source": [
    "\n",
    "for i in range(100):\n",
    "    if patience < 3:\n",
    "        hist = model.fit(X_train, y_train, validation_data = (X_valid,y_valid), batch_size = 8000, epochs = 1, verbose = 1)\n",
    "        valid_preds = model.predict(X_valid, batch_size = 8000, verbose = True)\n",
    "        score = roc_auc_score(y_valid, valid_preds)\n",
    "        print(score)\n",
    "        if score > best_score:\n",
    "            model.save_weights(\"model.h5\")\n",
    "            best_score = score\n",
    "            patience = 0\n",
    "        else:\n",
    "            patience += 1\n",
    "        print('-'*50)\n",
    "    "
   ]
  },
  {
   "cell_type": "code",
   "execution_count": null,
   "metadata": {
    "colab": {
     "base_uri": "https://localhost:8080/"
    },
    "id": "kmla4SABihl7",
    "outputId": "1989d113-8fbf-49d6-c2b3-9eedccd8d1ac"
   },
   "outputs": [
    {
     "name": "stdout",
     "output_type": "stream",
     "text": [
      "24/24 [==============================] - 0s 12ms/step\n"
     ]
    }
   ],
   "source": [
    "X_test = get_input_features(test_df)\n",
    "predictions = model.predict(X_test, batch_size = 2000, verbose = True)\n"
   ]
  },
  {
   "cell_type": "code",
   "execution_count": null,
   "metadata": {
    "id": "mr0MaxT2KK1J"
   },
   "outputs": [],
   "source": [
    "y_pred_nn = predictions.copy()\n",
    "y_test_nn = y_test\n",
    "X_test_nn = X_test"
   ]
  },
  {
   "cell_type": "code",
   "execution_count": null,
   "metadata": {
    "id": "xymLSrmfKhJm"
   },
   "outputs": [],
   "source": [
    "del predictions, y_test, X_test"
   ]
  },
  {
   "cell_type": "markdown",
   "metadata": {
    "id": "3WoLEYysutRt"
   },
   "source": [
    "##Catboost"
   ]
  },
  {
   "cell_type": "code",
   "execution_count": null,
   "metadata": {
    "colab": {
     "base_uri": "https://localhost:8080/",
     "height": 206
    },
    "id": "Wy2q2L-OuvbY",
    "outputId": "6508d37b-589e-491d-8e64-8a78a0d22732"
   },
   "outputs": [
    {
     "data": {
      "text/html": [
       "\n",
       "  <div id=\"df-55670093-a724-456c-a81b-39522ae03826\">\n",
       "    <div class=\"colab-df-container\">\n",
       "      <div>\n",
       "<style scoped>\n",
       "    .dataframe tbody tr th:only-of-type {\n",
       "        vertical-align: middle;\n",
       "    }\n",
       "\n",
       "    .dataframe tbody tr th {\n",
       "        vertical-align: top;\n",
       "    }\n",
       "\n",
       "    .dataframe thead th {\n",
       "        text-align: right;\n",
       "    }\n",
       "</style>\n",
       "<table border=\"1\" class=\"dataframe\">\n",
       "  <thead>\n",
       "    <tr style=\"text-align: right;\">\n",
       "      <th></th>\n",
       "      <th>TransactionID</th>\n",
       "      <th>isFraud</th>\n",
       "      <th>prediction</th>\n",
       "    </tr>\n",
       "  </thead>\n",
       "  <tbody>\n",
       "    <tr>\n",
       "      <th>0</th>\n",
       "      <td>3457624</td>\n",
       "      <td>0</td>\n",
       "      <td>0.011541</td>\n",
       "    </tr>\n",
       "    <tr>\n",
       "      <th>1</th>\n",
       "      <td>3552820</td>\n",
       "      <td>0</td>\n",
       "      <td>0.002772</td>\n",
       "    </tr>\n",
       "    <tr>\n",
       "      <th>2</th>\n",
       "      <td>3271083</td>\n",
       "      <td>0</td>\n",
       "      <td>0.002210</td>\n",
       "    </tr>\n",
       "    <tr>\n",
       "      <th>3</th>\n",
       "      <td>3226689</td>\n",
       "      <td>0</td>\n",
       "      <td>0.057087</td>\n",
       "    </tr>\n",
       "    <tr>\n",
       "      <th>4</th>\n",
       "      <td>3268855</td>\n",
       "      <td>0</td>\n",
       "      <td>0.002003</td>\n",
       "    </tr>\n",
       "  </tbody>\n",
       "</table>\n",
       "</div>\n",
       "      <button class=\"colab-df-convert\" onclick=\"convertToInteractive('df-55670093-a724-456c-a81b-39522ae03826')\"\n",
       "              title=\"Convert this dataframe to an interactive table.\"\n",
       "              style=\"display:none;\">\n",
       "        \n",
       "  <svg xmlns=\"http://www.w3.org/2000/svg\" height=\"24px\"viewBox=\"0 0 24 24\"\n",
       "       width=\"24px\">\n",
       "    <path d=\"M0 0h24v24H0V0z\" fill=\"none\"/>\n",
       "    <path d=\"M18.56 5.44l.94 2.06.94-2.06 2.06-.94-2.06-.94-.94-2.06-.94 2.06-2.06.94zm-11 1L8.5 8.5l.94-2.06 2.06-.94-2.06-.94L8.5 2.5l-.94 2.06-2.06.94zm10 10l.94 2.06.94-2.06 2.06-.94-2.06-.94-.94-2.06-.94 2.06-2.06.94z\"/><path d=\"M17.41 7.96l-1.37-1.37c-.4-.4-.92-.59-1.43-.59-.52 0-1.04.2-1.43.59L10.3 9.45l-7.72 7.72c-.78.78-.78 2.05 0 2.83L4 21.41c.39.39.9.59 1.41.59.51 0 1.02-.2 1.41-.59l7.78-7.78 2.81-2.81c.8-.78.8-2.07 0-2.86zM5.41 20L4 18.59l7.72-7.72 1.47 1.35L5.41 20z\"/>\n",
       "  </svg>\n",
       "      </button>\n",
       "      \n",
       "  <style>\n",
       "    .colab-df-container {\n",
       "      display:flex;\n",
       "      flex-wrap:wrap;\n",
       "      gap: 12px;\n",
       "    }\n",
       "\n",
       "    .colab-df-convert {\n",
       "      background-color: #E8F0FE;\n",
       "      border: none;\n",
       "      border-radius: 50%;\n",
       "      cursor: pointer;\n",
       "      display: none;\n",
       "      fill: #1967D2;\n",
       "      height: 32px;\n",
       "      padding: 0 0 0 0;\n",
       "      width: 32px;\n",
       "    }\n",
       "\n",
       "    .colab-df-convert:hover {\n",
       "      background-color: #E2EBFA;\n",
       "      box-shadow: 0px 1px 2px rgba(60, 64, 67, 0.3), 0px 1px 3px 1px rgba(60, 64, 67, 0.15);\n",
       "      fill: #174EA6;\n",
       "    }\n",
       "\n",
       "    [theme=dark] .colab-df-convert {\n",
       "      background-color: #3B4455;\n",
       "      fill: #D2E3FC;\n",
       "    }\n",
       "\n",
       "    [theme=dark] .colab-df-convert:hover {\n",
       "      background-color: #434B5C;\n",
       "      box-shadow: 0px 1px 3px 1px rgba(0, 0, 0, 0.15);\n",
       "      filter: drop-shadow(0px 1px 2px rgba(0, 0, 0, 0.3));\n",
       "      fill: #FFFFFF;\n",
       "    }\n",
       "  </style>\n",
       "\n",
       "      <script>\n",
       "        const buttonEl =\n",
       "          document.querySelector('#df-55670093-a724-456c-a81b-39522ae03826 button.colab-df-convert');\n",
       "        buttonEl.style.display =\n",
       "          google.colab.kernel.accessAllowed ? 'block' : 'none';\n",
       "\n",
       "        async function convertToInteractive(key) {\n",
       "          const element = document.querySelector('#df-55670093-a724-456c-a81b-39522ae03826');\n",
       "          const dataTable =\n",
       "            await google.colab.kernel.invokeFunction('convertToInteractive',\n",
       "                                                     [key], {});\n",
       "          if (!dataTable) return;\n",
       "\n",
       "          const docLinkHtml = 'Like what you see? Visit the ' +\n",
       "            '<a target=\"_blank\" href=https://colab.research.google.com/notebooks/data_table.ipynb>data table notebook</a>'\n",
       "            + ' to learn more about interactive tables.';\n",
       "          element.innerHTML = '';\n",
       "          dataTable['output_type'] = 'display_data';\n",
       "          await google.colab.output.renderOutput(dataTable, element);\n",
       "          const docLink = document.createElement('div');\n",
       "          docLink.innerHTML = docLinkHtml;\n",
       "          element.appendChild(docLink);\n",
       "        }\n",
       "      </script>\n",
       "    </div>\n",
       "  </div>\n",
       "  "
      ],
      "text/plain": [
       "   TransactionID  isFraud  prediction\n",
       "0        3457624        0    0.011541\n",
       "1        3552820        0    0.002772\n",
       "2        3271083        0    0.002210\n",
       "3        3226689        0    0.057087\n",
       "4        3268855        0    0.002003"
      ]
     },
     "execution_count": 6,
     "metadata": {},
     "output_type": "execute_result"
    }
   ],
   "source": [
    "cat_result = pd.read_csv('/content/drive/Shareddrives/NCKH2021/Data/Nghia/Catboost/catboost-v1.csv')\n",
    "cat_result.head()"
   ]
  },
  {
   "cell_type": "code",
   "execution_count": null,
   "metadata": {
    "id": "H2G4Cz2tKfwj"
   },
   "outputs": [],
   "source": [
    "y_pred_cat = cat_result['prediction']\n",
    "y_test_cat = cat_result['isFraud']\n",
    "\n",
    "del cat_result"
   ]
  },
  {
   "cell_type": "markdown",
   "metadata": {
    "id": "CWEt0yvfvlc4"
   },
   "source": [
    "# Evaluation"
   ]
  },
  {
   "cell_type": "markdown",
   "metadata": {
    "id": "BMkAZ1B7Ms2a"
   },
   "source": [
    "### Accuracy metrics and probability distribution"
   ]
  },
  {
   "cell_type": "code",
   "execution_count": null,
   "metadata": {
    "colab": {
     "base_uri": "https://localhost:8080/"
    },
    "id": "utfIJwzhMTKx",
    "outputId": "b499e3ec-386d-4e77-ffd4-3e4ded43f444"
   },
   "outputs": [
    {
     "data": {
      "text/plain": [
       "array([[0],\n",
       "       [0],\n",
       "       [0],\n",
       "       ...,\n",
       "       [0],\n",
       "       [0],\n",
       "       [0]])"
      ]
     },
     "execution_count": 38,
     "metadata": {},
     "output_type": "execute_result"
    }
   ],
   "source": [
    "y_pred_nn_enc2"
   ]
  },
  {
   "cell_type": "code",
   "execution_count": null,
   "metadata": {
    "colab": {
     "base_uri": "https://localhost:8080/",
     "height": 298
    },
    "id": "VsAlnenowDHV",
    "outputId": "38b19e89-7176-4945-a8c2-6300fc09dbe5"
   },
   "outputs": [
    {
     "name": "stdout",
     "output_type": "stream",
     "text": [
      "Accuracy: 97.60\n"
     ]
    },
    {
     "data": {
      "image/png": "[encoded data removed]",
      "text/plain": [
       "<Figure size 432x288 with 1 Axes>"
      ]
     },
     "metadata": {
      "needs_background": "light"
     },
     "output_type": "display_data"
    }
   ],
   "source": [
    "plt.hist(y_pred_nn)\n",
    "plt.title(\"NN's isfraud probability distribution\")\n",
    "# plt.show()\n",
    "\n",
    "y_pred_nn_enc2 = np.where(y_pred_nn>0.2, 1, 0)\n",
    "acc_nn_enc2 = accuracy_score(y_test_nn, y_pred_nn_enc2)\n",
    "print('Accuracy: %.2f' % (acc_nn_enc2*100))"
   ]
  },
  {
   "cell_type": "code",
   "execution_count": null,
   "metadata": {
    "colab": {
     "base_uri": "https://localhost:8080/",
     "height": 298
    },
    "id": "nk0bjmr6LTpT",
    "outputId": "0c88d566-ccd2-4054-f72c-00e040fbb84b"
   },
   "outputs": [
    {
     "name": "stdout",
     "output_type": "stream",
     "text": [
      "Accuracy: 98.64\n"
     ]
    },
    {
     "data": {
      "image/png": "[encoded data removed]",
      "text/plain": [
       "<Figure size 432x288 with 1 Axes>"
      ]
     },
     "metadata": {
      "needs_background": "light"
     },
     "output_type": "display_data"
    }
   ],
   "source": [
    "plt.hist(y_pred_cat)\n",
    "plt.title(\"CatBoost's isfraud probability distribution\")\n",
    "# plt.show()\n",
    "y_pred_cat_enc2 = np.where(y_pred_cat>0.2, 1, 0)\n",
    "acc_cat_enc2 = accuracy_score(y_test_cat, y_pred_cat_enc2)\n",
    "print('Accuracy: %.2f' % (acc_cat_enc2*100))"
   ]
  },
  {
   "cell_type": "markdown",
   "metadata": {
    "id": "50HHOgOKPDCY"
   },
   "source": [
    "### ROC - AUC"
   ]
  },
  {
   "cell_type": "code",
   "execution_count": null,
   "metadata": {
    "colab": {
     "base_uri": "https://localhost:8080/",
     "height": 314
    },
    "id": "lB1B1NTIPBBr",
    "outputId": "328e30e5-d1b0-4737-9cf4-8925b19adabd"
   },
   "outputs": [
    {
     "name": "stdout",
     "output_type": "stream",
     "text": [
      "NN's performance at: AUC = 0.840\n",
      "CatBoost's performance at: AUC = 0.974\n"
     ]
    },
    {
     "data": {
      "image/png": "[encoded data removed]",
      "text/plain": [
       "<Figure size 432x288 with 1 Axes>"
      ]
     },
     "metadata": {
      "needs_background": "light"
     },
     "output_type": "display_data"
    }
   ],
   "source": [
    "# calculate scores\n",
    "lr_auc_nn = roc_auc_score(y_test_nn, y_pred_nn)\n",
    "lr_auc_cat = roc_auc_score(y_test_cat, y_pred_cat)\n",
    "\n",
    "# summarize scores\n",
    "print(\"NN's performance at: AUC = %.3f\" % (lr_auc_nn))\n",
    "print(\"CatBoost's performance at: AUC = %.3f\" % (lr_auc_cat))\n",
    " \n",
    "lr_fpr_nn, lr_tpr_nn, _ = roc_curve(y_test_nn, y_pred_nn)\n",
    "lr_fpr_cat, lr_tpr_cat, _ = roc_curve(y_test_cat, y_pred_cat)\n",
    "\n",
    "# plot the roc curve for the model\n",
    "plt.plot(lr_fpr_nn, lr_tpr_nn, marker='.', label='Neural Networks')\n",
    "plt.plot(lr_fpr_cat, lr_tpr_cat, marker='.', label='CatBoost')\n",
    "\n",
    "# axis labels\n",
    "plt.xlabel('False Positive Rate')\n",
    "plt.ylabel('True Positive Rate')\n",
    "# show the legend\n",
    "plt.legend()\n",
    "# show the plot\n",
    "plt.show()"
   ]
  },
  {
   "cell_type": "markdown",
   "metadata": {
    "id": "gAq9DvVOPphd"
   },
   "source": [
    "### Precision - Recall"
   ]
  },
  {
   "cell_type": "code",
   "execution_count": null,
   "metadata": {
    "id": "HbmCJEDSPscX"
   },
   "outputs": [],
   "source": [
    "from sklearn.metrics import precision_recall_curve\n",
    "\n",
    "\n",
    "def _plot_prec_rec_curve(prec, rec, thres, model):\n",
    "    plt.figure(figsize = (10, 8))\n",
    "    plt.plot(thres, prec[:-1], 'b--', label = 'Precision')\n",
    "    plt.plot(thres, rec[:-1], 'g-', label = 'Recall')\n",
    "    plt.xlabel('Threshold')\n",
    "    plt.ylabel('Probability')\n",
    "    plt.title(f\"{model}'s Precision vs Recall Curve\")\n",
    "    plt.legend()"
   ]
  },
  {
   "cell_type": "code",
   "execution_count": null,
   "metadata": {
    "colab": {
     "base_uri": "https://localhost:8080/",
     "height": 513
    },
    "id": "Fev0NraVPxAZ",
    "outputId": "e9109d2b-ddb8-40b9-de1f-c106768602be"
   },
   "outputs": [
    {
     "data": {
      "image/png": "[encoded data removed]",
      "text/plain": [
       "<Figure size 720x576 with 1 Axes>"
      ]
     },
     "metadata": {},
     "output_type": "display_data"
    }
   ],
   "source": [
    "prec, rec, thres = precision_recall_curve(y_test_nn, y_pred_nn)\n",
    "_plot_prec_rec_curve(prec, rec, thres, \"NN\")"
   ]
  },
  {
   "cell_type": "code",
   "execution_count": null,
   "metadata": {
    "colab": {
     "base_uri": "https://localhost:8080/",
     "height": 513
    },
    "id": "wmBWyGJXP_f1",
    "outputId": "4406a1d0-970e-4cd9-8a65-955f066560ff"
   },
   "outputs": [
    {
     "data": {
      "image/png": "[encoded data removed]",
      "text/plain": [
       "<Figure size 720x576 with 1 Axes>"
      ]
     },
     "metadata": {},
     "output_type": "display_data"
    }
   ],
   "source": [
    "prec, rec, thres = precision_recall_curve(y_test_cat, y_pred_cat)\n",
    "_plot_prec_rec_curve(prec, rec, thres, \"Catboost\")"
   ]
  },
  {
   "cell_type": "markdown",
   "metadata": {
    "id": "udeBPGw9nTue"
   },
   "source": [
    "### Log loss"
   ]
  },
  {
   "cell_type": "code",
   "execution_count": null,
   "metadata": {
    "colab": {
     "base_uri": "https://localhost:8080/"
    },
    "id": "rGL2IVlEnWlB",
    "outputId": "af02e900-801f-45ba-8e21-28031fcd89f9"
   },
   "outputs": [
    {
     "data": {
      "text/plain": [
       "0.09025997657134768"
      ]
     },
     "execution_count": 41,
     "metadata": {},
     "output_type": "execute_result"
    }
   ],
   "source": [
    "log_loss_nn = log_loss(y_test_nn, y_pred_nn)\n",
    "log_loss_nn"
   ]
  },
  {
   "cell_type": "code",
   "execution_count": null,
   "metadata": {
    "colab": {
     "base_uri": "https://localhost:8080/"
    },
    "id": "HTfB2EYL2RYb",
    "outputId": "5320aa53-5941-4c74-b635-2c962c001072"
   },
   "outputs": [
    {
     "data": {
      "text/plain": [
       "0.04426746526017558"
      ]
     },
     "execution_count": 40,
     "metadata": {},
     "output_type": "execute_result"
    }
   ],
   "source": [
    "log_loss_cat = log_loss(y_test_cat, y_pred_cat)\n",
    "log_loss_cat"
   ]
  },
  {
   "cell_type": "code",
   "execution_count": null,
   "metadata": {
    "colab": {
     "background_save": true
    },
    "id": "HYC2ICcj2jAB",
    "outputId": "a8780b9e-031a-4274-b140-686e1e4ac38a"
   },
   "outputs": [
    {
     "ename": "NameError",
     "evalue": "ignored",
     "output_type": "error",
     "traceback": [
      "\u001b[0;31m---------------------------------------------------------------------------\u001b[0m",
      "\u001b[0;31mNameError\u001b[0m                                 Traceback (most recent call last)",
      "\u001b[0;32m<ipython-input-45-fbae277c08cb>\u001b[0m in \u001b[0;36m<module>\u001b[0;34m()\u001b[0m\n\u001b[1;32m      5\u001b[0m \u001b[0mlosses\u001b[0m \u001b[0;34m=\u001b[0m \u001b[0;34m[\u001b[0m\u001b[0mlog_loss\u001b[0m\u001b[0;34m(\u001b[0m\u001b[0my_test_nn\u001b[0m\u001b[0;34m,\u001b[0m \u001b[0;34m[\u001b[0m\u001b[0my\u001b[0m \u001b[0;32mfor\u001b[0m \u001b[0mx\u001b[0m \u001b[0;32min\u001b[0m \u001b[0mrange\u001b[0m\u001b[0;34m(\u001b[0m\u001b[0mlen\u001b[0m\u001b[0;34m(\u001b[0m\u001b[0my_test_nn\u001b[0m\u001b[0;34m)\u001b[0m\u001b[0;34m)\u001b[0m\u001b[0;34m]\u001b[0m\u001b[0;34m)\u001b[0m \u001b[0;32mfor\u001b[0m \u001b[0my\u001b[0m \u001b[0;32min\u001b[0m \u001b[0my_pred_nn\u001b[0m\u001b[0;34m]\u001b[0m\u001b[0;34m\u001b[0m\u001b[0;34m\u001b[0m\u001b[0m\n\u001b[1;32m      6\u001b[0m \u001b[0;31m# plot predictions vs loss\u001b[0m\u001b[0;34m\u001b[0m\u001b[0;34m\u001b[0m\u001b[0;34m\u001b[0m\u001b[0m\n\u001b[0;32m----> 7\u001b[0;31m \u001b[0mpyplot\u001b[0m\u001b[0;34m.\u001b[0m\u001b[0mplot\u001b[0m\u001b[0;34m(\u001b[0m\u001b[0my_pred_nn\u001b[0m\u001b[0;34m,\u001b[0m \u001b[0mlosses\u001b[0m\u001b[0;34m)\u001b[0m\u001b[0;34m\u001b[0m\u001b[0;34m\u001b[0m\u001b[0m\n\u001b[0m\u001b[1;32m      8\u001b[0m \u001b[0mpyplot\u001b[0m\u001b[0;34m.\u001b[0m\u001b[0mshow\u001b[0m\u001b[0;34m(\u001b[0m\u001b[0;34m)\u001b[0m\u001b[0;34m\u001b[0m\u001b[0;34m\u001b[0m\u001b[0m\n",
      "\u001b[0;31mNameError\u001b[0m: name 'pyplot' is not defined"
     ]
    }
   ],
   "source": [
    "# define an imbalanced dataset\n",
    "testy = [0 for x in range(100)] + [1 for x in range(10)]\n",
    "# loss for predicting different fixed probability values\n",
    "predictions = [0.0, 0.1, 0.2, 0.3, 0.4, 0.5, 0.6, 0.7, 0.8, 0.9, 1.0]\n",
    "losses = [log_loss(y_test_nn, [y for x in range(len(y_test_nn))]) for y in y_pred_nn]\n",
    "# plot predictions vs loss\n",
    "pyplot.plot(y_pred_nn, losses)\n",
    "pyplot.show()"
   ]
  },
  {
   "cell_type": "code",
   "execution_count": null,
   "metadata": {
    "colab": {
     "base_uri": "https://localhost:8080/",
     "height": 282
    },
    "id": "vfAbQFqO7gnK",
    "outputId": "27eef6c7-db0e-41af-93b6-7fb11b1760b1"
   },
   "outputs": [
    {
     "data": {
      "text/plain": [
       "[<matplotlib.lines.Line2D at 0x7fd6079be390>]"
      ]
     },
     "execution_count": 44,
     "metadata": {},
     "output_type": "execute_result"
    },
    {
     "data": {
      "image/png": "[encoded data removed]",
      "text/plain": [
       "<Figure size 432x288 with 1 Axes>"
      ]
     },
     "metadata": {},
     "output_type": "display_data"
    }
   ],
   "source": [
    "plt.plot(y_pred_nn, losses_0, label='true=0')"
   ]
  },
  {
   "cell_type": "code",
   "execution_count": null,
   "metadata": {
    "id": "dG9rjkxt7qcS"
   },
   "outputs": [],
   "source": [
    "t.sort()"
   ]
  },
  {
   "cell_type": "markdown",
   "metadata": {
    "id": "DRCqCnxT2kWx"
   },
   "source": [
    "### Brier Loss"
   ]
  },
  {
   "cell_type": "code",
   "execution_count": null,
   "metadata": {
    "colab": {
     "base_uri": "https://localhost:8080/"
    },
    "id": "8HZ85kSA2mfE",
    "outputId": "b1b6a2df-b90b-43cc-fa12-4a908e8ffb06"
   },
   "outputs": [
    {
     "data": {
      "text/plain": [
       "0.09025997657134768"
      ]
     },
     "execution_count": 43,
     "metadata": {},
     "output_type": "execute_result"
    }
   ],
   "source": [
    "brier_nn = log_loss(y_test_nn, y_pred_nn)\n",
    "brier_nn"
   ]
  },
  {
   "cell_type": "markdown",
   "metadata": {
    "id": "6FplSLDrA_hz"
   },
   "source": [
    "# Draft "
   ]
  },
  {
   "cell_type": "code",
   "execution_count": null,
   "metadata": {
    "id": "rgRXubCubL00"
   },
   "outputs": [],
   "source": [
    "def calibration(data, train_pop, target_pop, sampled_train_pop, sampled_target_pop):\n",
    "\n",
    "    calibrated_data = \\\n",
    "    ((data * (target_pop / train_pop) / (sampled_target_pop / sampled_train_pop)) /\n",
    "    ((\n",
    "        (1 - data) * (1 - target_pop / train_pop) / (1 - sampled_target_pop / sampled_train_pop)\n",
    "     ) +\n",
    "     (\n",
    "        data * (target_pop / train_pop) / (sampled_target_pop / sampled_train_pop)\n",
    "     )))\n",
    "\n",
    "    return calibrated_data"
   ]
  },
  {
   "cell_type": "code",
   "execution_count": null,
   "metadata": {
    "id": "qv-RyMlNbHRS"
   },
   "outputs": [],
   "source": [
    "temp = calibration(cat_result['prediction'], 100000, 1000, 10000, 1000)"
   ]
  },
  {
   "cell_type": "code",
   "execution_count": null,
   "metadata": {
    "colab": {
     "base_uri": "https://localhost:8080/"
    },
    "id": "iXe8J_uecHA6",
    "outputId": "3f95e794-004d-44ae-ba97-5136ecdf0c6f"
   },
   "outputs": [
    {
     "data": {
      "text/plain": [
       "0         0.001060\n",
       "1         0.000253\n",
       "2         0.000201\n",
       "3         0.005474\n",
       "4         0.000182\n",
       "            ...   \n",
       "177157    0.000238\n",
       "177158    0.000509\n",
       "177159    0.001308\n",
       "177160    0.000161\n",
       "177161    0.000410\n",
       "Name: prediction, Length: 177162, dtype: float64"
      ]
     },
     "execution_count": 9,
     "metadata": {},
     "output_type": "execute_result"
    }
   ],
   "source": [
    "temp"
   ]
  },
  {
   "cell_type": "code",
   "execution_count": null,
   "metadata": {
    "colab": {
     "base_uri": "https://localhost:8080/",
     "height": 988
    },
    "id": "iQfEgxncWi88",
    "outputId": "5b65c999-b9f3-47be-eb6a-bcc1e5d02128"
   },
   "outputs": [
    {
     "data": {
      "text/plain": [
       "<matplotlib.axes._subplots.AxesSubplot at 0x7fbaf81d2050>"
      ]
     },
     "execution_count": 11,
     "metadata": {},
     "output_type": "execute_result"
    },
    {
     "data": {
      "image/png": "[encoded data removed]",
      "text/plain": [
       "<Figure size 1600x1200 with 1 Axes>"
      ]
     },
     "metadata": {
      "needs_background": "light"
     },
     "output_type": "display_data"
    }
   ],
   "source": [
    "import seaborn as sns\n",
    "from matplotlib.pyplot import figure\n",
    "\n",
    "figure(figsize=(20, 15), dpi=80)\n",
    "\n",
    "sns.histplot(temp, fill=True)\n",
    "# sns.histplot(pos, fill=True)"
   ]
  },
  {
   "cell_type": "code",
   "execution_count": null,
   "metadata": {
    "id": "fqHeewWzSMuI"
   },
   "outputs": [],
   "source": [
    "from sklearn import metrics\n",
    "from sklearn.model_selection import train_test_split, KFold, GroupKFold\n",
    "from sklearn.preprocessing import LabelEncoder\n",
    "\n",
    "from catboost import CatBoostClassifier"
   ]
  },
  {
   "cell_type": "code",
   "execution_count": null,
   "metadata": {
    "id": "EKh6JkrjUSa5"
   },
   "outputs": [],
   "source": [
    "########################### Model\n",
    "SEED = 42\n",
    "LOCAL_TEST = False\n",
    "\n",
    "def make_predictions(tr_df, tt_df, features_columns, target, cat_params, NFOLDS=4, kfold_mode='grouped'):\n",
    "    \n",
    "    X,y = tr_df[features_columns], tr_df[target]    \n",
    "    P,P_y = tt_df[features_columns], tt_df[target]  \n",
    "    split_groups = tr_df['DT_M']\n",
    "\n",
    "    tt_df = tt_df[['TransactionID',target]] \n",
    "    tr_df = tr_df[['TransactionID',target]] \n",
    "    \n",
    "    predictions = np.zeros(len(tt_df))\n",
    "    oof = np.zeros(len(tr_df))\n",
    "\n",
    "    if kfold_mode=='grouped':\n",
    "        folds = GroupKFold(n_splits=NFOLDS)\n",
    "        folds_split = folds.split(X, y, groups=split_groups)\n",
    "    else:\n",
    "        folds = KFold(n_splits=NFOLDS, shuffle=True, random_state=SEED)\n",
    "        folds_split = folds.split(X, y)\n",
    "\n",
    "    for fold_, (trn_idx, val_idx) in enumerate(folds_split):        \n",
    "        print('Fold:',fold_)\n",
    "        \n",
    "        estimator = CatBoostClassifier(**cat_params)        \n",
    "        estimator.fit(\n",
    "            X.iloc[trn_idx,:],y[trn_idx],\n",
    "            eval_set=(X.iloc[val_idx,:], y[val_idx]),\n",
    "            cat_features=categorical_features,\n",
    "            use_best_model=True,\n",
    "            verbose=True)\n",
    "        \n",
    "        pp_p = estimator.predict_proba(P)[:,1]\n",
    "        predictions += pp_p/NFOLDS\n",
    "        \n",
    "        oof_preds = estimator.predict_proba(X.iloc[val_idx,:])[:,1]\n",
    "        oof[val_idx] = (oof_preds - oof_preds.min())/(oof_preds.max() - oof_preds.min())\n",
    "        \n",
    "        del estimator\n",
    "        gc.collect()\n",
    "        \n",
    "    tt_df['prediction'] = predictions\n",
    "    print('OOF AUC:', metrics.roc_auc_score(y, oof))\n",
    "    if LOCAL_TEST:\n",
    "        print('Holdout AUC:', metrics.roc_auc_score(tt_df[TARGET], tt_df['prediction']))\n",
    "    \n",
    "    return tt_df\n",
    "## -------------------"
   ]
  },
  {
   "cell_type": "code",
   "execution_count": null,
   "metadata": {
    "id": "chfp5XBjZ3Ao"
   },
   "outputs": [],
   "source": [
    "########################### Vars\n",
    "TARGET = 'isFraud'\n",
    "START_DATE = datetime.datetime.strptime('2017-11-30', '%Y-%m-%d')"
   ]
  },
  {
   "cell_type": "code",
   "execution_count": null,
   "metadata": {
    "id": "m1h_GxpYZ4Fk"
   },
   "outputs": [],
   "source": [
    "########################### Model params\n",
    "cat_params = {\n",
    "                'n_estimators':5000,\n",
    "                # 'learning_rate': 0.07,\n",
    "                'eval_metric':'AUC',\n",
    "                'loss_function':'Logloss',\n",
    "                'random_seed':SEED,\n",
    "                # 'metric_period':500,\n",
    "                # 'od_wait':500,\n",
    "                # 'task_type':'GPU',\n",
    "                # 'depth': 8,\n",
    "                #'colsample_bylevel':0.7,\n",
    "                } "
   ]
  },
  {
   "cell_type": "code",
   "execution_count": null,
   "metadata": {
    "id": "Dh2DP8-bZ5fK"
   },
   "outputs": [],
   "source": [
    "########################### DATA LOAD\n",
    "#################################################################################\n",
    "df = pd.read_pickle('')\n",
    "remove_features = pd.read_pickle('../input/ieee-fe-with-some-eda/remove_features.pkl')\n",
    "remove_features = list(remove_features['features_to_remove'].values)\n",
    "print('Done')"
   ]
  },
  {
   "cell_type": "code",
   "execution_count": null,
   "metadata": {
    "id": "qZ5cSUYUZ_N7"
   },
   "outputs": [],
   "source": [
    "########################### Encode NaN goups\n",
    "nans_groups = {}\n",
    "temp_df = df.isna()\n",
    "nans_df = temp_df.copy()\n",
    "\n",
    "for col in list(nans_df):\n",
    "    cur_group = nans_df[col].sum()\n",
    "    if cur_group>0:\n",
    "        try:\n",
    "            nans_groups[cur_group].append(col)\n",
    "        except:\n",
    "            nans_groups[cur_group]=[col]\n",
    "\n",
    "add_category = []\n",
    "for col in nans_groups:\n",
    "    if len(nans_groups[col])>1:\n",
    "        df['nan_group_'+str(col)] = np.where(temp_df[nans_groups[col]].sum(axis=1)>0,1,0).astype(np.int8)\n",
    "        add_category.append('nan_group_'+str(col))\n",
    "        \n",
    "del temp_df, nans_df, nans_groups"
   ]
  },
  {
   "cell_type": "code",
   "execution_count": null,
   "metadata": {
    "id": "vS5N6wKgaSYN"
   },
   "outputs": [],
   "source": [
    "########################### Copy original Categorical features\n",
    "categorical_features = ['ProductCD','M4',\n",
    "                        'card1','card2','card3','card4','card5','card6',\n",
    "                        'addr1','addr2','dist1','dist2',\n",
    "                        'P_emaildomain','R_emaildomain',\n",
    "                       ]\n",
    "\n",
    "o_trans = pd.concat([pd.read_pickle('../input/ieee-data-minification/train_transaction.pkl'),\n",
    "                     pd.read_pickle('../input/ieee-data-minification/test_transaction.pkl')])\n",
    "\n",
    "o_ident = pd.concat([pd.read_pickle('../input/ieee-data-minification/train_identity.pkl'),\n",
    "                     pd.read_pickle('../input/ieee-data-minification/test_identity.pkl')])\n",
    "\n"
   ]
  }
 ],
 "metadata": {
  "colab": {
   "collapsed_sections": [],
   "name": "ISI",
   "provenance": [],
   "toc_visible": true
  },
  "kernelspec": {
   "display_name": "Python 3 (ipykernel)",
   "language": "python",
   "name": "python3"
  },
  "language_info": {
   "codemirror_mode": {
    "name": "ipython",
    "version": 3
   },
   "file_extension": ".py",
   "mimetype": "text/x-python",
   "name": "python",
   "nbconvert_exporter": "python",
   "pygments_lexer": "ipython3",
   "version": "3.9.6"
  }
 },
 "nbformat": 4,
 "nbformat_minor": 4
}
