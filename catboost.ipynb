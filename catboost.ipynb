{
  "nbformat": 4,
  "nbformat_minor": 0,
  "metadata": {
    "kernelspec": {
      "language": "python",
      "display_name": "Python 3",
      "name": "python3"
    },
    "language_info": {
      "name": "python",
      "version": "3.6.6",
      "mimetype": "text/x-python",
      "codemirror_mode": {
        "name": "ipython",
        "version": 3
      },
      "pygments_lexer": "ipython3",
      "nbconvert_exporter": "python",
      "file_extension": ".py"
    },
    "colab": {
      "name": "catboost.ipynb",
      "provenance": [],
      "collapsed_sections": []
    }
  },
  "cells": [
    {
      "cell_type": "code",
      "metadata": {
        "_cell_guid": "b1076dfc-b9ad-4769-8c92-a6c4dae69d19",
        "_uuid": "8f2839f25d086af736a60e9eeb907d3b93b6e0e5",
        "execution": {
          "iopub.status.busy": "2021-10-09T12:45:17.589311Z",
          "iopub.execute_input": "2021-10-09T12:45:17.589645Z",
          "iopub.status.idle": "2021-10-09T12:45:19.092465Z",
          "shell.execute_reply.started": "2021-10-09T12:45:17.589600Z",
          "shell.execute_reply": "2021-10-09T12:45:19.091616Z"
        },
        "trusted": true,
        "id": "4ARNNtOFR6Fr"
      },
      "source": [
        "# General imports\n",
        "import numpy as np\n",
        "import pandas as pd\n",
        "import os, sys, gc, warnings, random, datetime, psutil\n",
        "\n",
        "from sklearn import metrics\n",
        "from sklearn.model_selection import train_test_split, KFold, GroupKFold\n",
        "from sklearn.preprocessing import LabelEncoder\n",
        "\n",
        "from catboost import CatBoostClassifier\n",
        "\n",
        "warnings.filterwarnings('ignore')"
      ],
      "execution_count": null,
      "outputs": []
    },
    {
      "cell_type": "code",
      "metadata": {
        "_cell_guid": "79c7e3d0-c299-4dcb-8224-4455121ee9b0",
        "_uuid": "d629ff2d2480ee46fbb7e2d37f6b5fab8052498a",
        "_kg_hide-input": true,
        "_kg_hide-output": true,
        "execution": {
          "iopub.status.busy": "2021-10-09T12:45:19.094574Z",
          "iopub.execute_input": "2021-10-09T12:45:19.094869Z",
          "iopub.status.idle": "2021-10-09T12:45:19.116083Z",
          "shell.execute_reply.started": "2021-10-09T12:45:19.094821Z",
          "shell.execute_reply": "2021-10-09T12:45:19.115055Z"
        },
        "trusted": true,
        "id": "E_FcglgCR6Ft"
      },
      "source": [
        "########################### Helpers\n",
        "#################################################################################\n",
        "## Seeder\n",
        "# :seed to make all processes deterministic     # type: int\n",
        "def seed_everything(seed=0):\n",
        "    random.seed(seed)\n",
        "    os.environ['PYTHONHASHSEED'] = str(seed)\n",
        "    np.random.seed(seed)\n",
        "    \n",
        "## Memory Reducer\n",
        "# :df pandas dataframe to reduce size             # type: pd.DataFrame()\n",
        "# :verbose                                        # type: bool\n",
        "def reduce_mem_usage(df, verbose=True):\n",
        "    numerics = ['int16', 'int32', 'int64', 'float16', 'float32', 'float64']\n",
        "    start_mem = df.memory_usage().sum() / 1024**2    \n",
        "    for col in df.columns:\n",
        "        col_type = df[col].dtypes\n",
        "        if col_type in numerics:\n",
        "            c_min = df[col].min()\n",
        "            c_max = df[col].max()\n",
        "            if str(col_type)[:3] == 'int':\n",
        "                if c_min > np.iinfo(np.int8).min and c_max < np.iinfo(np.int8).max:\n",
        "                    df[col] = df[col].astype(np.int8)\n",
        "                elif c_min > np.iinfo(np.int16).min and c_max < np.iinfo(np.int16).max:\n",
        "                    df[col] = df[col].astype(np.int16)\n",
        "                elif c_min > np.iinfo(np.int32).min and c_max < np.iinfo(np.int32).max:\n",
        "                    df[col] = df[col].astype(np.int32)\n",
        "                elif c_min > np.iinfo(np.int64).min and c_max < np.iinfo(np.int64).max:\n",
        "                    df[col] = df[col].astype(np.int64)  \n",
        "            else:\n",
        "                if c_min > np.finfo(np.float16).min and c_max < np.finfo(np.float16).max:\n",
        "                    df[col] = df[col].astype(np.float16)\n",
        "                elif c_min > np.finfo(np.float32).min and c_max < np.finfo(np.float32).max:\n",
        "                    df[col] = df[col].astype(np.float32)\n",
        "                else:\n",
        "                    df[col] = df[col].astype(np.float64)    \n",
        "    end_mem = df.memory_usage().sum() / 1024**2\n",
        "    if verbose: print('Mem. usage decreased to {:5.2f} Mb ({:.1f}% reduction)'.format(end_mem, 100 * (start_mem - end_mem) / start_mem))\n",
        "    return df\n",
        "\n",
        "## Simple \"Memory profilers\" to see memory usage\n",
        "def get_memory_usage():\n",
        "    return np.round(psutil.Process(os.getpid()).memory_info()[0]/2.**30, 2) \n",
        "        \n",
        "def sizeof_fmt(num, suffix='B'):\n",
        "    for unit in ['','Ki','Mi','Gi','Ti','Pi','Ei','Zi']:\n",
        "        if abs(num) < 1024.0:\n",
        "            return \"%3.1f%s%s\" % (num, unit, suffix)\n",
        "        num /= 1024.0\n",
        "    return \"%.1f%s%s\" % (num, 'Yi', suffix)"
      ],
      "execution_count": null,
      "outputs": []
    },
    {
      "cell_type": "code",
      "metadata": {
        "_kg_hide-input": true,
        "_kg_hide-output": true,
        "execution": {
          "iopub.status.busy": "2021-10-09T12:45:19.117618Z",
          "iopub.execute_input": "2021-10-09T12:45:19.118155Z",
          "iopub.status.idle": "2021-10-09T12:45:19.135213Z",
          "shell.execute_reply.started": "2021-10-09T12:45:19.117990Z",
          "shell.execute_reply": "2021-10-09T12:45:19.134404Z"
        },
        "trusted": true,
        "id": "J2jC32YqR6Fu"
      },
      "source": [
        "########################### Model\n",
        "SEED = 42\n",
        "LOCAL_TEST = False\n",
        "\n",
        "def make_predictions(tr_df, tt_df, features_columns, target, cat_params, NFOLDS=4, kfold_mode='grouped'):\n",
        "    \n",
        "    X,y = tr_df[features_columns], tr_df[target]    \n",
        "    P,P_y = tt_df[features_columns], tt_df[target]  \n",
        "    split_groups = tr_df['DT_M']\n",
        "\n",
        "    tt_df = tt_df[['TransactionID',target]] \n",
        "    tr_df = tr_df[['TransactionID',target]] \n",
        "    \n",
        "    predictions = np.zeros(len(tt_df))\n",
        "    oof = np.zeros(len(tr_df))\n",
        "\n",
        "    if kfold_mode=='grouped':\n",
        "        folds = GroupKFold(n_splits=NFOLDS)\n",
        "        folds_split = folds.split(X, y, groups=split_groups)\n",
        "    else:\n",
        "        folds = KFold(n_splits=NFOLDS, shuffle=True, random_state=SEED)\n",
        "        folds_split = folds.split(X, y)\n",
        "\n",
        "    for fold_, (trn_idx, val_idx) in enumerate(folds_split):        \n",
        "        print('Fold:',fold_)\n",
        "        \n",
        "        estimator = CatBoostClassifier(**cat_params)        \n",
        "        estimator.fit(\n",
        "            X.iloc[trn_idx,:],y[trn_idx],\n",
        "            eval_set=(X.iloc[val_idx,:], y[val_idx]),\n",
        "            cat_features=categorical_features,\n",
        "            use_best_model=True,\n",
        "            verbose=True)\n",
        "        \n",
        "        pp_p = estimator.predict_proba(P)[:,1]\n",
        "        predictions += pp_p/NFOLDS\n",
        "        \n",
        "        oof_preds = estimator.predict_proba(X.iloc[val_idx,:])[:,1]\n",
        "        oof[val_idx] = (oof_preds - oof_preds.min())/(oof_preds.max() - oof_preds.min())\n",
        "        \n",
        "        del estimator\n",
        "        gc.collect()\n",
        "        \n",
        "    tt_df['prediction'] = predictions\n",
        "    print('OOF AUC:', metrics.roc_auc_score(y, oof))\n",
        "    if LOCAL_TEST:\n",
        "        print('Holdout AUC:', metrics.roc_auc_score(tt_df[TARGET], tt_df['prediction']))\n",
        "    \n",
        "    return tt_df\n",
        "## -------------------"
      ],
      "execution_count": null,
      "outputs": []
    },
    {
      "cell_type": "code",
      "metadata": {
        "execution": {
          "iopub.status.busy": "2021-10-09T12:45:19.136709Z",
          "iopub.execute_input": "2021-10-09T12:45:19.136947Z",
          "iopub.status.idle": "2021-10-09T12:45:19.146860Z",
          "shell.execute_reply.started": "2021-10-09T12:45:19.136895Z",
          "shell.execute_reply": "2021-10-09T12:45:19.146037Z"
        },
        "trusted": true,
        "id": "xlZcNp2hR6Fv"
      },
      "source": [
        "########################### Vars\n",
        "TARGET = 'isFraud'\n",
        "START_DATE = datetime.datetime.strptime('2017-11-30', '%Y-%m-%d')"
      ],
      "execution_count": null,
      "outputs": []
    },
    {
      "cell_type": "code",
      "metadata": {
        "execution": {
          "iopub.status.busy": "2021-10-09T12:45:19.151203Z",
          "iopub.execute_input": "2021-10-09T12:45:19.151543Z",
          "iopub.status.idle": "2021-10-09T12:45:19.158704Z",
          "shell.execute_reply.started": "2021-10-09T12:45:19.151461Z",
          "shell.execute_reply": "2021-10-09T12:45:19.157789Z"
        },
        "trusted": true,
        "id": "aSHrKg7FR6Fv"
      },
      "source": [
        "########################### Model params\n",
        "cat_params = {\n",
        "                'n_estimators':5000,\n",
        "                # 'learning_rate': 0.07,\n",
        "                'eval_metric':'AUC',\n",
        "                'loss_function':'Logloss',\n",
        "                'random_seed':SEED,\n",
        "                # 'metric_period':500,\n",
        "                # 'od_wait':500,\n",
        "                # 'task_type':'GPU',\n",
        "                # 'depth': 8,\n",
        "                #'colsample_bylevel':0.7,\n",
        "                } "
      ],
      "execution_count": null,
      "outputs": []
    },
    {
      "cell_type": "code",
      "source": [
        "from google.colab import drive\n",
        "drive.mount('/content/ML')"
      ],
      "metadata": {
        "colab": {
          "base_uri": "https://localhost:8080/"
        },
        "id": "3s1WwhPvrLrC",
        "outputId": "1c8347b3-7061-4658-d2ef-1646d1ffb838"
      },
      "execution_count": null,
      "outputs": [
        {
          "output_type": "stream",
          "name": "stdout",
          "text": [
            "Mounted at /content/ML\n"
          ]
        }
      ]
    },
    {
      "cell_type": "code",
      "source": [
        "import pandas as pd\n",
        "remove_features = pd.read_pickle(r'./ML/Shareddrives/NCKH2021/Data/Nghia/FE-with-EDA/remove_features.pkl')"
      ],
      "metadata": {
        "id": "dGLx6ybVrK5K"
      },
      "execution_count": null,
      "outputs": []
    },
    {
      "cell_type": "code",
      "source": [
        "restore_features = [\n",
        "                    'uid','uid2','uid3','uid4','uid5','bank_type',\n",
        "                    ]\n"
      ],
      "metadata": {
        "id": "phsdFRDbtWW8"
      },
      "execution_count": null,
      "outputs": []
    },
    {
      "cell_type": "code",
      "source": [
        "remove_features"
      ],
      "metadata": {
        "colab": {
          "base_uri": "https://localhost:8080/",
          "height": 645
        },
        "id": "15ErGrTWtNor",
        "outputId": "46ecbc4a-333d-4b90-d5ec-26aaee77627f"
      },
      "execution_count": null,
      "outputs": [
        {
          "output_type": "execute_result",
          "data": {
            "text/html": [
              "\n",
              "  <div id=\"df-08ac87fa-84f0-447e-ae05-7ed2422ac74f\">\n",
              "    <div class=\"colab-df-container\">\n",
              "      <div>\n",
              "<style scoped>\n",
              "    .dataframe tbody tr th:only-of-type {\n",
              "        vertical-align: middle;\n",
              "    }\n",
              "\n",
              "    .dataframe tbody tr th {\n",
              "        vertical-align: top;\n",
              "    }\n",
              "\n",
              "    .dataframe thead th {\n",
              "        text-align: right;\n",
              "    }\n",
              "</style>\n",
              "<table border=\"1\" class=\"dataframe\">\n",
              "  <thead>\n",
              "    <tr style=\"text-align: right;\">\n",
              "      <th></th>\n",
              "      <th>features_to_remove</th>\n",
              "    </tr>\n",
              "  </thead>\n",
              "  <tbody>\n",
              "    <tr>\n",
              "      <th>0</th>\n",
              "      <td>TransactionID</td>\n",
              "    </tr>\n",
              "    <tr>\n",
              "      <th>1</th>\n",
              "      <td>TransactionDT</td>\n",
              "    </tr>\n",
              "    <tr>\n",
              "      <th>2</th>\n",
              "      <td>isFraud</td>\n",
              "    </tr>\n",
              "    <tr>\n",
              "      <th>3</th>\n",
              "      <td>DT</td>\n",
              "    </tr>\n",
              "    <tr>\n",
              "      <th>4</th>\n",
              "      <td>DT_M</td>\n",
              "    </tr>\n",
              "    <tr>\n",
              "      <th>5</th>\n",
              "      <td>DT_W</td>\n",
              "    </tr>\n",
              "    <tr>\n",
              "      <th>6</th>\n",
              "      <td>DT_D</td>\n",
              "    </tr>\n",
              "    <tr>\n",
              "      <th>7</th>\n",
              "      <td>DT_hour</td>\n",
              "    </tr>\n",
              "    <tr>\n",
              "      <th>8</th>\n",
              "      <td>DT_day_week</td>\n",
              "    </tr>\n",
              "    <tr>\n",
              "      <th>9</th>\n",
              "      <td>DT_day_month</td>\n",
              "    </tr>\n",
              "    <tr>\n",
              "      <th>10</th>\n",
              "      <td>DT_M_total</td>\n",
              "    </tr>\n",
              "    <tr>\n",
              "      <th>11</th>\n",
              "      <td>DT_W_total</td>\n",
              "    </tr>\n",
              "    <tr>\n",
              "      <th>12</th>\n",
              "      <td>DT_D_total</td>\n",
              "    </tr>\n",
              "    <tr>\n",
              "      <th>13</th>\n",
              "      <td>uid</td>\n",
              "    </tr>\n",
              "    <tr>\n",
              "      <th>14</th>\n",
              "      <td>uid2</td>\n",
              "    </tr>\n",
              "    <tr>\n",
              "      <th>15</th>\n",
              "      <td>uid3</td>\n",
              "    </tr>\n",
              "    <tr>\n",
              "      <th>16</th>\n",
              "      <td>uid4</td>\n",
              "    </tr>\n",
              "    <tr>\n",
              "      <th>17</th>\n",
              "      <td>uid5</td>\n",
              "    </tr>\n",
              "    <tr>\n",
              "      <th>18</th>\n",
              "      <td>bank_type</td>\n",
              "    </tr>\n",
              "  </tbody>\n",
              "</table>\n",
              "</div>\n",
              "      <button class=\"colab-df-convert\" onclick=\"convertToInteractive('df-08ac87fa-84f0-447e-ae05-7ed2422ac74f')\"\n",
              "              title=\"Convert this dataframe to an interactive table.\"\n",
              "              style=\"display:none;\">\n",
              "        \n",
              "  <svg xmlns=\"http://www.w3.org/2000/svg\" height=\"24px\"viewBox=\"0 0 24 24\"\n",
              "       width=\"24px\">\n",
              "    <path d=\"M0 0h24v24H0V0z\" fill=\"none\"/>\n",
              "    <path d=\"M18.56 5.44l.94 2.06.94-2.06 2.06-.94-2.06-.94-.94-2.06-.94 2.06-2.06.94zm-11 1L8.5 8.5l.94-2.06 2.06-.94-2.06-.94L8.5 2.5l-.94 2.06-2.06.94zm10 10l.94 2.06.94-2.06 2.06-.94-2.06-.94-.94-2.06-.94 2.06-2.06.94z\"/><path d=\"M17.41 7.96l-1.37-1.37c-.4-.4-.92-.59-1.43-.59-.52 0-1.04.2-1.43.59L10.3 9.45l-7.72 7.72c-.78.78-.78 2.05 0 2.83L4 21.41c.39.39.9.59 1.41.59.51 0 1.02-.2 1.41-.59l7.78-7.78 2.81-2.81c.8-.78.8-2.07 0-2.86zM5.41 20L4 18.59l7.72-7.72 1.47 1.35L5.41 20z\"/>\n",
              "  </svg>\n",
              "      </button>\n",
              "      \n",
              "  <style>\n",
              "    .colab-df-container {\n",
              "      display:flex;\n",
              "      flex-wrap:wrap;\n",
              "      gap: 12px;\n",
              "    }\n",
              "\n",
              "    .colab-df-convert {\n",
              "      background-color: #E8F0FE;\n",
              "      border: none;\n",
              "      border-radius: 50%;\n",
              "      cursor: pointer;\n",
              "      display: none;\n",
              "      fill: #1967D2;\n",
              "      height: 32px;\n",
              "      padding: 0 0 0 0;\n",
              "      width: 32px;\n",
              "    }\n",
              "\n",
              "    .colab-df-convert:hover {\n",
              "      background-color: #E2EBFA;\n",
              "      box-shadow: 0px 1px 2px rgba(60, 64, 67, 0.3), 0px 1px 3px 1px rgba(60, 64, 67, 0.15);\n",
              "      fill: #174EA6;\n",
              "    }\n",
              "\n",
              "    [theme=dark] .colab-df-convert {\n",
              "      background-color: #3B4455;\n",
              "      fill: #D2E3FC;\n",
              "    }\n",
              "\n",
              "    [theme=dark] .colab-df-convert:hover {\n",
              "      background-color: #434B5C;\n",
              "      box-shadow: 0px 1px 3px 1px rgba(0, 0, 0, 0.15);\n",
              "      filter: drop-shadow(0px 1px 2px rgba(0, 0, 0, 0.3));\n",
              "      fill: #FFFFFF;\n",
              "    }\n",
              "  </style>\n",
              "\n",
              "      <script>\n",
              "        const buttonEl =\n",
              "          document.querySelector('#df-08ac87fa-84f0-447e-ae05-7ed2422ac74f button.colab-df-convert');\n",
              "        buttonEl.style.display =\n",
              "          google.colab.kernel.accessAllowed ? 'block' : 'none';\n",
              "\n",
              "        async function convertToInteractive(key) {\n",
              "          const element = document.querySelector('#df-08ac87fa-84f0-447e-ae05-7ed2422ac74f');\n",
              "          const dataTable =\n",
              "            await google.colab.kernel.invokeFunction('convertToInteractive',\n",
              "                                                     [key], {});\n",
              "          if (!dataTable) return;\n",
              "\n",
              "          const docLinkHtml = 'Like what you see? Visit the ' +\n",
              "            '<a target=\"_blank\" href=https://colab.research.google.com/notebooks/data_table.ipynb>data table notebook</a>'\n",
              "            + ' to learn more about interactive tables.';\n",
              "          element.innerHTML = '';\n",
              "          dataTable['output_type'] = 'display_data';\n",
              "          await google.colab.output.renderOutput(dataTable, element);\n",
              "          const docLink = document.createElement('div');\n",
              "          docLink.innerHTML = docLinkHtml;\n",
              "          element.appendChild(docLink);\n",
              "        }\n",
              "      </script>\n",
              "    </div>\n",
              "  </div>\n",
              "  "
            ],
            "text/plain": [
              "   features_to_remove\n",
              "0       TransactionID\n",
              "1       TransactionDT\n",
              "2             isFraud\n",
              "3                  DT\n",
              "4                DT_M\n",
              "5                DT_W\n",
              "6                DT_D\n",
              "7             DT_hour\n",
              "8         DT_day_week\n",
              "9        DT_day_month\n",
              "10         DT_M_total\n",
              "11         DT_W_total\n",
              "12         DT_D_total\n",
              "13                uid\n",
              "14               uid2\n",
              "15               uid3\n",
              "16               uid4\n",
              "17               uid5\n",
              "18          bank_type"
            ]
          },
          "metadata": {},
          "execution_count": 3
        }
      ]
    },
    {
      "cell_type": "code",
      "metadata": {
        "execution": {
          "iopub.status.busy": "2021-10-09T12:45:19.161463Z",
          "iopub.execute_input": "2021-10-09T12:45:19.162017Z",
          "iopub.status.idle": "2021-10-09T12:45:44.290360Z",
          "shell.execute_reply.started": "2021-10-09T12:45:19.161703Z",
          "shell.execute_reply": "2021-10-09T12:45:44.289449Z"
        },
        "trusted": true,
        "id": "t_U5WwJ-R6Fw"
      },
      "source": [
        "########################### DATA LOAD\n",
        "#################################################################################\n",
        "df = pd.read_pickle('../Nghia/FE-with-EDA/train_df.pkl')\n",
        "remove_features = pd.read_pickle('../Nghia/FE-with-EDA/remove_features.pkl')\n",
        "remove_features = list(remove_features['features_to_remove'].values)\n",
        "print('Done')"
      ],
      "execution_count": null,
      "outputs": []
    },
    {
      "cell_type": "code",
      "metadata": {
        "execution": {
          "iopub.status.busy": "2021-10-09T12:45:44.293395Z",
          "iopub.execute_input": "2021-10-09T12:45:44.293629Z",
          "iopub.status.idle": "2021-10-09T12:45:44.299225Z",
          "shell.execute_reply.started": "2021-10-09T12:45:44.293585Z",
          "shell.execute_reply": "2021-10-09T12:45:44.298419Z"
        },
        "trusted": true,
        "id": "Bb77CBmVR6Fw"
      },
      "source": [
        "#df.describe"
      ],
      "execution_count": null,
      "outputs": []
    },
    {
      "cell_type": "code",
      "metadata": {
        "execution": {
          "iopub.status.busy": "2021-10-09T12:45:44.301398Z",
          "iopub.execute_input": "2021-10-09T12:45:44.301722Z",
          "iopub.status.idle": "2021-10-09T12:45:50.362077Z",
          "shell.execute_reply.started": "2021-10-09T12:45:44.301674Z",
          "shell.execute_reply": "2021-10-09T12:45:50.360588Z"
        },
        "trusted": true,
        "id": "6aKbJd0pR6Fw"
      },
      "source": [
        "########################### Encode NaN goups\n",
        "nans_groups = {}\n",
        "temp_df = df.isna()\n",
        "nans_df = temp_df.copy()\n",
        "\n",
        "for col in list(nans_df):\n",
        "    cur_group = nans_df[col].sum()\n",
        "    if cur_group>0:\n",
        "        try:\n",
        "            nans_groups[cur_group].append(col)\n",
        "        except:\n",
        "            nans_groups[cur_group]=[col]\n",
        "\n",
        "add_category = []\n",
        "for col in nans_groups:\n",
        "    if len(nans_groups[col])>1:\n",
        "        df['nan_group_'+str(col)] = np.where(temp_df[nans_groups[col]].sum(axis=1)>0,1,0).astype(np.int8)\n",
        "        add_category.append('nan_group_'+str(col))\n",
        "        \n",
        "del temp_df, nans_df, nans_groups"
      ],
      "execution_count": null,
      "outputs": []
    },
    {
      "cell_type": "code",
      "metadata": {
        "execution": {
          "iopub.status.busy": "2021-10-09T12:45:50.365154Z",
          "iopub.execute_input": "2021-10-09T12:45:50.365529Z",
          "iopub.status.idle": "2021-10-09T12:46:03.172317Z",
          "shell.execute_reply.started": "2021-10-09T12:45:50.365477Z",
          "shell.execute_reply": "2021-10-09T12:46:03.171520Z"
        },
        "trusted": true,
        "id": "RV6HRP48R6Fw"
      },
      "source": [
        "########################### Copy original Categorical features\n",
        "categorical_features = ['ProductCD','M4',\n",
        "                        'card1','card2','card3','card4','card5','card6',\n",
        "                        'addr1','addr2','dist1','dist2',\n",
        "                        'P_emaildomain','R_emaildomain',\n",
        "                       ]\n",
        "\n",
        "o_trans = pd.concat([pd.read_pickle('../input/ieee-data-minification/train_transaction.pkl'),\n",
        "                     pd.read_pickle('../input/ieee-data-minification/test_transaction.pkl')])\n",
        "\n",
        "o_ident = pd.concat([pd.read_pickle('../input/ieee-data-minification/train_identity.pkl'),\n",
        "                     pd.read_pickle('../input/ieee-data-minification/test_identity.pkl')])\n",
        "\n"
      ],
      "execution_count": null,
      "outputs": []
    },
    {
      "cell_type": "code",
      "metadata": {
        "execution": {
          "iopub.status.busy": "2021-10-09T12:46:03.173688Z",
          "iopub.execute_input": "2021-10-09T12:46:03.173992Z",
          "iopub.status.idle": "2021-10-09T12:46:09.128047Z",
          "shell.execute_reply.started": "2021-10-09T12:46:03.173930Z",
          "shell.execute_reply": "2021-10-09T12:46:09.127096Z"
        },
        "trusted": true,
        "id": "QW_B-akCR6Fw"
      },
      "source": [
        "o_trans = o_trans.merge(o_ident, on=['TransactionID'], how='left')\n",
        "o_trans = o_trans[['TransactionID'] + categorical_features]\n",
        "o_features = categorical_features.copy()\n",
        "categorical_features = [col+'_cat' for col in categorical_features]\n",
        "o_trans.columns = ['TransactionID'] + categorical_features\n",
        "del o_ident\n"
      ],
      "execution_count": null,
      "outputs": []
    },
    {
      "cell_type": "code",
      "metadata": {
        "execution": {
          "iopub.status.busy": "2021-10-09T12:46:09.129543Z",
          "iopub.execute_input": "2021-10-09T12:46:09.129848Z",
          "iopub.status.idle": "2021-10-09T12:46:11.505203Z",
          "shell.execute_reply.started": "2021-10-09T12:46:09.129794Z",
          "shell.execute_reply": "2021-10-09T12:46:11.504440Z"
        },
        "trusted": true,
        "id": "-6YpL94xR6Fx"
      },
      "source": [
        "temp_df = df[['TransactionID']]\n",
        "temp_df = temp_df.merge(o_trans, on=['TransactionID'], how='left')\n",
        "del temp_df['TransactionID']\n",
        "df = pd.concat([df, temp_df], axis=1)\n"
      ],
      "execution_count": null,
      "outputs": []
    },
    {
      "cell_type": "code",
      "metadata": {
        "execution": {
          "iopub.status.busy": "2021-10-09T12:46:11.506824Z",
          "iopub.execute_input": "2021-10-09T12:46:11.507272Z",
          "iopub.status.idle": "2021-10-09T12:46:12.746289Z",
          "shell.execute_reply.started": "2021-10-09T12:46:11.507111Z",
          "shell.execute_reply": "2021-10-09T12:46:12.745557Z"
        },
        "trusted": true,
        "id": "zP9HxjcnR6Fx"
      },
      "source": [
        "for col in o_features:\n",
        "    if df[col].equals(df[col+'_cat']):\n",
        "        print('No transformation (keep only categorical)', col)\n",
        "        del df[col]\n",
        "        \n",
        "    col = col+'_cat'    \n",
        "    df[col] = df[col].fillna(-999)\n",
        "    \n",
        "\n",
        "categorical_features += add_category"
      ],
      "execution_count": null,
      "outputs": []
    },
    {
      "cell_type": "code",
      "metadata": {
        "execution": {
          "iopub.status.busy": "2021-10-09T12:46:12.747578Z",
          "iopub.execute_input": "2021-10-09T12:46:12.747880Z",
          "iopub.status.idle": "2021-10-09T12:46:12.752042Z",
          "shell.execute_reply.started": "2021-10-09T12:46:12.747833Z",
          "shell.execute_reply": "2021-10-09T12:46:12.751168Z"
        },
        "trusted": true,
        "id": "BisoqXyoR6Fx"
      },
      "source": [
        "#o_features"
      ],
      "execution_count": null,
      "outputs": []
    },
    {
      "cell_type": "code",
      "metadata": {
        "execution": {
          "iopub.status.busy": "2021-10-09T12:46:12.753182Z",
          "iopub.execute_input": "2021-10-09T12:46:12.753453Z",
          "iopub.status.idle": "2021-10-09T12:46:41.535036Z",
          "shell.execute_reply.started": "2021-10-09T12:46:12.753405Z",
          "shell.execute_reply": "2021-10-09T12:46:41.534315Z"
        },
        "trusted": true,
        "id": "kgjemBFMR6Fx"
      },
      "source": [
        "########################### Transform Heavy Dominated columns\n",
        "total_items = len(df)\n",
        "keep_cols = [TARGET,'C3_fq_enc']\n",
        "\n",
        "for col in list(df):\n",
        "    if df[col].dtype.name!='category':\n",
        "        cur_dominator = list(df[col].fillna(-999).value_counts())[0]\n",
        "        if (cur_dominator/total_items > 0.85) and (col not in keep_cols):\n",
        "            cur_dominator = df[col].fillna(-999).value_counts().index[0]\n",
        "            print('Column:', col, ' | Dominator:', cur_dominator)\n",
        "            df[col] = np.where(df[col].fillna(-999)==cur_dominator,1,0)\n",
        "            \n",
        "            df[col] = df[col].fillna(-999).astype(int)\n",
        "            \n",
        "            if col not in categorical_features:\n",
        "                categorical_features.append(col)\n",
        "                \n",
        "categorical_features +=['D8_not_same_day','TransactionAmt_check']"
      ],
      "execution_count": null,
      "outputs": []
    },
    {
      "cell_type": "code",
      "metadata": {
        "execution": {
          "iopub.status.busy": "2021-10-09T12:46:41.536435Z",
          "iopub.execute_input": "2021-10-09T12:46:41.536732Z",
          "iopub.status.idle": "2021-10-09T12:46:41.544629Z",
          "shell.execute_reply.started": "2021-10-09T12:46:41.536685Z",
          "shell.execute_reply": "2021-10-09T12:46:41.543735Z"
        },
        "trusted": true,
        "id": "q-WefT3uR6Fx"
      },
      "source": [
        "########################### Restore some categorical features\n",
        "## These features weren't useful for lgbm\n",
        "## but catboost can use it\n",
        "restore_features = [\n",
        "                    'uid','uid2','uid3','uid4','uid5','bank_type',\n",
        "                    ]\n",
        "\n",
        "for col in restore_features:\n",
        "    categorical_features.append(col)\n",
        "    remove_features.remove(col)"
      ],
      "execution_count": null,
      "outputs": []
    },
    {
      "cell_type": "code",
      "metadata": {
        "execution": {
          "iopub.status.busy": "2021-10-09T12:46:41.545970Z",
          "iopub.execute_input": "2021-10-09T12:46:41.546301Z",
          "iopub.status.idle": "2021-10-09T12:46:50.925614Z",
          "shell.execute_reply.started": "2021-10-09T12:46:41.546201Z",
          "shell.execute_reply": "2021-10-09T12:46:50.924799Z"
        },
        "trusted": true,
        "id": "OpNBViX6R6Fy"
      },
      "source": [
        "########################### Remove 100% duplicated columns\n",
        "cols_sum = {}\n",
        "bad_types = ['datetime64[ns]', 'category','object']\n",
        "\n",
        "for col in list(df):\n",
        "    if df[col].dtype.name not in bad_types:\n",
        "        cur_col = df[col].values\n",
        "        cur_sum = cur_col.mean()\n",
        "        try:\n",
        "            cols_sum[cur_sum].append(col)\n",
        "        except:\n",
        "            cols_sum[cur_sum] = [col]\n",
        "\n",
        "cols_sum = {k:v for k,v in cols_sum.items() if len(v)>1}   \n",
        "\n",
        "for k,v in cols_sum.items():\n",
        "    for col in v[1:]:\n",
        "        if df[v[0]].equals(df[col]):\n",
        "            print('Duplicate', col)\n",
        "            del df[col]"
      ],
      "execution_count": null,
      "outputs": []
    },
    {
      "cell_type": "code",
      "metadata": {
        "execution": {
          "iopub.status.busy": "2021-10-09T12:46:50.928730Z",
          "iopub.execute_input": "2021-10-09T12:46:50.929067Z",
          "iopub.status.idle": "2021-10-09T12:47:28.239233Z",
          "shell.execute_reply.started": "2021-10-09T12:46:50.928924Z",
          "shell.execute_reply": "2021-10-09T12:47:28.238380Z"
        },
        "trusted": true,
        "id": "TfXLX9L5R6Fy"
      },
      "source": [
        "########################### Encode Str columns\n",
        "# As we restored some original features\n",
        "# we nned to run LabelEncoder to reduce\n",
        "# memory usage and garant that there are no nans\n",
        "for col in list(df):\n",
        "    if df[col].dtype=='O':\n",
        "        print(col)\n",
        "        df[col] = df[col].fillna('unseen_before_label')\n",
        "        \n",
        "        df[col] = df[col].astype(str)\n",
        "        \n",
        "        le = LabelEncoder()\n",
        "        le.fit(list(df[col]))\n",
        "        df[col] = le.transform(df[col])\n",
        "        \n",
        "    elif col in categorical_features:\n",
        "        df[col] = df[col].astype(float).fillna(-999)\n",
        "        \n",
        "        le = LabelEncoder()\n",
        "        le.fit(list(df[col]))\n",
        "        df[col] = le.transform(df[col])\n",
        "        "
      ],
      "execution_count": null,
      "outputs": []
    },
    {
      "cell_type": "code",
      "metadata": {
        "execution": {
          "iopub.status.busy": "2021-10-09T12:47:28.246359Z",
          "iopub.execute_input": "2021-10-09T12:47:28.246895Z",
          "iopub.status.idle": "2021-10-09T12:48:16.766520Z",
          "shell.execute_reply.started": "2021-10-09T12:47:28.246623Z",
          "shell.execute_reply": "2021-10-09T12:48:16.765718Z"
        },
        "trusted": true,
        "id": "X5Z1u5n2R6Fy"
      },
      "source": [
        "########################### Final features list\n",
        "features_columns = [col for col in list(df) if col not in remove_features]\n",
        "categorical_features = [col for col in categorical_features if col in features_columns]\n",
        "\n",
        "########################### Final Minification\n",
        "## I don't like this part as it changes float numbers\n",
        "## small change but change.\n",
        "## To be able to train catboost without \n",
        "## minification we need to do some changes on model\n",
        "## we will do it later.\n",
        "if not LOCAL_TEST:\n",
        "    df = reduce_mem_usage(df)\n",
        "    \n",
        "df = df[['TransactionID','DT_M',TARGET] + features_columns]\n",
        "gc.collect()"
      ],
      "execution_count": null,
      "outputs": []
    },
    {
      "cell_type": "code",
      "metadata": {
        "execution": {
          "iopub.status.busy": "2021-10-09T12:48:16.767790Z",
          "iopub.execute_input": "2021-10-09T12:48:16.768266Z",
          "iopub.status.idle": "2021-10-09T12:48:19.928499Z",
          "shell.execute_reply.started": "2021-10-09T12:48:16.768204Z",
          "shell.execute_reply": "2021-10-09T12:48:19.927278Z"
        },
        "trusted": true,
        "id": "Byt71rI0R6Fy"
      },
      "source": [
        "########################### Cleaning\n",
        "# Check what variables consume memory\n",
        "for name, size in sorted(((name, sys.getsizeof(value)) for name,value in locals().items()),\n",
        "                         key= lambda x: -x[1])[:10]:\n",
        "    print(\"{:>30}: {:>8}\".format(name,sizeof_fmt(size)))\n",
        "print('Memory in Gb', get_memory_usage())\n",
        "\n",
        "# Confirm thar variable exist\n",
        "temp_df = 0\n",
        "\n",
        "del temp_df\n",
        "gc.collect()"
      ],
      "execution_count": null,
      "outputs": []
    },
    {
      "cell_type": "code",
      "metadata": {
        "execution": {
          "iopub.status.busy": "2021-10-09T12:48:19.930001Z",
          "iopub.execute_input": "2021-10-09T12:48:19.930407Z",
          "iopub.status.idle": "2021-10-09T12:48:23.633424Z",
          "shell.execute_reply.started": "2021-10-09T12:48:19.930233Z",
          "shell.execute_reply": "2021-10-09T12:48:23.632698Z"
        },
        "trusted": true,
        "id": "j6YgoRnnR6Fz"
      },
      "source": [
        "temp_features = [col for col in list(df) if col!='isFraud']\n",
        "X = df[temp_features]\n",
        "y = df['isFraud']\n",
        "del df\n",
        "X_train, X_test, y_train, y_test = train_test_split(X, y, test_size=0.3, random_state=SEED)"
      ],
      "execution_count": null,
      "outputs": []
    },
    {
      "cell_type": "code",
      "metadata": {
        "execution": {
          "iopub.status.busy": "2021-10-09T12:48:23.635128Z",
          "iopub.execute_input": "2021-10-09T12:48:23.635441Z",
          "iopub.status.idle": "2021-10-09T12:48:24.986812Z",
          "shell.execute_reply.started": "2021-10-09T12:48:23.635394Z",
          "shell.execute_reply": "2021-10-09T12:48:24.985916Z"
        },
        "trusted": true,
        "id": "4pl7goJSR6Fz"
      },
      "source": [
        "########################### Model Train\n",
        "\n",
        "# Why NFOLDS = 6 -> we have 6 months -> let's split it by month))\n",
        "NFOLDS = 6\n",
        "folds = GroupKFold(n_splits=NFOLDS)\n",
        "\n",
        "X,y = X_train[features_columns], y_train    \n",
        "P,P_y = X_test[features_columns], y_test  "
      ],
      "execution_count": null,
      "outputs": []
    },
    {
      "cell_type": "code",
      "metadata": {
        "execution": {
          "iopub.status.busy": "2021-10-09T12:48:24.988236Z",
          "iopub.execute_input": "2021-10-09T12:48:24.988550Z",
          "iopub.status.idle": "2021-10-09T12:48:25.085360Z",
          "shell.execute_reply.started": "2021-10-09T12:48:24.988504Z",
          "shell.execute_reply": "2021-10-09T12:48:25.084645Z"
        },
        "trusted": true,
        "id": "xg8xGmF_R6Fz"
      },
      "source": [
        "split_groups = X_train['DT_M']\n",
        "# We don't need original sets anymore\n",
        "# let's reduce it\n",
        "train_df = pd.concat([X_train['TransactionID'], y_train], axis=1)\n",
        "test_df = pd.concat([X_test['TransactionID'], y_test], axis=1)\n",
        "test_df['prediction'] = 0\n",
        "gc.collect()\n",
        "\n",
        "oof = np.zeros(len(train_df))\n",
        "predictions = np.zeros(len(test_df))"
      ],
      "execution_count": null,
      "outputs": []
    },
    {
      "cell_type": "code",
      "metadata": {
        "execution": {
          "iopub.status.busy": "2021-10-09T13:27:07.021750Z",
          "iopub.execute_input": "2021-10-09T13:27:07.022102Z",
          "iopub.status.idle": "2021-10-09T13:27:07.057966Z",
          "shell.execute_reply.started": "2021-10-09T13:27:07.022033Z",
          "shell.execute_reply": "2021-10-09T13:27:07.056690Z"
        },
        "trusted": true,
        "id": "jvUyziYyR6Fz"
      },
      "source": [
        "X = X.fillna(-999)"
      ],
      "execution_count": null,
      "outputs": []
    },
    {
      "cell_type": "code",
      "metadata": {
        "execution": {
          "iopub.status.busy": "2021-10-09T13:30:07.394018Z",
          "iopub.execute_input": "2021-10-09T13:30:07.394320Z",
          "iopub.status.idle": "2021-10-09T14:37:09.657243Z",
          "shell.execute_reply.started": "2021-10-09T13:30:07.394271Z",
          "shell.execute_reply": "2021-10-09T14:37:09.656530Z"
        },
        "trusted": true,
        "id": "r_KVvw1VR6Fz"
      },
      "source": [
        "\n",
        "for fold_, (trn_idx, val_idx) in enumerate(folds.split(X, y, groups=split_groups)):\n",
        "    print('Fold:',fold_)\n",
        "\n",
        "    estimator = CatBoostClassifier(**cat_params)        \n",
        "    estimator.fit(\n",
        "        X.iloc[trn_idx,:],y.iloc[trn_idx],\n",
        "        eval_set=(X.iloc[val_idx,:], y.iloc[val_idx]),\n",
        "        cat_features=categorical_features,\n",
        "        use_best_model=True,\n",
        "        verbose=True)\n",
        "\n",
        "    oof_preds = estimator.predict_proba(X.iloc[val_idx,:])[:,1]\n",
        "    oof[val_idx] = (oof_preds - oof_preds.min())/(oof_preds.max() - oof_preds.min())\n",
        "    test_df['prediction'] += estimator.predict_proba(P)[:,1]/NFOLDS\n",
        "\n",
        "    del estimator\n",
        "    gc.collect()\n",
        "\n",
        "print('OOF AUC:', metrics.roc_auc_score(y, oof))"
      ],
      "execution_count": null,
      "outputs": []
    },
    {
      "cell_type": "code",
      "metadata": {
        "execution": {
          "iopub.status.busy": "2021-10-09T14:44:13.575747Z",
          "iopub.execute_input": "2021-10-09T14:44:13.576056Z",
          "iopub.status.idle": "2021-10-09T14:44:14.672814Z",
          "shell.execute_reply.started": "2021-10-09T14:44:13.576002Z",
          "shell.execute_reply": "2021-10-09T14:44:14.672091Z"
        },
        "trusted": true,
        "id": "fYsZRJzHR6Fz"
      },
      "source": [
        "########################### Export\n",
        "if not LOCAL_TEST:\n",
        "    #test_df['isFraud'] = test_df['prediction']\n",
        "    test_df[['TransactionID','isFraud','prediction']].to_csv('catboost-v1.csv', index=False)"
      ],
      "execution_count": null,
      "outputs": []
    },
    {
      "cell_type": "code",
      "metadata": {
        "execution": {
          "iopub.status.busy": "2021-10-09T15:25:29.967558Z",
          "iopub.execute_input": "2021-10-09T15:25:29.967849Z",
          "iopub.status.idle": "2021-10-09T15:25:29.975400Z",
          "shell.execute_reply.started": "2021-10-09T15:25:29.967797Z",
          "shell.execute_reply": "2021-10-09T15:25:29.974587Z"
        },
        "trusted": true,
        "id": "8leZs2cuR6F0"
      },
      "source": [
        "from sklearn.metrics import accuracy_score\n",
        "a = np.where(test_df['prediction']>0.2, 1, 0)\n",
        "a"
      ],
      "execution_count": null,
      "outputs": []
    },
    {
      "cell_type": "code",
      "metadata": {
        "execution": {
          "iopub.status.busy": "2021-10-09T15:23:52.271152Z",
          "iopub.execute_input": "2021-10-09T15:23:52.271487Z",
          "iopub.status.idle": "2021-10-09T15:23:53.007625Z",
          "shell.execute_reply.started": "2021-10-09T15:23:52.271423Z",
          "shell.execute_reply": "2021-10-09T15:23:53.006784Z"
        },
        "trusted": true,
        "id": "-vXYY-9jR6F0"
      },
      "source": [
        "#threshold. 0.8\n",
        "cm1 = confusion_matrix(test_df['isFraud'], a)\n",
        "acc1 = accuracy_score(test_df['isFraud'], a)\n",
        "print(str(cm1) + '--------' + str(acc1))"
      ],
      "execution_count": null,
      "outputs": []
    },
    {
      "cell_type": "code",
      "metadata": {
        "execution": {
          "iopub.status.busy": "2021-10-09T15:24:34.775813Z",
          "iopub.execute_input": "2021-10-09T15:24:34.776122Z",
          "iopub.status.idle": "2021-10-09T15:24:35.498363Z",
          "shell.execute_reply.started": "2021-10-09T15:24:34.776067Z",
          "shell.execute_reply": "2021-10-09T15:24:35.497511Z"
        },
        "trusted": true,
        "id": "Qu1bp9eaR6F0"
      },
      "source": [
        "#threshold. 0.7\n",
        "cm2 = confusion_matrix(test_df['isFraud'], a)\n",
        "acc2 = accuracy_score(test_df['isFraud'], a)\n",
        "print(str(cm2) + '--------' + str(acc2))"
      ],
      "execution_count": null,
      "outputs": []
    },
    {
      "cell_type": "code",
      "metadata": {
        "execution": {
          "iopub.status.busy": "2021-10-09T15:25:34.420001Z",
          "iopub.execute_input": "2021-10-09T15:25:34.420296Z",
          "iopub.status.idle": "2021-10-09T15:25:35.150996Z",
          "shell.execute_reply.started": "2021-10-09T15:25:34.420248Z",
          "shell.execute_reply": "2021-10-09T15:25:35.150185Z"
        },
        "trusted": true,
        "id": "INTcMrC3R6F0"
      },
      "source": [
        "#threshold. 0.2\n",
        "cm3 = confusion_matrix(test_df['isFraud'], a)\n",
        "acc3 = accuracy_score(test_df['isFraud'], a)\n",
        "print(str(cm3) + '--------' + str(acc3))"
      ],
      "execution_count": null,
      "outputs": []
    },
    {
      "cell_type": "code",
      "metadata": {
        "execution": {
          "iopub.status.busy": "2021-10-09T15:15:50.145517Z",
          "iopub.execute_input": "2021-10-09T15:15:50.145843Z",
          "iopub.status.idle": "2021-10-09T15:15:50.426582Z",
          "shell.execute_reply.started": "2021-10-09T15:15:50.145790Z",
          "shell.execute_reply": "2021-10-09T15:15:50.425746Z"
        },
        "trusted": true,
        "id": "nTsyDPSAR6F0"
      },
      "source": [
        "from sklearn.metrics import confusion_matrix\n",
        "import matplotlib.pyplot as plt\n",
        "import seaborn as sns\n",
        "\n",
        "plt.hist(test_df['prediction'])"
      ],
      "execution_count": null,
      "outputs": []
    }
  ]
}